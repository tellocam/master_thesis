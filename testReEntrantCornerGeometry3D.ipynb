{
 "cells": [
  {
   "cell_type": "code",
   "execution_count": 1,
   "metadata": {},
   "outputs": [
    {
     "name": "stdout",
     "output_type": "stream",
     "text": [
      "optfile ./ng.opt does not exist - using default values\n",
      "togl-version : 2\n",
      "OCC module loaded\n",
      "loading ngsolve library\n",
      "NGSolve-6.2.2404-16-g8cd9939e2\n",
      "Using Lapack\n",
      "Including sparse direct solver Pardiso\n",
      "Running parallel using 20 thread(s)\n"
     ]
    }
   ],
   "source": [
    "# we load the things!\n",
    "\n",
    "from ngsolve import *\n",
    "import netgen.gui\n",
    "from netgen.occ import *\n",
    "import numpy as np\n",
    "\n",
    "#from ngsolve.meshes import MakeStructured2DMesh\n",
    "#from netgen.geom2d import SplineGeometry"
   ]
  },
  {
   "cell_type": "code",
   "execution_count": null,
   "metadata": {},
   "outputs": [
    {
     "name": "stdout",
     "output_type": "stream",
     "text": [
      " Face 1 / 9 (parameter space projection)\n",
      " Face 2 / 9 (parameter space projection)\n",
      " Face 3 / 9 (parameter space projection)\n",
      " Face 4 / 9 (parameter space projection)\n",
      " Face 5 / 9 (parameter space projection)\n",
      " Face 6 / 9 (parameter space projection)\n",
      " Face 7 / 9 (parameter space projection)\n",
      " Face 8 / 9 (parameter space projection)\n",
      " Face 9 / 9 (parameter space projection)\n",
      " Delaunay meshing\n",
      " Volume Optimization\n"
     ]
    },
    {
     "name": "stdout",
     "output_type": "stream",
     "text": [
      "Thank you for using NGSolve\n"
     ]
    }
   ],
   "source": [
    "largeBrick = Box(Pnt(-0.5, -0.5,-0.5), Pnt(0.5, 0.5, 0.5))\n",
    "smallBrick = Box(Pnt(-0.5, -0.5,-0.5), Pnt(0, 0, 0))\n",
    "\n",
    "reentrantCornerGeo3D = largeBrick - smallBrick\n",
    "h_max = 0.4\n",
    "\n",
    "mesh = Mesh(OCCGeometry(reentrantCornerGeo3D).GenerateMesh(maxh=h_max))\n",
    "#mesh.Refine()\n",
    "#mesh.Refine()\n",
    "Draw(mesh)\n",
    "#print(mesh.GetBoundaries())"
   ]
  }
 ],
 "metadata": {
  "kernelspec": {
   "display_name": "Python 3",
   "language": "python",
   "name": "python3"
  },
  "language_info": {
   "codemirror_mode": {
    "name": "ipython",
    "version": 3
   },
   "file_extension": ".py",
   "mimetype": "text/x-python",
   "name": "python",
   "nbconvert_exporter": "python",
   "pygments_lexer": "ipython3",
   "version": "3.8.10"
  }
 },
 "nbformat": 4,
 "nbformat_minor": 2
}
