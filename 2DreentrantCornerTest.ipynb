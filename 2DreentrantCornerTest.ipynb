{
 "cells": [
  {
   "cell_type": "code",
   "execution_count": 2,
   "metadata": {},
   "outputs": [],
   "source": [
    "# we load the things!\n",
    "\n",
    "from ngsolve import *\n",
    "from ngsolve.webgui import Draw\n",
    "#from netgen.csg import * \n",
    "from netgen.geom2d import SplineGeometry\n",
    "\n",
    "from netgen.occ import *\n",
    "#from netgen.meshing import *\n",
    "\n",
    "import scipy.sparse as sp\n",
    "from scipy.optimize import curve_fit\n",
    "import numpy as np\n",
    "\n",
    "import pandas as pd\n",
    "import matplotlib.pyplot as plt\n",
    "import psutil\n",
    "\n",
    "import os\n",
    "\n"
   ]
  },
  {
   "cell_type": "code",
   "execution_count": 3,
   "metadata": {},
   "outputs": [],
   "source": [
    "def createGeometry(hmax):\n",
    "\n",
    "    wp = WorkPlane()\n",
    "\n",
    "    wp.MoveTo(0, 0)      \n",
    "    wp.LineTo(0, 0.5)\n",
    "    wp.LineTo(-0.5, 0.5)  \n",
    "    wp.LineTo(-0.5, -0.5)\n",
    "    wp.LineTo(0.5, -0.5)\n",
    "    wp.LineTo(0.5, 0)\n",
    "    wp.LineTo(0, 0)\n",
    "    wp.Close()\n",
    "\n",
    "    shape = wp.Face()\n",
    "    geometry = OCCGeometry(shape, dim=2)\n",
    "    reEntrantCornerGeo = Mesh(geometry.GenerateMesh(maxh=hmax))\n",
    "    \n",
    "    return reEntrantCornerGeo"
   ]
  },
  {
   "cell_type": "code",
   "execution_count": 4,
   "metadata": {},
   "outputs": [
    {
     "data": {
      "application/vnd.jupyter.widget-view+json": {
       "model_id": "7e4d2bd71c9c4e81ad16ba9d69dbe4d2",
       "version_major": 2,
       "version_minor": 0
      },
      "text/plain": [
       "WebGuiWidget(layout=Layout(height='50vh', width='100%'), value={'gui_settings': {}, 'ngsolve_version': '6.2.25…"
      ]
     },
     "metadata": {},
     "output_type": "display_data"
    },
    {
     "data": {
      "text/plain": [
       "BaseWebGuiScene"
      ]
     },
     "execution_count": 4,
     "metadata": {},
     "output_type": "execute_result"
    }
   ],
   "source": [
    "mesh = createGeometry(1)\n",
    "mesh.Refine()\n",
    "mesh.Refine()\n",
    "mesh.Refine()\n",
    "\n",
    "\n",
    "Draw(mesh)"
   ]
  }
 ],
 "metadata": {
  "kernelspec": {
   "display_name": "Python (academicVenv)",
   "language": "python",
   "name": "academicvenv"
  },
  "language_info": {
   "codemirror_mode": {
    "name": "ipython",
    "version": 3
   },
   "file_extension": ".py",
   "mimetype": "text/x-python",
   "name": "python",
   "nbconvert_exporter": "python",
   "pygments_lexer": "ipython3",
   "version": "3.12.3"
  }
 },
 "nbformat": 4,
 "nbformat_minor": 2
}
