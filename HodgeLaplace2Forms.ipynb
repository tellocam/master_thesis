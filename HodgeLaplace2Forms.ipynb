{
 "cells": [
  {
   "cell_type": "code",
   "execution_count": 211,
   "metadata": {},
   "outputs": [],
   "source": [
    "# we load the things!\n",
    "\n",
    "from ngsolve import *\n",
    "from ngsolve.webgui import Draw\n",
    "from netgen.csg import *\n",
    "from ngsolve.fem import LeviCivitaSymbol, Einsum\n",
    "\n",
    "import scipy.sparse as sp\n",
    "from scipy.optimize import curve_fit\n",
    "\n",
    "import numpy as np\n",
    "import pandas as pd\n",
    "\n",
    "import matplotlib.pyplot as plt"
   ]
  },
  {
   "cell_type": "code",
   "execution_count": 212,
   "metadata": {},
   "outputs": [],
   "source": [
    "# Relevant parameters to play around with\n",
    "\n",
    "order = 2 # mesh order\n",
    "C_w = 1000000# penalty term weight\n",
    "h_init = 1 # meshsize before refinement\n",
    "nrRefs = 3 # number of refinements\n",
    "Dim_2 = True # If set to True then unitsquare, else unitcube"
   ]
  },
  {
   "cell_type": "code",
   "execution_count": 213,
   "metadata": {},
   "outputs": [],
   "source": [
    "# functions for differential operators on manufactured solutions \n",
    "\n",
    "coords = [x,y,z]\n",
    "\n",
    "def JacobianOfCF(cf):\n",
    "    \"\"\" Function to compute the Jacobi Matrix of a vector coefficient function cf \"\"\"\n",
    "\n",
    "    Jac_u_3D = CF((\n",
    "    cf[0].Diff(x), cf[0].Diff(y), cf[0].Diff(z),\n",
    "    cf[1].Diff(x), cf[1].Diff(y), cf[1].Diff(z),\n",
    "    cf[2].Diff(x), cf[2].Diff(y), cf[2].Diff(z)\n",
    "    ), dims=(3, 3))\n",
    "\n",
    "    return Jac_u_3D\n",
    "\n",
    "def GGrad(cf):\n",
    "    \"\"\" Function to compute the gradient of a scalar Coefficient Function \"\"\"\n",
    "    gg = [cf.Diff(coords[i]) for i in range(mesh.dim)]\n",
    "    return CF(tuple(gg))\n",
    "\n",
    "\n",
    "def GCurl(cf):\n",
    "    \"\"\" Function to compute the curl or rot of vec cf using Jacobian \"\"\"\n",
    "\n",
    "    if cf.dim == 1: # if the functions is getting handed a scalar field, its to calculate the curl of the rot..\n",
    "        curl_rot_u = CF((cf.Diff(y), - cf.Diff(x)))\n",
    "        return curl_rot_u\n",
    "\n",
    "    elif mesh.dim == 2:\n",
    "        rot_u = CF(cf[1].Diff(x) - cf[0].Diff(y))\n",
    "        return rot_u\n",
    "    \n",
    "    elif mesh.dim == 3:\n",
    "        Jac_u = JacobianOfCF(cf)\n",
    "        curl_u = CF((Jac_u[2,1] - Jac_u[1,2],  \n",
    "                    Jac_u[0,2] - Jac_u[2,0],  \n",
    "                    Jac_u[1,0] - Jac_u[0,1]))\n",
    "        return curl_u\n",
    "    \n",
    "\n",
    "def GDiv(cf):\n",
    "    \"\"\" Function to compute the divergence of a vector coefficient function \"\"\"\n",
    "\n",
    "    \n",
    "\n",
    "    gd = [cf[i].Diff(coords[i]) for i in range(cf.dim)]\n",
    "    return CF(sum(gd))\n",
    "\n",
    "# Functions to calculate h_max\n",
    "\n",
    "def edge_length(v1, v2, dim):\n",
    "    return np.sqrt(sum((v1[i] - v2[i])**2 for i in range(dim)))\n",
    "\n",
    "def squared_distance(v1, v2):\n",
    "    v1 = np.array(v1)\n",
    "    v2 = np.array(v2)\n",
    "    return np.sum((v1 - v2) ** 2)\n",
    "\n",
    "def cayley_menger_matrix(vertices):\n",
    "    if len(vertices) != 4:\n",
    "        raise ValueError(\"This method is for a tetrahedron, which requires exactly 4 vertices.\")\n",
    "\n",
    "    # Create the Cayley-Menger matrix (5x5)\n",
    "    C = np.ones((5, 5))\n",
    "    for i in range(5):\n",
    "        C[i, i] = 0 \n",
    "\n",
    "    for i in range(1, 5):\n",
    "        for j in range(i+1, 5):\n",
    "            C[i, j] = C[j, i] = squared_distance(vertices[i-1], vertices[j-1])\n",
    "\n",
    "    return C\n",
    "\n",
    "def triangle_area(a, b, c):\n",
    "    s = (a + b + c) / 2  \n",
    "    return np.sqrt(s * (s - a) * (s - b) * (s - c))\n",
    "\n",
    "def circumradius_2D(a, b, c):\n",
    "    area = triangle_area(a, b, c)\n",
    "    return a * b * c / (4 * area)\n",
    "\n",
    "def circumradius_3D(vertices):\n",
    "    C = cayley_menger_matrix(vertices)\n",
    "\n",
    "    try:\n",
    "        C_inv = np.linalg.inv(C)\n",
    "    except np.linalg.LinAlgError:\n",
    "        raise ValueError(\"Cayley-Menger matrix is singular or not invertible.\")\n",
    "\n",
    "    M = -2 * C_inv\n",
    "    circumradius = 0.5 * np.sqrt(M[0, 0])\n",
    "\n",
    "    return circumradius\n",
    "\n",
    "def calc_hmax(mesh):\n",
    "    max_h = 0 \n",
    "    if mesh.dim == 2:\n",
    "        for el in mesh.Elements():\n",
    "            vertices = [mesh[v].point for v in el.vertices]\n",
    "            a = edge_length(vertices[0], vertices[1], 2)\n",
    "            b = edge_length(vertices[1], vertices[2], 2)\n",
    "            c = edge_length(vertices[2], vertices[0], 2)\n",
    "            circumradius = circumradius_2D(a, b, c)\n",
    "            max_h = max(max_h, circumradius)\n",
    "    \n",
    "    elif mesh.dim == 3:\n",
    "        for el in mesh.Elements():\n",
    "            vertices = [mesh[v].point for v in el.vertices]\n",
    "            circumradius = circumradius_3D(vertices)\n",
    "            max_h = max(max_h, circumradius)\n",
    "    \n",
    "    return max_h"
   ]
  },
  {
   "cell_type": "code",
   "execution_count": 214,
   "metadata": {},
   "outputs": [
    {
     "name": "stdout",
     "output_type": "stream",
     "text": [
      "Meshsize after  3  refinements is  0.08838834764831852\n"
     ]
    }
   ],
   "source": [
    "#Set up Geometry\n",
    "\n",
    "if Dim_2 == True:\n",
    "    mesh = Mesh(unit_square.GenerateMesh(maxh=h_init))\n",
    "\n",
    "else:\n",
    "    mesh = Mesh(unit_cube.GenerateMesh(maxh=h_init))\n",
    "\n",
    "for i in range(nrRefs):\n",
    "    mesh.Refine()\n",
    "\n",
    "h_max = calc_hmax(mesh)\n",
    "\n",
    "print(\"Meshsize after \", nrRefs, \" refinements is \", h_max)"
   ]
  },
  {
   "cell_type": "code",
   "execution_count": 215,
   "metadata": {},
   "outputs": [],
   "source": [
    "# Set up the spaces\n",
    "if Dim_2 == True:\n",
    "    V_k = H1(mesh, order=order)\n",
    "    V_km1 = HDiv(mesh, order=order)\n",
    "\n",
    "else:\n",
    "    V_k = HDiv(mesh, order=order)\n",
    "    V_km1 = HCurl(mesh, order=order, type1=False)\n",
    "    \n",
    "fes = V_k * V_km1\n",
    "\n",
    "(omega, sigma), (eta, tau) = fes.TnT()"
   ]
  },
  {
   "cell_type": "code",
   "execution_count": 216,
   "metadata": {},
   "outputs": [],
   "source": [
    "a = BilinearForm(fes)\n",
    "n = specialcf.normal(mesh.dim)\n",
    "\n",
    "if Dim_2 == True:\n",
    "\n",
    "    a += sigma * tau * dx\n",
    "    a += - omega * div(tau) * dx\n",
    "\n",
    "    a +=  div(sigma) * eta * dx\n",
    "    a +=  grad(omega) * grad(eta) * dx\n",
    "\n",
    "else:\n",
    "    a += sigma * tau * dx\n",
    "    a += - omega * curl(tau) * dx\n",
    "\n",
    "    a +=  curl(sigma) * eta * dx\n",
    "    a +=  div(omega) * div(eta) * dx\n"
   ]
  },
  {
   "cell_type": "code",
   "execution_count": 217,
   "metadata": {},
   "outputs": [],
   "source": [
    "n = specialcf.normal(mesh.dim)\n",
    "t = specialcf.tangential(mesh.dim)\n",
    "h = specialcf.mesh_size\n",
    "\n",
    "if Dim_2 == True:\n",
    "    #a += div(sigma) * eta * ds(skeleton=True, definedon=mesh.Boundaries(\".*\"))\n",
    "    #a += sigma * grad(eta) * ds(skeleton=True, definedon=mesh.Boundaries(\".*\"))\n",
    "    a += (C_w / h) * omega.Trace() * eta.Trace() * ds(skeleton=True, definedon=mesh.Boundaries(\".*\"))\n",
    "\n",
    "else:\n",
    "    a += 1 * ds(skeleton=True, definedon=mesh.Boundaries(\".*\"))\n",
    "    a += 1 * ds(skeleton=True, definedon=mesh.Boundaries(\".*\"))\n",
    "    a += (C_w / h) * 1 * ds(skeleton=True, definedon=mesh.Boundaries(\".*\"))"
   ]
  },
  {
   "cell_type": "code",
   "execution_count": 218,
   "metadata": {},
   "outputs": [
    {
     "data": {
      "text/plain": [
       "<ngsolve.comp.LinearForm at 0x7f14c30fc430>"
      ]
     },
     "execution_count": 218,
     "metadata": {},
     "output_type": "execute_result"
    }
   ],
   "source": [
    "omega_m = CF(sin(pi*x)*sin(pi*y))\n",
    "\n",
    "hL_omega_m = CF(-GDiv(GGrad(omega_m)))\n",
    "\n",
    "f_rhs = LinearForm(fes)\n",
    "f_rhs += hL_omega_m * eta * dx\n",
    "\n",
    "a.Assemble()\n",
    "f_rhs.Assemble()"
   ]
  },
  {
   "cell_type": "code",
   "execution_count": 219,
   "metadata": {},
   "outputs": [],
   "source": [
    "\n",
    "rows,cols,vals = a.mat.COO()\n",
    "A = sp.csr_matrix((vals,(rows,cols)))\n",
    "cond_nr = np.linalg.cond(A.todense())\n",
    "\n",
    "sol = GridFunction(fes)\n",
    "res = f_rhs.vec-a.mat * sol.vec\n",
    "inv = a.mat.Inverse(freedofs=fes.FreeDofs(), inverse=\"pardiso\")\n",
    "sol.vec.data += inv * res\n",
    "\n",
    "gf_omega , gf_sigma = sol.components"
   ]
  },
  {
   "cell_type": "code",
   "execution_count": 220,
   "metadata": {},
   "outputs": [
    {
     "name": "stdout",
     "output_type": "stream",
     "text": [
      "Matrix dimensions: 1374 x 1374\n",
      "Matrix Condition Number:  1.8283039762159437e+24\n",
      "Residual:  4.285696300480771e-15\n",
      "L2 Error omega: 0.2500386997765507\n",
      "L2 Error grad(omega) 1.1110134008787285\n",
      "L2 Error sigma: 3.332009828177966\n",
      "L2 Error div(sigma): 4.966537128537103\n"
     ]
    }
   ],
   "source": [
    "\n",
    "\n",
    "grad_omega = grad(gf_omega)\n",
    "div_sigma = div(gf_sigma)\n",
    "\n",
    "grad_omega_m = GGrad(omega_m)\n",
    "div_sigma_m = GDiv(GGrad(omega_m))\n",
    "\n",
    "print(\"Matrix dimensions:\", a.mat.height, \"x\", a.mat.width)\n",
    "print(\"Matrix Condition Number: \", cond_nr)\n",
    "print(\"Residual: \", Norm(res))\n",
    "print(\"L2 Error omega:\", sqrt(Integrate((gf_omega - omega_m)**2, mesh)))\n",
    "print(\"L2 Error grad(omega)\", sqrt(Integrate((grad_omega - grad_omega_m)**2, mesh)))\n",
    "print(\"L2 Error sigma:\", sqrt(Integrate((gf_sigma - grad_omega_m)**2, mesh)))\n",
    "print(\"L2 Error div(sigma):\", sqrt(Integrate((div_sigma + div_sigma_m)**2, mesh)))\n",
    "\n"
   ]
  }
 ],
 "metadata": {
  "kernelspec": {
   "display_name": "Python 3",
   "language": "python",
   "name": "python3"
  },
  "language_info": {
   "codemirror_mode": {
    "name": "ipython",
    "version": 3
   },
   "file_extension": ".py",
   "mimetype": "text/x-python",
   "name": "python",
   "nbconvert_exporter": "python",
   "pygments_lexer": "ipython3",
   "version": "3.8.10"
  }
 },
 "nbformat": 4,
 "nbformat_minor": 2
}
