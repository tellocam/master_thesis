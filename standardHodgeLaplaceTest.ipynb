{
 "cells": [
  {
   "cell_type": "code",
   "execution_count": 1,
   "metadata": {},
   "outputs": [],
   "source": [
    "from ngsolve import *\n",
    "from ngsolve.webgui import Draw\n",
    "from netgen.csg import * \n",
    "from ngsolve.meshes import MakeStructured2DMesh\n",
    "from ngsolve.solvers import GMRes\n",
    "from netgen.geom2d import SplineGeometry\n",
    "import matplotlib.pyplot as plt\n",
    "import scipy.sparse as sp\n",
    "import matplotlib.pylab as plt"
   ]
  },
  {
   "cell_type": "code",
   "execution_count": 2,
   "metadata": {},
   "outputs": [],
   "source": [
    "# functions for differential operators on manufactured solutions \n",
    "\n",
    "coords = [x,y,z]\n",
    "\n",
    "def JacobianOfCF(cf):\n",
    "    \"\"\" Function to compute the Jacobi Matrix of a vector coefficient function cf \"\"\"\n",
    "\n",
    "    Jac_u_3D = CF((\n",
    "    cf[0].Diff(x), cf[0].Diff(y), cf[0].Diff(z),\n",
    "    cf[1].Diff(x), cf[1].Diff(y), cf[1].Diff(z),\n",
    "    cf[2].Diff(x), cf[2].Diff(y), cf[2].Diff(z)\n",
    "    ), dims=(3, 3))\n",
    "\n",
    "    return Jac_u_3D\n",
    "\n",
    "def GGrad(cf):\n",
    "    \"\"\" Function to compute the gradient of a scalar Coefficient Function \"\"\"\n",
    "    gg = [cf.Diff(coords[i]) for i in range(mesh.dim)]\n",
    "    return CF(tuple(gg))\n",
    "\n",
    "\n",
    "def GCurl(cf):\n",
    "    \"\"\" Function to compute the curl or rot of vec cf using Jacobian \"\"\"\n",
    "\n",
    "    if cf.dim == 1: # if the functions is getting handed a scalar field, its to calculate the curl of the rot..\n",
    "        curl_rot_u = CF((cf.Diff(y), - cf.Diff(x)))\n",
    "        return curl_rot_u\n",
    "\n",
    "    elif mesh.dim == 2:\n",
    "        rot_u = CF(cf[1].Diff(x) - cf[0].Diff(y))\n",
    "        return rot_u\n",
    "    \n",
    "    elif mesh.dim == 3:\n",
    "        Jac_u = JacobianOfCF(cf)\n",
    "        curl_u = CF((Jac_u[2,1] - Jac_u[1,2],  \n",
    "                    Jac_u[0,2] - Jac_u[2,0],  \n",
    "                    Jac_u[1,0] - Jac_u[0,1]))\n",
    "        return curl_u\n",
    "    \n",
    "\n",
    "def GDiv(cf):\n",
    "    \"\"\" Function to compute the divergence of a vector coefficient function \"\"\"\n",
    "\n",
    "    gd = [cf[i].Diff(coords[i]) for i in range(cf.dim)]\n",
    "    return CF(sum(gd))\n",
    "\n",
    "def createGeometry(h):\n",
    "    geo = SplineGeometry()\n",
    "    geo.AddRectangle((0,0),(1,1),bc=\"rectangle\")\n",
    "    ngmesh = geo.GenerateMesh(maxh=h)\n",
    "    return Mesh(ngmesh)"
   ]
  },
  {
   "cell_type": "code",
   "execution_count": 3,
   "metadata": {},
   "outputs": [],
   "source": [
    "def standardHodgeLaplace(mesh, g, order):\n",
    "\n",
    "    H_curl = HCurl(mesh, order=order, type1=True)  # For 1-forms, H(curl) space\n",
    "    H_1 = H1(mesh, order=order)     # For 0-forms, H1 space\n",
    "    fes = H_curl * H_1\n",
    "    (u, p), (v, q) = fes.TnT()\n",
    "\n",
    "    n = specialcf.normal(mesh.dim)\n",
    "    curlg = GCurl(g)\n",
    "    gamma_n_g = CF((curlg*n[1], -curlg*n[0]))\n",
    "    \n",
    "    f = CF(GCurl(GCurl(g)) - GGrad(GDiv(g)) )\n",
    "\n",
    "    B, F = BilinearForm(fes), LinearForm(fes) \n",
    "    \n",
    "\n",
    "    B += curl(u)*curl(v)*dx\n",
    "    B += grad(p)*v*dx \n",
    "    B += grad(q)*u*dx\n",
    "    B += - p * q * dx\n",
    "\n",
    "    F += f*v*dx\n",
    "    F += - gamma_n_g * v.Trace() * ds\n",
    "    F += (g * n) * q * ds\n",
    "\n",
    "    B.Assemble(); F.Assemble()\n",
    "\n",
    "    #with TaskManager(): \n",
    "    B.Assemble()\n",
    "    F.Assemble()\n",
    "    sol = GridFunction(fes)\n",
    "    \n",
    "    res = F.vec-B.mat * sol.vec\n",
    "    inv = B.mat.Inverse(freedofs=fes.FreeDofs(), inverse=\"pardiso\")\n",
    "    sol.vec.data += inv * res\n",
    "\n",
    "    # rows, cols, vals = B.mat.COO()\n",
    "    # B_mat = sp.csr_matrix((vals, (rows, cols)))\n",
    "    # plt.spy(B_mat)\n",
    "\n",
    "    #plt.plot(F.vec)\n",
    "\n",
    "    return sol\n",
    "    \n"
   ]
  },
  {
   "cell_type": "code",
   "execution_count": 4,
   "metadata": {},
   "outputs": [],
   "source": [
    "n = 0.01\n",
    "order = 2\n",
    "g = CF((sin(pi*x)*cos(pi*y)*x*(1-x)*y*(1-y), sin(pi*y)*cos(pi*x)*x*(1-x)*y*(1-y)))\n",
    "\n",
    "mesh = createGeometry(n)\n",
    "solution = standardHodgeLaplace(mesh, g, order)"
   ]
  },
  {
   "cell_type": "code",
   "execution_count": 5,
   "metadata": {},
   "outputs": [
    {
     "data": {
      "application/vnd.jupyter.widget-view+json": {
       "model_id": "7222598c124c4a169005441dbeca1fbb",
       "version_major": 2,
       "version_minor": 0
      },
      "text/plain": [
       "WebGuiWidget(layout=Layout(height='50vh', width='100%'), value={'gui_settings': {}, 'ngsolve_version': '6.2.24…"
      ]
     },
     "metadata": {},
     "output_type": "display_data"
    },
    {
     "data": {
      "text/plain": [
       "BaseWebGuiScene"
      ]
     },
     "execution_count": 5,
     "metadata": {},
     "output_type": "execute_result"
    }
   ],
   "source": [
    "Draw(solution.components[0], mesh)"
   ]
  }
 ],
 "metadata": {
  "kernelspec": {
   "display_name": "Python (myenv)",
   "language": "python",
   "name": "myenv"
  },
  "language_info": {
   "codemirror_mode": {
    "name": "ipython",
    "version": 3
   },
   "file_extension": ".py",
   "mimetype": "text/x-python",
   "name": "python",
   "nbconvert_exporter": "python",
   "pygments_lexer": "ipython3",
   "version": "3.8.10"
  }
 },
 "nbformat": 4,
 "nbformat_minor": 2
}
