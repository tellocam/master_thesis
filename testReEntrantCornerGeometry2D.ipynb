{
 "cells": [
  {
   "cell_type": "code",
   "execution_count": 4,
   "metadata": {},
   "outputs": [],
   "source": [
    "# we load the things!\n",
    "\n",
    "from ngsolve import *\n",
    "from ngsolve.webgui import Draw\n",
    "from netgen.csg import * \n",
    "from netgen.occ import WorkPlane, OCCGeometry\n",
    "\n",
    "#from ngsolve.meshes import MakeStructured2DMesh\n",
    "#from netgen.geom2d import SplineGeometry"
   ]
  },
  {
   "cell_type": "code",
   "execution_count": 5,
   "metadata": {},
   "outputs": [
    {
     "data": {
      "application/vnd.jupyter.widget-view+json": {
       "model_id": "0a5017da737644b1a8bdaf991125f73d",
       "version_major": 2,
       "version_minor": 0
      },
      "text/plain": [
       "WebGuiWidget(layout=Layout(height='50vh', width='100%'), value={'gui_settings': {}, 'ngsolve_version': '6.2.24…"
      ]
     },
     "metadata": {},
     "output_type": "display_data"
    },
    {
     "data": {
      "text/plain": [
       "BaseWebGuiScene"
      ]
     },
     "execution_count": 5,
     "metadata": {},
     "output_type": "execute_result"
    }
   ],
   "source": [
    "from netgen.occ import WorkPlane, OCCGeometry\n",
    "\n",
    "# Define the 2D geometry using WorkPlane\n",
    "wp = WorkPlane()\n",
    "\n",
    "# Add lines to create a re-entrant corner\n",
    "wp.MoveTo(0, 0)       # Starting point\n",
    "wp.LineTo(0, 0.5)\n",
    "wp.LineTo(-0.5, 0.5)  # Adjust this point to avoid crossing\n",
    "wp.LineTo(-0.5, -0.5)\n",
    "wp.LineTo(0.5, -0.5)\n",
    "wp.LineTo(0.5, 0)\n",
    "wp.LineTo(0, 0)\n",
    "wp.Close()            # Properly close the loop\n",
    "# Create a 2D face from the WorkPlane\n",
    "shape = wp.Face()\n",
    "\n",
    "# Create the OCCGeometry object\n",
    "geometry = OCCGeometry(shape, dim=2)\n",
    "\n",
    "\n",
    "# Generate a mesh from the geometry\n",
    "mesh = Mesh(geometry.GenerateMesh(maxh=0.5))\n",
    "mesh.GetBoundaries()\n",
    "mesh.Refine()\n",
    "mesh.Refine()\n",
    "Draw(mesh)"
   ]
  }
 ],
 "metadata": {
  "kernelspec": {
   "display_name": "Python 3",
   "language": "python",
   "name": "python3"
  },
  "language_info": {
   "codemirror_mode": {
    "name": "ipython",
    "version": 3
   },
   "file_extension": ".py",
   "mimetype": "text/x-python",
   "name": "python",
   "nbconvert_exporter": "python",
   "pygments_lexer": "ipython3",
   "version": "3.8.10"
  }
 },
 "nbformat": 4,
 "nbformat_minor": 2
}
