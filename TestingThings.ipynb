{
 "cells": [
  {
   "cell_type": "code",
   "execution_count": 17,
   "metadata": {},
   "outputs": [],
   "source": [
    "from ngsolve import *\n",
    "from ngsolve.webgui import Draw\n",
    "from netgen.occ import *\n",
    "from netgen.csg import *\n",
    "\n",
    "import numpy as np"
   ]
  },
  {
   "cell_type": "code",
   "execution_count": 18,
   "metadata": {},
   "outputs": [],
   "source": [
    "mesh = Mesh(unit_square.GenerateMesh(maxh=1))\n",
    "\n",
    "order = 1\n",
    "fes = HCurl(mesh, order=order, type1=False)\n",
    "gfu = GridFunction(fes)\n",
    "gfut = GridFunction(fes, multidim=0)"
   ]
  },
  {
   "cell_type": "markdown",
   "metadata": {},
   "source": [
    "Here a little testing to see what happens with type1=True and type1=False.\n",
    "My VSCode Drawing of gridfunctions is very buggy, but it seems like that type1=False leads to the interior of the elements having a function as well.\n",
    "This because first of all type1=False also leads to the DOF's increasing and one can see it visually."
   ]
  },
  {
   "cell_type": "code",
   "execution_count": 19,
   "metadata": {},
   "outputs": [
    {
     "name": "stdout",
     "output_type": "stream",
     "text": [
      "10\n"
     ]
    }
   ],
   "source": [
    "print(fes.ndof)\n",
    "settings = {\"camera\": {\"transformations\": [\n",
    "        {\"type\": \"rotateX\", \"angle\": -45}]}}\n",
    "\n",
    "# for i in range(len(gfu.vec)):\n",
    "\n",
    "#     gfu.vec[:] = 0\n",
    "#     gfu.vec[i] = 1\n",
    "\n",
    "#     gfut.AddMultiDimComponent(gfu.vec)\n",
    "\n",
    "# Draw(gfut, deformation=False, animate=True, autoscale = True , order = 3,  vectors = { \"grid_size\":30}, settings=settings);"
   ]
  },
  {
   "cell_type": "markdown",
   "metadata": {},
   "source": [
    "I wanna add testing to see what happens to the crossproduct in 2D, I need this to nicely write down my boundary integrals independent of the dimension"
   ]
  },
  {
   "cell_type": "code",
   "execution_count": 20,
   "metadata": {},
   "outputs": [],
   "source": [
    "normal = 1*specialcf.normal(mesh.dim)\n",
    "tangent = 1*specialcf.tangential(mesh.dim)\n",
    "# z_vector = Cross(normal, tangent) # Doesnt work bcs of the dimensions!, obviously, but thought maybe it works and yields a scalar..\n",
    "\n",
    "# Draw(z_vector)"
   ]
  },
  {
   "cell_type": "markdown",
   "metadata": {},
   "source": [
    "Wanna Test some mesh size calculation thingies!"
   ]
  },
  {
   "cell_type": "code",
   "execution_count": 21,
   "metadata": {},
   "outputs": [
    {
     "name": "stdout",
     "output_type": "stream",
     "text": [
      "Refinement step 0:\n",
      "Number of elements before refinement: [0,12)\n",
      "h_max after refinement 0: 0.7500000005423021\n",
      "Number of elements after refinement: [0,96)\n",
      "Refinement step 1:\n",
      "Number of elements before refinement: [0,96)\n",
      "h_max after refinement 1: 0.37500000098164693\n",
      "Number of elements after refinement: [0,768)\n",
      "Refinement step 2:\n",
      "Number of elements before refinement: [0,768)\n",
      "h_max after refinement 2: 0.18750000049082352\n",
      "Number of elements after refinement: [0,6144)\n",
      "Refinement step 3:\n",
      "Number of elements before refinement: [0,6144)\n",
      "h_max after refinement 3: 0.09375000024541177\n",
      "Number of elements after refinement: [0,49152)\n",
      "Refinement step 4:\n",
      "Number of elements before refinement: [0,49152)\n",
      "h_max after refinement 4: 0.046875000122705936\n",
      "Number of elements after refinement: [0,393216)\n"
     ]
    }
   ],
   "source": [
    "def edge_length(v1, v2, dim):\n",
    "    return np.sqrt(sum((v1[i] - v2[i])**2 for i in range(dim)))\n",
    "\n",
    "def squared_distance(v1, v2):\n",
    "    v1 = np.array(v1)\n",
    "    v2 = np.array(v2)\n",
    "    return np.sum((v1 - v2) ** 2)\n",
    "\n",
    "def cayley_menger_matrix(vertices):\n",
    "    if len(vertices) != 4:\n",
    "        raise ValueError(\"This method is for a tetrahedron, which requires exactly 4 vertices.\")\n",
    "\n",
    "    C = np.ones((5, 5))\n",
    "    for i in range(5):\n",
    "        C[i, i] = 0 \n",
    "\n",
    "    for i in range(1, 5):\n",
    "        for j in range(i+1, 5):\n",
    "            C[i, j] = C[j, i] = squared_distance(vertices[i-1], vertices[j-1])\n",
    "\n",
    "    return C\n",
    "\n",
    "def triangle_area(a, b, c):\n",
    "    s = (a + b + c) / 2 \n",
    "    return np.sqrt(s * (s - a) * (s - b) * (s - c))\n",
    "\n",
    "def circumradius_2D(a, b, c):\n",
    "    area = triangle_area(a, b, c)\n",
    "    return a * b * c / (4 * area)\n",
    "\n",
    "def circumradius_3D(vertices):\n",
    "    C = cayley_menger_matrix(vertices)\n",
    "    try:\n",
    "        C_inv = np.linalg.inv(C)\n",
    "    except np.linalg.LinAlgError:\n",
    "        raise ValueError(\"Cayley-Menger matrix is singular or not invertible.\")\n",
    "\n",
    "    M = -2 * C_inv\n",
    "    circumradius = 0.5 * np.sqrt(M[0, 0])\n",
    "\n",
    "    return circumradius\n",
    "\n",
    "def calc_h(mesh):\n",
    "    max_h = 0     \n",
    "    if mesh.dim == 2:\n",
    "\n",
    "        for el in mesh.Elements():\n",
    "            vertices = [mesh[v].point for v in el.vertices]\n",
    "            a = edge_length(vertices[0], vertices[1], 2)\n",
    "            b = edge_length(vertices[1], vertices[2], 2)\n",
    "            c = edge_length(vertices[2], vertices[0], 2)\n",
    "            circumradius = circumradius_2D(a, b, c)\n",
    "            max_h = max(max_h, circumradius)\n",
    "    \n",
    "    elif mesh.dim == 3:\n",
    "        for el in mesh.Elements():\n",
    "            vertices = [mesh[v].point for v in el.vertices]\n",
    "            circumradius = circumradius_3D(vertices)\n",
    "            max_h = max(max_h, circumradius)\n",
    "    \n",
    "    return max_h\n",
    "\n",
    "mesh = Mesh(unit_cube.GenerateMesh(maxh=1))\n",
    "\n",
    "for i in range(5):\n",
    "    print(f\"Refinement step {i}:\")\n",
    "    \n",
    "    num_elements = mesh.Elements()\n",
    "    print(f\"Number of elements before refinement: {num_elements}\")\n",
    "    \n",
    "    h_max_eval= calc_h(mesh)\n",
    "    print(f\"h_max after refinement {i}: {h_max_eval}\")\n",
    "        \n",
    "    if i < 6:  \n",
    "        mesh.Refine()\n",
    "    \n",
    "    num_elements_after_refine = mesh.Elements()\n",
    "    print(f\"Number of elements after refinement: {num_elements_after_refine}\")\n",
    "    \n",
    "    if num_elements_after_refine == num_elements:\n",
    "        print(\"Warning: No change in the number of elements after refinement!\")"
   ]
  },
  {
   "cell_type": "code",
   "execution_count": 22,
   "metadata": {},
   "outputs": [],
   "source": [
    "mesh = Mesh(unit_cube.GenerateMesh(maxh=0.25))\n",
    "\n",
    "# mesh.Refine()\n",
    "# mesh.Refine()\n",
    "# mesh.Refine()\n",
    "# Draw(mesh)"
   ]
  },
  {
   "cell_type": "code",
   "execution_count": 23,
   "metadata": {},
   "outputs": [],
   "source": [
    "mesh.Refine()\n",
    "#Draw(mesh)"
   ]
  },
  {
   "cell_type": "code",
   "execution_count": 24,
   "metadata": {},
   "outputs": [],
   "source": [
    "mesh.Refine()\n",
    "#Draw(mesh)"
   ]
  }
 ],
 "metadata": {
  "kernelspec": {
   "display_name": "Python 3",
   "language": "python",
   "name": "python3"
  },
  "language_info": {
   "codemirror_mode": {
    "name": "ipython",
    "version": 3
   },
   "file_extension": ".py",
   "mimetype": "text/x-python",
   "name": "python",
   "nbconvert_exporter": "python",
   "pygments_lexer": "ipython3",
   "version": "3.8.10"
  }
 },
 "nbformat": 4,
 "nbformat_minor": 2
}
