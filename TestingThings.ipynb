{
 "cells": [
  {
   "cell_type": "code",
   "execution_count": 251,
   "metadata": {},
   "outputs": [],
   "source": [
    "from ngsolve import *\n",
    "from ngsolve.webgui import Draw\n",
    "from netgen.occ import *\n",
    "from netgen.csg import *\n",
    "\n",
    "import numpy as np"
   ]
  },
  {
   "cell_type": "code",
   "execution_count": 252,
   "metadata": {},
   "outputs": [],
   "source": [
    "mesh = Mesh(unit_square.GenerateMesh(maxh=1))\n",
    "\n",
    "order = 1\n",
    "fes = HCurl(mesh, order=order, type1=False)\n",
    "gfu = GridFunction(fes)\n",
    "gfut = GridFunction(fes, multidim=0)"
   ]
  },
  {
   "cell_type": "markdown",
   "metadata": {},
   "source": [
    "Here a little testing to see what happens with type1=True and type1=False.\n",
    "My VSCode Drawing of gridfunctions is very buggy, but it seems like that type1=False leads to the interior of the elements having a function as well.\n",
    "This because first of all type1=False also leads to the DOF's increasing and one can see it visually."
   ]
  },
  {
   "cell_type": "code",
   "execution_count": 253,
   "metadata": {},
   "outputs": [
    {
     "name": "stdout",
     "output_type": "stream",
     "text": [
      "10\n"
     ]
    }
   ],
   "source": [
    "print(fes.ndof)\n",
    "settings = {\"camera\": {\"transformations\": [\n",
    "        {\"type\": \"rotateX\", \"angle\": -45}]}}\n",
    "\n",
    "# for i in range(len(gfu.vec)):\n",
    "\n",
    "#     gfu.vec[:] = 0\n",
    "#     gfu.vec[i] = 1\n",
    "\n",
    "#     gfut.AddMultiDimComponent(gfu.vec)\n",
    "\n",
    "# Draw(gfut, deformation=False, animate=True, autoscale = True , order = 3,  vectors = { \"grid_size\":30}, settings=settings);"
   ]
  },
  {
   "cell_type": "markdown",
   "metadata": {},
   "source": [
    "I wanna add testing to see what happens to the crossproduct in 2D, I need this to nicely write down my boundary integrals independent of the dimension"
   ]
  },
  {
   "cell_type": "code",
   "execution_count": 254,
   "metadata": {},
   "outputs": [],
   "source": [
    "normal = 1*specialcf.normal(mesh.dim)\n",
    "tangent = 1*specialcf.tangential(mesh.dim)\n",
    "# z_vector = Cross(normal, tangent) # Doesnt work bcs of the dimensions!, obviously, but thought maybe it works and yields a scalar..\n",
    "\n",
    "# Draw(z_vector)"
   ]
  },
  {
   "cell_type": "markdown",
   "metadata": {},
   "source": [
    "Wanna Test some mesh size calculation thingies!"
   ]
  },
  {
   "cell_type": "code",
   "execution_count": 266,
   "metadata": {},
   "outputs": [
    {
     "name": "stdout",
     "output_type": "stream",
     "text": [
      "Characteristic length h in 2D: 0.7071067811865478\n",
      "Characteristic length h in 3D: 0.7071067811865475\n"
     ]
    }
   ],
   "source": [
    "# Helper function to calculate the distance between two points in 2D or 3D\n",
    "def edge_length(v1, v2, dim):\n",
    "    return np.sqrt(sum((v1[i] - v2[i])**2 for i in range(dim)))\n",
    "\n",
    "# Helper function to calculate the area of a triangle in 2D using Heron's formula\n",
    "def triangle_area(a, b, c):\n",
    "    s = (a + b + c) / 2  # semi-perimeter\n",
    "    area = np.sqrt(s * (s - a) * (s - b) * (s - c))\n",
    "    return area\n",
    "\n",
    "# Helper function to calculate the circumradius of a triangle in 2D\n",
    "def circumradius_2D(a, b, c):\n",
    "    area = triangle_area(a, b, c)\n",
    "    return a * b * c / (4 * area)\n",
    "\n",
    "# Helper function to calculate the volume of a tetrahedron\n",
    "def tetrahedron_volume(vertices):\n",
    "    # Form a matrix with vertex differences (relative to V0)\n",
    "    matrix = np.array([\n",
    "        [vertices[1][0] - vertices[0][0], vertices[1][1] - vertices[0][1], vertices[1][2] - vertices[0][2]],\n",
    "        [vertices[2][0] - vertices[0][0], vertices[2][1] - vertices[0][1], vertices[2][2] - vertices[0][2]],\n",
    "        [vertices[3][0] - vertices[0][0], vertices[3][1] - vertices[0][1], vertices[3][2] - vertices[0][2]]\n",
    "    ])\n",
    "    # Compute the volume as the absolute value of the determinant divided by 6\n",
    "    volume = np.abs(np.linalg.det(matrix)) / 6.0\n",
    "    return volume\n",
    "\n",
    "# Helper function to calculate the circumradius of a tetrahedron using the Cayley-Menger determinant\n",
    "def circumradius_3D(vertices):\n",
    "    # Calculate all six edge lengths\n",
    "    edge_lengths = [edge_length(vertices[i], vertices[j], 3) for i in range(4) for j in range(i+1, 4)]\n",
    "    \n",
    "    # Construct Cayley-Menger matrix\n",
    "    cm_matrix = np.array([\n",
    "        [0, 1, 1, 1, 1],\n",
    "        [1, 0, edge_lengths[0]**2, edge_lengths[1]**2, edge_lengths[2]**2],\n",
    "        [1, edge_lengths[0]**2, 0, edge_lengths[3]**2, edge_lengths[4]**2],\n",
    "        [1, edge_lengths[1]**2, edge_lengths[3]**2, 0, edge_lengths[5]**2],\n",
    "        [1, edge_lengths[2]**2, edge_lengths[4]**2, edge_lengths[5]**2, 0]\n",
    "    ])\n",
    "    \n",
    "    # Calculate determinant\n",
    "    cm_determinant = np.linalg.det(cm_matrix)\n",
    "    \n",
    "    # Calculate volume of the tetrahedron\n",
    "    volume = tetrahedron_volume(vertices)\n",
    "    \n",
    "    # Return circumradius or handle degenerate case\n",
    "    if cm_determinant <= 0 or volume == 0:\n",
    "        print(\"Warning: Degenerate or invalid tetrahedron.\")\n",
    "        return np.inf  # Large value for degenerate cases\n",
    "    \n",
    "    circumradius = np.sqrt(cm_determinant) / (24 * volume)\n",
    "    return circumradius\n",
    "\n",
    "# Main function to calculate the minimum characteristic length 'h' for a 2D or 3D mesh\n",
    "def calc_h(mesh):\n",
    "    min_h = float('inf')\n",
    "    if mesh.dim == 2:\n",
    "        # Loop over all 2D elements\n",
    "        for el in mesh.Elements():\n",
    "            vertices = [mesh[v].point for v in el.vertices]\n",
    "            a = edge_length(vertices[0], vertices[1], 2)\n",
    "            b = edge_length(vertices[1], vertices[2], 2)\n",
    "            c = edge_length(vertices[2], vertices[0], 2)\n",
    "            \n",
    "            circumradius = circumradius_2D(a, b, c)\n",
    "            min_h = min(min_h, circumradius)\n",
    "\n",
    "    elif mesh.dim == 3:\n",
    "        # Loop over all 3D elements\n",
    "        for el in mesh.Elements():\n",
    "            vertices = [mesh[v].point for v in el.vertices]\n",
    "            try:\n",
    "                circumradius = circumradius_3D(vertices)\n",
    "                min_h = min(min_h, circumradius)\n",
    "            except ValueError:\n",
    "                continue\n",
    "\n",
    "    else:\n",
    "        raise ValueError(\"Unsupported mesh dimension\")\n",
    "\n",
    "    return min_h\n",
    "\n",
    "\n",
    "# Example usage with a 2D mesh (unit square)\n",
    "maxh = 1\n",
    "mesh = Mesh(unit_square.GenerateMesh(maxh=maxh))\n",
    "# Example usage with a 3D mesh (unit cube)\n",
    "geo = CSGeometry()\n",
    "box = OrthoBrick(Pnt(0, 0, 0), Pnt(1, 1, 1))\n",
    "geo.Add(box)\n",
    "mesh2 = Mesh(geo.GenerateMesh(maxh=maxh))\n",
    "\n",
    "# Calculate characteristic length for 2D and 3D\n",
    "h_2d = calc_h(mesh)\n",
    "h_3d = calc_h(mesh2)\n",
    "\n",
    "print(f\"Characteristic length h in 2D: {h_2d}\")\n",
    "print(f\"Characteristic length h in 3D: {h_3d}\")\n",
    "\n",
    "# # Test with two tetrahedra from unit cube\n",
    "# vertices_tetra_1 = [(0,0,0), (1,0,0), (0,1,0), (0,0,1)]\n",
    "# vertices_tetra_2 = [(1,0,0), (0,1,0), (0,0,1), (0,1,1)]\n",
    "\n",
    "# print(\"Circumradius for Tetrahedron 1:\", circumradius_3D(vertices_tetra_1))\n",
    "# print(\"Circumradius for Tetrahedron 2:\", circumradius_3D(vertices_tetra_2))"
   ]
  }
 ],
 "metadata": {
  "kernelspec": {
   "display_name": "Python 3",
   "language": "python",
   "name": "python3"
  },
  "language_info": {
   "codemirror_mode": {
    "name": "ipython",
    "version": 3
   },
   "file_extension": ".py",
   "mimetype": "text/x-python",
   "name": "python",
   "nbconvert_exporter": "python",
   "pygments_lexer": "ipython3",
   "version": "3.8.10"
  }
 },
 "nbformat": 4,
 "nbformat_minor": 2
}
