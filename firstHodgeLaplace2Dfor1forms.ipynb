{
 "cells": [
  {
   "cell_type": "code",
   "execution_count": 1,
   "metadata": {},
   "outputs": [],
   "source": [
    "from ngsolve import *\n",
    "from netgen.csg import *"
   ]
  },
  {
   "cell_type": "code",
   "execution_count": 2,
   "metadata": {},
   "outputs": [],
   "source": [
    "# 1. Define the Geometry\n",
    "geo = CSGeometry()\n",
    "box = OrthoBrick(Pnt(-1, -1, -1), Pnt(1, 1, 1))\n",
    "geo.Add(box)\n",
    "mesh = Mesh(geo.GenerateMesh(maxh=0.2))"
   ]
  },
  {
   "cell_type": "code",
   "execution_count": 3,
   "metadata": {},
   "outputs": [],
   "source": [
    "# 2. Define the Finite Element Spaces\n",
    "# Separate HCurl and HDiv spaces\n",
    "V_k = HCurl(mesh, order=1)   \n",
    "V_km1 = HDiv(mesh, order=1)  \n",
    "\n",
    "# 3. Define trial and test functions for each space separately\n",
    "sigma_h = V_k.TrialFunction()\n",
    "tau_h = V_k.TestFunction()\n",
    "omega_h = V_km1.TrialFunction()\n",
    "eta_h = V_km1.TestFunction()"
   ]
  },
  {
   "cell_type": "code",
   "execution_count": 4,
   "metadata": {},
   "outputs": [],
   "source": [
    "# 4. Define Bilinear Form for equation 3 a,b,c\n",
    "\n",
    "# Bilinear form for HCurl space (1-forms, sigma and tau)\n",
    "a_hcurl = BilinearForm(V_k)\n",
    "a_hcurl += SymbolicBFI(InnerProduct(sigma_h, tau_h))\n",
    "\n",
    "# Bilinear form for HDiv space (2-forms, omega and eta)\n",
    "a_hdiv = BilinearForm(V_km1)\n",
    "a_hdiv += SymbolicBFI(InnerProduct(curl(sigma_h), eta_h))  \n",
    "a_hdiv += SymbolicBFI(InnerProduct(div(omega_h), div(eta_h)))  \n",
    "\n",
    "\n"
   ]
  },
  {
   "cell_type": "code",
   "execution_count": 6,
   "metadata": {},
   "outputs": [
    {
     "data": {
      "text/plain": [
       "<ngsolve.comp.BilinearForm at 0x7faef9c41a70>"
      ]
     },
     "execution_count": 6,
     "metadata": {},
     "output_type": "execute_result"
    }
   ],
   "source": [
    "# Final assembly of forms\n",
    "a_hcurl.Assemble()\n",
    "#a_hdiv.Assemble()\n",
    "#boundary_integral_1.Assemble()\n",
    "#boundary_integral_2.Assemble()\n",
    "#penalty_term.Assemble()\n"
   ]
  },
  {
   "cell_type": "code",
   "execution_count": 9,
   "metadata": {},
   "outputs": [
    {
     "ename": "TypeError",
     "evalue": "__init__() got an unexpected keyword argument 'mat'",
     "output_type": "error",
     "traceback": [
      "\u001b[0;31m---------------------------------------------------------------------------\u001b[0m",
      "\u001b[0;31mTypeError\u001b[0m                                 Traceback (most recent call last)",
      "Cell \u001b[0;32mIn [9], line 3\u001b[0m\n\u001b[1;32m      1\u001b[0m \u001b[38;5;66;03m# Solve the system (you can apply any solver method, e.g., CG or others)\u001b[39;00m\n\u001b[1;32m      2\u001b[0m gfu \u001b[38;5;241m=\u001b[39m GridFunction(V_k)  \u001b[38;5;66;03m# Solution grid function in the mixed space\u001b[39;00m\n\u001b[0;32m----> 3\u001b[0m \u001b[43msolvers\u001b[49m\u001b[38;5;241;43m.\u001b[39;49m\u001b[43mSuperLU\u001b[49m\u001b[43m(\u001b[49m\u001b[43mmat\u001b[49m\u001b[38;5;241;43m=\u001b[39;49m\u001b[43ma_hcurl\u001b[49m\u001b[38;5;241;43m.\u001b[39;49m\u001b[43mmat\u001b[49m\u001b[43m,\u001b[49m\u001b[43m \u001b[49m\u001b[43mrhs\u001b[49m\u001b[38;5;241;43m=\u001b[39;49m\u001b[38;5;241;43m0\u001b[39;49m\u001b[43m,\u001b[49m\u001b[43m \u001b[49m\u001b[43msol\u001b[49m\u001b[38;5;241;43m=\u001b[39;49m\u001b[43mgfu\u001b[49m\u001b[38;5;241;43m.\u001b[39;49m\u001b[43mvec\u001b[49m\u001b[43m)\u001b[49m\n",
      "\u001b[0;31mTypeError\u001b[0m: __init__() got an unexpected keyword argument 'mat'"
     ]
    }
   ],
   "source": [
    "\n",
    "gfu = GridFunction(V_k) \n",
    "solvers.SuperLU(mat=a_hcurl.mat, rhs=0, sol=gfu.vec)"
   ]
  }
 ],
 "metadata": {
  "kernelspec": {
   "display_name": "Python 3",
   "language": "python",
   "name": "python3"
  },
  "language_info": {
   "codemirror_mode": {
    "name": "ipython",
    "version": 3
   },
   "file_extension": ".py",
   "mimetype": "text/x-python",
   "name": "python",
   "nbconvert_exporter": "python",
   "pygments_lexer": "ipython3",
   "version": "3.8.10"
  }
 },
 "nbformat": 4,
 "nbformat_minor": 2
}
