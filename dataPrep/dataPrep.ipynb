{
 "cells": [
  {
   "cell_type": "code",
   "execution_count": 3,
   "metadata": {},
   "outputs": [],
   "source": [
    "import pandas as pd\n",
    "import matplotlib.pyplot as plt\n",
    "from scipy.optimize import curve_fit"
   ]
  },
  {
   "cell_type": "code",
   "execution_count": 4,
   "metadata": {},
   "outputs": [],
   "source": [
    "# Functions for plotting, linear regression fit line for convergence\n",
    "\n",
    "def reference_line_func(h_values, scaling_factor, slope):\n",
    "\n",
    "    return scaling_factor * h_values ** slope\n",
    "\n",
    "def fit_reference_line(h_values, error_values):\n",
    "\n",
    "    popt, _ = curve_fit(reference_line_func, h_values, error_values, p0=[1, 1])\n",
    "\n",
    "    scaling_factor, slope = popt\n",
    "    return scaling_factor, slope"
   ]
  },
  {
   "cell_type": "code",
   "execution_count": 5,
   "metadata": {},
   "outputs": [],
   "source": [
    "df = pd.read_csv('all_simulation_results.csv')"
   ]
  },
  {
   "cell_type": "code",
   "execution_count": 6,
   "metadata": {},
   "outputs": [
    {
     "name": "stdout",
     "output_type": "stream",
     "text": [
      "[0.1767767  0.08838835 0.04419417 0.02209709]\n",
      "[1 2 3 4 5]\n",
      "[ 1.          1.58489319  2.51188643  3.98107171  6.30957344 10.\n",
      " 15.84893192 25.11886432 39.81071706 63.09573445]\n",
      "[   78   214   422   702  1054   282   794  1594  2682  4058  1050  3034\n",
      "  6170 10458 15898  4026 11834 24250 41274 62906]\n"
     ]
    }
   ],
   "source": [
    "h_list = df['hmax'].unique()\n",
    "order_list = df['order'].unique()\n",
    "Cw_list = df['C_w'].unique()\n",
    "nDof_list = df['ndof'].unique()\n",
    "\n",
    "print(h_list)\n",
    "print(order_list)\n",
    "print(Cw_list)\n",
    "print(nDof_list)"
   ]
  },
  {
   "cell_type": "code",
   "execution_count": 9,
   "metadata": {},
   "outputs": [
    {
     "name": "stdout",
     "output_type": "stream",
     "text": [
      "Created CSV for hmax 0.1767766952966369, order 1: data/oneForms2D/plot_data_h0.1767766952966369_order1.csv\n",
      "Created CSV for hmax 0.1767766952966369, order 2: data/oneForms2D/plot_data_h0.1767766952966369_order2.csv\n",
      "Created CSV for hmax 0.1767766952966369, order 3: data/oneForms2D/plot_data_h0.1767766952966369_order3.csv\n",
      "Created CSV for hmax 0.1767766952966369, order 4: data/oneForms2D/plot_data_h0.1767766952966369_order4.csv\n",
      "Created CSV for hmax 0.1767766952966369, order 5: data/oneForms2D/plot_data_h0.1767766952966369_order5.csv\n",
      "Created CSV for hmax 0.0883883476483184, order 1: data/oneForms2D/plot_data_h0.0883883476483184_order1.csv\n",
      "Created CSV for hmax 0.0883883476483184, order 2: data/oneForms2D/plot_data_h0.0883883476483184_order2.csv\n",
      "Created CSV for hmax 0.0883883476483184, order 3: data/oneForms2D/plot_data_h0.0883883476483184_order3.csv\n",
      "Created CSV for hmax 0.0883883476483184, order 4: data/oneForms2D/plot_data_h0.0883883476483184_order4.csv\n",
      "Created CSV for hmax 0.0883883476483184, order 5: data/oneForms2D/plot_data_h0.0883883476483184_order5.csv\n",
      "Created CSV for hmax 0.0441941738241592, order 1: data/oneForms2D/plot_data_h0.0441941738241592_order1.csv\n",
      "Created CSV for hmax 0.0441941738241592, order 2: data/oneForms2D/plot_data_h0.0441941738241592_order2.csv\n",
      "Created CSV for hmax 0.0441941738241592, order 3: data/oneForms2D/plot_data_h0.0441941738241592_order3.csv\n",
      "Created CSV for hmax 0.0441941738241592, order 4: data/oneForms2D/plot_data_h0.0441941738241592_order4.csv\n",
      "Created CSV for hmax 0.0441941738241592, order 5: data/oneForms2D/plot_data_h0.0441941738241592_order5.csv\n",
      "Created CSV for hmax 0.0220970869120796, order 1: data/oneForms2D/plot_data_h0.0220970869120796_order1.csv\n",
      "Created CSV for hmax 0.0220970869120796, order 2: data/oneForms2D/plot_data_h0.0220970869120796_order2.csv\n",
      "Created CSV for hmax 0.0220970869120796, order 3: data/oneForms2D/plot_data_h0.0220970869120796_order3.csv\n",
      "Created CSV for hmax 0.0220970869120796, order 4: data/oneForms2D/plot_data_h0.0220970869120796_order4.csv\n",
      "Created CSV for hmax 0.0220970869120796, order 5: data/oneForms2D/plot_data_h0.0220970869120796_order5.csv\n"
     ]
    }
   ],
   "source": [
    "# List the columns we want in each CSV:\n",
    "cols_to_save = ['C_w', 'L2_error_u', 'L2_error_curl_u', 'L2_error_p', 'L2_error_grad_p']\n",
    "\n",
    "# Loop over unique hmax values and orders (each subplot)\n",
    "for h_value in df['hmax'].unique():\n",
    "    for order in df['order'].unique():\n",
    "        # Filter the master DataFrame for this hmax and order\n",
    "        df_sub = df[(df['hmax'] == h_value) & (df['order'] == order)].copy()\n",
    "        # Sort by C_w for a nicer CSV (optional)\n",
    "        df_sub.sort_values(by=\"C_w\", inplace=True)\n",
    "        # Select only the desired columns\n",
    "        df_csv = df_sub[cols_to_save]\n",
    "        # Create a CSV filename, e.g. \"plot_data_h0.5_order1.csv\"\n",
    "        csv_filename = f\"data/oneForms2D/plot_data_h{h_value}_order{order}.csv\"\n",
    "        df_csv.to_csv(csv_filename, index=False)\n",
    "        print(f\"Created CSV for hmax {h_value}, order {order}: {csv_filename}\")"
   ]
  }
 ],
 "metadata": {
  "kernelspec": {
   "display_name": "Python 3",
   "language": "python",
   "name": "python3"
  },
  "language_info": {
   "codemirror_mode": {
    "name": "ipython",
    "version": 3
   },
   "file_extension": ".py",
   "mimetype": "text/x-python",
   "name": "python",
   "nbconvert_exporter": "python",
   "pygments_lexer": "ipython3",
   "version": "3.8.10"
  }
 },
 "nbformat": 4,
 "nbformat_minor": 2
}
