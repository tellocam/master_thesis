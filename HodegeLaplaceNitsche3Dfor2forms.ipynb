{
 "cells": [
  {
   "cell_type": "code",
   "execution_count": 8,
   "metadata": {},
   "outputs": [],
   "source": [
    "from IPython.display import display\n",
    "from ngsolve import *\n",
    "from ngsolve.webgui import Draw\n",
    "from netgen.csg import *"
   ]
  },
  {
   "cell_type": "code",
   "execution_count": 9,
   "metadata": {},
   "outputs": [],
   "source": [
    "# 1. Define the Geometry\n",
    "geo = CSGeometry()\n",
    "box = OrthoBrick(Pnt(-1, -1, -1), Pnt(1, 1, 1))\n",
    "geo.Add(box)\n",
    "mesh = Mesh(geo.GenerateMesh(maxh=0.2))"
   ]
  },
  {
   "cell_type": "code",
   "execution_count": 10,
   "metadata": {},
   "outputs": [
    {
     "name": "stdout",
     "output_type": "stream",
     "text": [
      "0.011374548767673562\n"
     ]
    }
   ],
   "source": [
    "# 2. Define the Finite Element Spaces\n",
    "# Separate HCurl and HDiv spaces\n",
    "V_k = HCurl(mesh, order=1)   \n",
    "V_km1 = HDiv(mesh, order=1)  \n",
    "\n",
    "productSpace = V_k * V_km1\n",
    "\n",
    "# Trial and test functions for product space (HCurl and HDiv components)\n",
    "sigma_h, omega_h = productSpace.TrialFunction()\n",
    "tau_h, eta_h = productSpace.TestFunction()\n",
    "\n",
    "# # 1. Compute the minimum mesh size (hmin)\n",
    "# 1. Compute the minimum mesh size (hmin)\n",
    "h_min = min(Integrate(1, mesh, BND, element_wise=True))\n",
    "print(h_min)"
   ]
  },
  {
   "cell_type": "code",
   "execution_count": 11,
   "metadata": {},
   "outputs": [
    {
     "ename": "NgException",
     "evalue": "T_MultVecVec : dimensions don't fit",
     "output_type": "error",
     "traceback": [
      "\u001b[0;31m---------------------------------------------------------------------------\u001b[0m",
      "\u001b[0;31mNgException\u001b[0m                               Traceback (most recent call last)",
      "Cell \u001b[0;32mIn [11], line 15\u001b[0m\n\u001b[1;32m     12\u001b[0m \u001b[38;5;66;03m# 4. Boundary integrals\u001b[39;00m\n\u001b[1;32m     13\u001b[0m \u001b[38;5;66;03m# Boundary Integral 1: \u001b[39;00m\n\u001b[1;32m     14\u001b[0m boundary_integral_1 \u001b[38;5;241m=\u001b[39m BilinearForm(productSpace)\n\u001b[0;32m---> 15\u001b[0m boundary_integral_1 \u001b[38;5;241m+\u001b[39m\u001b[38;5;241m=\u001b[39m \u001b[43mInnerProduct\u001b[49m\u001b[43m(\u001b[49m\u001b[43mdiv\u001b[49m\u001b[43m(\u001b[49m\u001b[43momega_h\u001b[49m\u001b[43m)\u001b[49m\u001b[43m,\u001b[49m\u001b[43m \u001b[49m\u001b[43meta_h\u001b[49m\u001b[38;5;241;43m.\u001b[39;49m\u001b[43mTrace\u001b[49m\u001b[43m(\u001b[49m\u001b[43m)\u001b[49m\u001b[43m)\u001b[49m \u001b[38;5;241m*\u001b[39m ds\n\u001b[1;32m     17\u001b[0m \u001b[38;5;66;03m# Boundary Integral 2: \u001b[39;00m\n\u001b[1;32m     18\u001b[0m boundary_integral_2 \u001b[38;5;241m=\u001b[39m BilinearForm(productSpace)\n",
      "\u001b[0;31mNgException\u001b[0m: T_MultVecVec : dimensions don't fit"
     ]
    }
   ],
   "source": [
    "# 3. Bilinear forms for HCurl and HDiv spaces\n",
    "\n",
    "# HCurl part (1-forms)\n",
    "a_hcurl = BilinearForm(productSpace)\n",
    "a_hcurl += SymbolicBFI(InnerProduct(sigma_h, tau_h))\n",
    "\n",
    "# HDiv part (2-forms)\n",
    "a_hdiv = BilinearForm(productSpace)\n",
    "a_hdiv += SymbolicBFI(InnerProduct(curl(sigma_h), eta_h))  # Correct use of curl from HCurl to HDiv\n",
    "a_hdiv += SymbolicBFI(InnerProduct(div(omega_h), div(eta_h)))\n",
    "\n",
    "# 4. Boundary integrals\n",
    "# Boundary Integral 1: \n",
    "boundary_integral_1 = BilinearForm(productSpace)\n",
    "boundary_integral_1 += InnerProduct(div(omega_h), eta_h.Trace()) * ds\n",
    "\n",
    "# Boundary Integral 2: \n",
    "boundary_integral_2 = BilinearForm(productSpace)\n",
    "boundary_integral_2 += omega_h * div(eta_h) * ds\n",
    "\n",
    "\n",
    "# Penalty term: \n",
    "C_w = 1.0\n",
    "penalty_term = BilinearForm(productSpace)\n",
    "penalty_term += (C_w / h_min) * omega_h.Trace() * eta_h.Trace() * dx\n"
   ]
  },
  {
   "cell_type": "code",
   "execution_count": null,
   "metadata": {},
   "outputs": [],
   "source": [
    "# Assemble all bilinear forms (HCurl, HDiv, boundary terms, penalty term)\n",
    "a_hcurl.Assemble()\n",
    "a_hdiv.Assemble()\n",
    "boundary_integral_1.Assemble()\n",
    "boundary_integral_2.Assemble()\n",
    "penalty_term.Assemble()\n",
    "\n",
    "# Sum the matrices from all the bilinear forms to create a global matrix\n",
    "total_bilinear_form_matrix = a_hcurl.mat + a_hdiv.mat + boundary_integral_1.mat + boundary_integral_2.mat + penalty_term.mat\n",
    "#total_bilinear_form_matrix = a_hcurl.mat + a_hdiv.mat\n"
   ]
  }
 ],
 "metadata": {
  "kernelspec": {
   "display_name": "Python 3",
   "language": "python",
   "name": "python3"
  },
  "language_info": {
   "codemirror_mode": {
    "name": "ipython",
    "version": 3
   },
   "file_extension": ".py",
   "mimetype": "text/x-python",
   "name": "python",
   "nbconvert_exporter": "python",
   "pygments_lexer": "ipython3",
   "version": "3.8.10"
  }
 },
 "nbformat": 4,
 "nbformat_minor": 2
}
