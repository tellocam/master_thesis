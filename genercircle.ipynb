{
 "cells": [
  {
   "cell_type": "markdown",
   "metadata": {},
   "source": [
    "- author: Edoardo Bonetti\n",
    "- date: 11/12/2024\n",
    "\n",
    "\n",
    "# Generalized Circle\n",
    "rectrate the following set:\n",
    "\\begin{equation*}\n",
    "\\left\\lbrace (x,y) \\vert x^N + y^N \\leq 1\\right\\rbrace\n",
    "\\end{equation*}\n",
    "\n",
    "Import thhe necessary modules"
   ]
  },
  {
   "cell_type": "code",
   "execution_count": 38,
   "metadata": {},
   "outputs": [],
   "source": [
    "from ngsolve import *\n",
    "from ngsolve.webgui import Draw\n",
    "\n",
    "from netgen.occ import * # create cool domains\n",
    "\n",
    "import numpy as np\n",
    "import matplotlib.pyplot as plt\n"
   ]
  },
  {
   "cell_type": "markdown",
   "metadata": {},
   "source": [
    "Create set of points to recreate the top-right part of the figure with numpy"
   ]
  },
  {
   "cell_type": "code",
   "execution_count": 39,
   "metadata": {},
   "outputs": [
    {
     "data": {
      "text/plain": [
       "[<matplotlib.lines.Line2D at 0x7fc42c6e60a0>]"
      ]
     },
     "execution_count": 39,
     "metadata": {},
     "output_type": "execute_result"
    },
    {
     "data": {
      "image/png": "[encoded data removed]",
      "text/plain": [
       "<Figure size 640x480 with 1 Axes>"
      ]
     },
     "metadata": {},
     "output_type": "display_data"
    }
   ],
   "source": [
    "N = 4\n",
    "xvals = np.linspace(0, (1/2)**(1/N), 100)\n",
    "\n",
    "\n",
    "fun = lambda v : (1 - v**N)**(1/N)\n",
    "yvals = fun(xvals)\n",
    "\n",
    "plt.plot(xvals, yvals)"
   ]
  },
  {
   "cell_type": "markdown",
   "metadata": {},
   "source": [
    "Approximate with an spline"
   ]
  },
  {
   "cell_type": "code",
   "execution_count": 40,
   "metadata": {},
   "outputs": [],
   "source": [
    "pnts = [Pnt(xvals[i], yvals[i]) for i in range(len(xvals))]\n",
    "\n",
    "for i in range(len(pnts)-1, -1, -1):\n",
    "    p = pnts[i]\n",
    "    pnts.append(Pnt(p.y, p.x))\n",
    "\n",
    "spline = SplineApproximation(pnts)\n",
    "\n",
    "#wire_tr = Wire([spline])\n",
    "wire_tr= spline.Wire()\n",
    "#Draw(wire_tr)\n"
   ]
  },
  {
   "cell_type": "markdown",
   "metadata": {},
   "source": [
    "To create the final shape create the wire from the top right to the bottom right, take the union and mirror it on the left. Then extract the face"
   ]
  },
  {
   "cell_type": "code",
   "execution_count": 41,
   "metadata": {},
   "outputs": [],
   "source": [
    "\n",
    "\n",
    "wire_tl = wire_tr.Mirror(Axis((0,0,0), Y))\n",
    "wire_bl= wire_tl.Mirror(Axis((0,0,0), X))\n",
    "wire_br = wire_tr.Mirror(Axis((0,0,0), X))\n",
    "wires = wire_tr + wire_tl +wire_br+wire_bl\n",
    "\n",
    "f = Face(Wire(wires.wires))\n",
    "\n",
    "#Draw(f)\n"
   ]
  },
  {
   "cell_type": "markdown",
   "metadata": {},
   "source": [
    "To create the mesh remember to specify the dimension, otherwise it generates a non-sensical mesh. Create the mesh and curve it at least as much as the $N$"
   ]
  },
  {
   "cell_type": "code",
   "execution_count": 42,
   "metadata": {},
   "outputs": [
    {
     "data": {
      "text/plain": [
       "<ngsolve.comp.Mesh at 0x7fc42c5c3360>"
      ]
     },
     "execution_count": 42,
     "metadata": {},
     "output_type": "execute_result"
    }
   ],
   "source": [
    "mesh = Mesh(OCCGeometry(f, dim = 2).GenerateMesh(maxh = 0.05))\n",
    "mesh.Curve(N)\n",
    "#Draw(mesh)\n"
   ]
  },
  {
   "cell_type": "code",
   "execution_count": 43,
   "metadata": {},
   "outputs": [
    {
     "data": {
      "application/vnd.jupyter.widget-view+json": {
       "model_id": "0fe71c12d9624682abd632be8f702414",
       "version_major": 2,
       "version_minor": 0
      },
      "text/plain": [
       "WebGuiWidget(layout=Layout(height='50vh', width='100%'), value={'gui_settings': {}, 'ngsolve_version': '6.2.24…"
      ]
     },
     "metadata": {},
     "output_type": "display_data"
    },
    {
     "data": {
      "text/plain": [
       "BaseWebGuiScene"
      ]
     },
     "execution_count": 43,
     "metadata": {},
     "output_type": "execute_result"
    }
   ],
   "source": [
    "# Solve a poisson problem just to see if it works\n",
    "fes = H1(mesh, order=2, dirichlet=\".*\")\n",
    "u, v = fes.TnT()\n",
    "\n",
    "a = BilinearForm(fes)\n",
    "a +=grad(u)*grad(v)*dx\n",
    "\n",
    "f = LinearForm(fes)\n",
    "f +=1*v * dx\n",
    "\n",
    "a.Assemble()\n",
    "f.Assemble()\n",
    "\n",
    "gfu = GridFunction(fes)\n",
    "gfu.vec.data = a.mat.Inverse(fes.FreeDofs())*f.vec\n",
    "\n",
    "Draw(gfu)"
   ]
  },
  {
   "cell_type": "code",
   "execution_count": null,
   "metadata": {},
   "outputs": [],
   "source": []
  },
  {
   "cell_type": "code",
   "execution_count": null,
   "metadata": {},
   "outputs": [],
   "source": []
  },
  {
   "cell_type": "code",
   "execution_count": null,
   "metadata": {},
   "outputs": [],
   "source": []
  }
 ],
 "metadata": {
  "kernelspec": {
   "display_name": "Python 3",
   "language": "python",
   "name": "python3"
  },
  "language_info": {
   "codemirror_mode": {
    "name": "ipython",
    "version": 3
   },
   "file_extension": ".py",
   "mimetype": "text/x-python",
   "name": "python",
   "nbconvert_exporter": "python",
   "pygments_lexer": "ipython3",
   "version": "3.8.10"
  }
 },
 "nbformat": 4,
 "nbformat_minor": 2
}
