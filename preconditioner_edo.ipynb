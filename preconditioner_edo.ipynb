{
 "cells": [
  {
   "cell_type": "markdown",
   "id": "mediterranean-workplace",
   "metadata": {},
   "source": [
    "Multigrid and Multilevel Methods\n",
    "===\n",
    "\n",
    "Multigrid (MG) and Multilevel (ML) algorithms provide preconditioners with optimal condition numbers $\\kappa (C^{-1} A) = O(1)$, and optimal computational complexity $O(N)$.\n",
    "\n",
    "They can be seen as extension of the two level overlapping domain decomposition method to more levels.\n",
    "\n",
    "* Ulrich Trottenberg, Cornelius W. Oosterlee, Anton Schuller: Multigrid, Academic Press, 2001\n",
    "* Wolfgang Hackbusch: Multi-Grid Methods and Applications, Springer, 1985\n",
    "\n",
    "In short, both methods are sub-space correction methods where the space splitting is defined by all basis functions together from a hierarchy of grids. Multilevel methods are additive Schwarz methods, while Multigrid methods are the multiplicative Schwarz methods. Both can be implemented efficiently by recursive algorithms. \n",
    "\n",
    "We will present different theories for their analysis, one is based on sub-space decomposition using the ASM lemma, the other one uses the smoothing-and-approximation properties."
   ]
  },
  {
   "cell_type": "markdown",
   "id": "physical-pulse",
   "metadata": {},
   "source": [
    "Multilevel preconditioner\n",
    "---\n",
    "\n",
    "We have a sequence of hierarchically refined meshes, which lead to a sequence of nested finite element spaces\n",
    "\n",
    "$$\n",
    "V_0 \\subset V_1 \\subset \\ldots V_L\n",
    "$$\n",
    "\n",
    "of dimension $N_l = \\operatorname{dim} V_l, l = 0 \\ldots L$.\n",
    "We think of mesh-sizes $h_l = 2^{-l}$, leading to finite element space dimensions $2^{dl}$, where $d$ is the spatial dimension.\n",
    "\n",
    "We have prolongation matrices \n",
    "\n",
    "$$\n",
    "P_l \\in {\\mathbb R}^{N_l \\times N_{l-1}}.\n",
    "$$\n",
    "\n",
    "If $v_{l-1}$ is a finite element function in $V_{l-1}$ represented by the coefficient vector $\\underline v_{l-1}$. Then\n",
    "$\\underline v_l = P_l \\underline v_{l-1}$ is the coefficient vector of the same function represented by the basis functions of $V_l$.\n",
    "\n",
    "If $A_l$ and $A_{l-1}$ are discretization matrices by a Galerkin method, then there holds\n",
    "\n",
    "$$\n",
    "A_{l-1} = P_l^T A_l P_l\n",
    "$$\n",
    "\n",
    "Let $D_l = \\operatorname{diag} A_l$ be the Jacobi preconditioner (or some similar, cheap and local preconditioner).\n",
    "\n",
    "\n",
    "**2-level method**\n",
    "\n",
    "A 2-level preconditioner involving levels $l-1$ and level $l$ is\n",
    "\n",
    "$$\n",
    "C_{2L}^{-1} = D_l^{-1} + P_l A_{l-1}^{-1} P_l^T\n",
    "$$\n",
    "\n",
    "By the ASM - Lemma we have the tools to analyze that this preconditioner has optimal condition number. However, a direct inversion of the matrix $A_{l-1}$ is, up to a constant factor, as expensive as the inversion of $A_l$. The multilevel method is to replace the inverses recursively by a multilevel preconditioner. On the coarsest level we invert the matrix $A_0$:\n",
    "\n",
    "$$\n",
    "C_{ML,0}^{-1}  =  A_0^{-1} \n",
    "$$\n",
    "$$\n",
    "C_{ML,l}^{-1}  =  D_l^{-1} + P_l C_{ML,l-1}^{-1} P_l^T \\qquad \\text{for} \\; l = 1, \\ldots L\n",
    "$$"
   ]
  },
  {
   "cell_type": "code",
   "execution_count": 1,
   "id": "swedish-segment",
   "metadata": {},
   "outputs": [],
   "source": [
    "from ngsolve import *\n",
    "from ngsolve.webgui import Draw\n",
    "from ngsolve.la import EigenValues_Preconditioner\n",
    "\n",
    "mesh = Mesh(unit_square.GenerateMesh(maxh=0.3))\n",
    "\n",
    "fes = H1(mesh,order=3, dirichlet=\".*\", autoupdate=True)\n",
    "u,v = fes.TnT()\n",
    "a = BilinearForm(grad(u)*grad(v)*dx)"
   ]
  },
  {
   "cell_type": "code",
   "execution_count": 2,
   "id": "surrounded-interference",
   "metadata": {},
   "outputs": [],
   "source": [
    "class MLPreconditioner(BaseMatrix):\n",
    "    def __init__ (self, fes, level, mat, coarsepre):\n",
    "        super().__init__()\n",
    "        self.fes = fes\n",
    "        self.level = level\n",
    "        self.mat = mat\n",
    "        self.coarsepre = coarsepre\n",
    "        if level > 0:\n",
    "            self.localpre = mat.CreateSmoother(fes.FreeDofs())\n",
    "        else:\n",
    "            self.localpre = mat.Inverse(fes.FreeDofs())\n",
    "        \n",
    "    def Mult (self, x, y):\n",
    "        if self.level == 0:\n",
    "            y.data = self.localpre * x\n",
    "            return\n",
    "        hx = x.CreateVector(copy=True)\n",
    "        self.fes.Prolongation().Restrict(self.level, hx)\n",
    "        cdofs = self.fes.Prolongation().LevelDofs(self.level-1)\n",
    "        y[cdofs] = self.coarsepre * hx[cdofs] \n",
    "        self.fes.Prolongation().Prolongate(self.level, y)\n",
    "        y += self.localpre * x\n",
    "\n",
    "    def Shape (self):\n",
    "        return self.localpre.shape\n",
    "    def CreateVector (self, col):\n",
    "        return self.localpre.CreateVector(col)"
   ]
  },
  {
   "cell_type": "markdown",
   "id": "protected-champagne",
   "metadata": {},
   "source": [
    "With operator notation we can define the multilevel preconditioner also as follows:"
   ]
  },
  {
   "cell_type": "code",
   "execution_count": 3,
   "id": "adopted-powder",
   "metadata": {},
   "outputs": [],
   "source": [
    "def MLPreconditioner2(fes, level, mat, coarsepre):\n",
    "    prol = fes.Prolongation().Operator(level)\n",
    "    localpre = mat.CreateSmoother(fes.FreeDofs())\n",
    "    return localpre + prol @ coarsepre @ prol.T"
   ]
  },
  {
   "cell_type": "code",
   "execution_count": 4,
   "id": "higher-reaction",
   "metadata": {},
   "outputs": [],
   "source": [
    "a.Assemble()\n",
    "pre = a.mat.Inverse(fes.FreeDofs())"
   ]
  },
  {
   "cell_type": "code",
   "execution_count": 5,
   "id": "scenic-segment",
   "metadata": {},
   "outputs": [
    {
     "name": "stdout",
     "output_type": "stream",
     "text": [
      "ndof =  469\n",
      "ndof =  1801\n",
      "ndof =  7057\n",
      "ndof =  27937\n",
      "ndof =  111169\n",
      "ndof =  443521\n",
      "ndof =  1771777\n"
     ]
    }
   ],
   "source": [
    "for l in range(7):\n",
    "    mesh.Refine()\n",
    "    print (\"ndof = \", fes.ndof)\n",
    "    a.Assemble()\n",
    "    pre = MLPreconditioner(fes,l+1, a.mat, pre)\n",
    "    \n",
    "    #lam = EigenValues_Preconditioner(a.mat, pre)\n",
    "    #print (\"lammin, lammax=\", lam[0], lam[-1], \\\n",
    "    #        \"kappa=\", lam[-1]/lam[0])\n",
    "\n"
   ]
  },
  {
   "cell_type": "code",
   "execution_count": 9,
   "id": "777eed96",
   "metadata": {},
   "outputs": [
    {
     "name": "stdout",
     "output_type": "stream",
     "text": [
      "\u001b[2KCG converged in 109 iterations to residual 1.8663624289726646e-13\n"
     ]
    }
   ],
   "source": [
    "f = LinearForm(1*v*dx).Assemble()\n",
    "gfu = GridFunction(fes)\n",
    "from ngsolve.krylovspace import CGSolver\n",
    "with TaskManager():\n",
    "    #pre2 = a.mat.CreateSmoother(fes.FreeDofs())\n",
    "    inv = CGSolver(mat=a.mat, pre=pre, printrates=\"\\r\", maxiter=10000)\n",
    "    gfu.vec.data = inv * f.vec"
   ]
  },
  {
   "cell_type": "code",
   "execution_count": 7,
   "id": "37bf3fea",
   "metadata": {},
   "outputs": [
    {
     "data": {
      "application/vnd.jupyter.widget-view+json": {
       "model_id": "992e9fdea21d41779b947a3e7fb6e2b6",
       "version_major": 2,
       "version_minor": 0
      },
      "text/plain": [
       "WebGuiWidget(layout=Layout(height='50vh', width='100%'), value={'gui_settings': {}, 'ngsolve_version': '6.2.24…"
      ]
     },
     "metadata": {},
     "output_type": "display_data"
    },
    {
     "data": {
      "text/plain": [
       "BaseWebGuiScene"
      ]
     },
     "execution_count": 7,
     "metadata": {},
     "output_type": "execute_result"
    }
   ],
   "source": [
    "Draw(gfu)"
   ]
  },
  {
   "cell_type": "code",
   "execution_count": 8,
   "id": "cf8bf25e",
   "metadata": {},
   "outputs": [
    {
     "name": "stdout",
     "output_type": "stream",
     "text": [
      "dofs 1771777\n"
     ]
    }
   ],
   "source": [
    "print(\"dofs\" , fes.ndof)"
   ]
  }
 ],
 "metadata": {
  "kernelspec": {
   "display_name": "Python 3",
   "language": "python",
   "name": "python3"
  },
  "language_info": {
   "codemirror_mode": {
    "name": "ipython",
    "version": 3
   },
   "file_extension": ".py",
   "mimetype": "text/x-python",
   "name": "python",
   "nbconvert_exporter": "python",
   "pygments_lexer": "ipython3",
   "version": "3.8.10"
  }
 },
 "nbformat": 4,
 "nbformat_minor": 5
}
