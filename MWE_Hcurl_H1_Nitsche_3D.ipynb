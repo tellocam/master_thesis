{
 "cells": [
  {
   "cell_type": "markdown",
   "metadata": {},
   "source": [
    "Die Hodge-Laplace Gleichungen mit Dirichlet Randbedingungen in Vektor Proxy Notation für 1-formen in 3D. Finde $(\\mathbf{u}, p) \\in \\mathbf{V} \\times Q$, sodass\n",
    "$$\n",
    "\\begin{align}\n",
    "\\nabla p  - \\nabla \\times \\nabla \\times \\mathbf{u} &= \\mathbf{f}, \\quad &\\text{in }\\Omega \\\\\n",
    "\\mathrm{div} \\, \\mathbf{u} - p &= 0, \\quad &\\text{in }\\Omega, \\\\\n",
    "\\mathbf{u} &= \\mathbf{g}, \\quad &\\text{auf }\\Gamma.\n",
    "\\end{align}\n",
    "$$\n",
    "Wobei gilt $\\mathbf{g} = \\gamma_{\\parallel}(\\mathbf{g}) +  \\mathrm{n} \\cdot (\\mathbf{g} \\cdot \\mathrm{n})$. (Zerlegung von g in tangential und normal komponente)\n",
    "\n",
    "$\\gamma_{\\parallel}(\\mathbf{g}) = \\mathrm{n} \\times (\\mathrm{g} \\times \\mathrm{n}) $ und $ \\gamma_{\\mathrm{n}}(\\mathbf{g}) = \\mathrm{n} \\times (\\nabla \\times \\mathrm{n}) $"
   ]
  },
  {
   "cell_type": "markdown",
   "metadata": {},
   "source": [
    "Wir suchen $(\\mathbf{u}_h, p_h) \\in V_h \\times Q_h$ sodass gilt"
   ]
  },
  {
   "cell_type": "markdown",
   "metadata": {},
   "source": [
    "$$\n",
    "\\begin{align}\n",
    "    \\int_{\\Omega} \\nabla p_h \\cdot \\mathbf{v}_h \\, \\mathrm{dx} - \\int_{\\Omega} (\\nabla \\times \\mathbf{u}_h) \\cdot (\\nabla \\times \\mathbf{v}_h) \\, \\mathrm{dx}\n",
    "    - \\int_{\\Gamma}\\gamma_{n}(\\mathbf{u}_h) \\cdot \\gamma_{\\parallel}(\\mathbf{v}_h) \\, \\mathrm{ds} \\\\[0.25cm]\n",
    "    - \\int_{\\Gamma}\\gamma_{n}(\\mathbf{v}_h) \\cdot \\gamma_{\\parallel}(\\mathbf{u}_h) \\, \\mathrm{ds}\n",
    "    + \\frac{C_{\\omega}}{\\mathrm{h}} \\int_{\\Gamma} \\gamma_{\\parallel}(\\mathbf{u}_h) \\cdot \\gamma_{\\parallel}(\\mathbf{v}_h) \\, \\mathrm{ds}\n",
    "    &= \\int_{\\Omega} \\mathbf{f} \\cdot \\mathbf{v}_h \\, \\mathrm{dx}\n",
    "    - \\int_{\\Gamma}\\gamma_{n}(\\mathbf{v}_h) \\cdot \\gamma_{\\parallel}(\\mathbf{g}) \\, \\mathrm{ds},\\\\[0.25cm]\n",
    "    &\\quad \\, + \\frac{C_{\\omega}}{\\mathrm{h}} \\int_{\\Gamma} \\gamma_{\\parallel}(\\mathbf{g}) \\cdot \\gamma_{\\parallel}(\\mathbf{v}_h) \\, \\mathrm{ds}&\\quad \\\\[0.25cm]\n",
    "    \\int_{\\Omega} \\mathbf{u}_h \\cdot \\nabla q_h \\, \\mathrm{dx}  - \\int_{\\Omega} p_h \\, q_h \\, \\mathrm{dx}\n",
    "    &= \\int_{\\Gamma} (\\mathbf{g}\\cdot \\mathbf{n}) \\, q_h \\, \\mathrm{ds}, \\quad \\forall (\\mathbf{v}_h, q_h) \\in V_h \\times Q_h.\n",
    "\\end{align}\n",
    "$$"
   ]
  },
  {
   "cell_type": "markdown",
   "metadata": {},
   "source": [
    "Wir haben den Symmetrisierungsterm $- \\int_{\\Gamma}\\gamma_{n}(\\mathbf{u}_h) \\cdot \\gamma_{\\parallel}(\\mathbf{v}_h) \\, \\mathrm{ds}$ und den Nitsche penalty Term $ \\frac{C_{\\omega}}{\\mathrm{h}} \\int_{\\Gamma} \\gamma_{\\parallel}(\\mathbf{u}_h) \\cdot \\gamma_{\\parallel}(\\mathbf{v}_h) \\, \\mathrm{ds}$ addiert und die Rechte Seite der Gleichung entsprechend angepasst. Im Nitsche Term wird die Tangetialkomponente der Dirichlet Randbedingung approximiert (oder abweichung davon \"penalisiert\"), wobei die normalkomponente im Randintegral von der partiellen Integration natürlich eingebettet wird."
   ]
  },
  {
   "cell_type": "code",
   "execution_count": 2,
   "metadata": {},
   "outputs": [],
   "source": [
    "# Importiere Sachen\n",
    "\n",
    "from ngsolve import *\n",
    "from ngsolve.meshes import MakeStructured3DMesh\n",
    "from ngsolve.webgui import Draw\n",
    "from netgen.occ import *\n",
    "from netgen.csg import *\n",
    "\n",
    "from ngsolve.comp import ProxyFunction\n",
    "from ngsolve.fem import CoefficientFunction\n",
    "\n",
    "ProxyFunction.__or__ = lambda a, b: InnerProduct(a, b)\n",
    "CoefficientFunction.__or__ = lambda a, b: InnerProduct(a, b)"
   ]
  },
  {
   "cell_type": "code",
   "execution_count": 3,
   "metadata": {},
   "outputs": [],
   "source": [
    "# Funktionen um Hodge-Laplace von g zu berechnen\n",
    "coords = [x,y,z]\n",
    "\n",
    "def JacobianOfCF(cf):\n",
    "    \"\"\" Function to compute the Jacobi Matrix of a vector coefficient function cf \"\"\"\n",
    "    Jac_u_3D = CF((\n",
    "    cf[0].Diff(x), cf[0].Diff(y), cf[0].Diff(z),\n",
    "    cf[1].Diff(x), cf[1].Diff(y), cf[1].Diff(z),\n",
    "    cf[2].Diff(x), cf[2].Diff(y), cf[2].Diff(z)\n",
    "    ), dims=(3, 3))\n",
    "    return Jac_u_3D\n",
    "\n",
    "def GGrad(cf):\n",
    "    \"\"\" Function to compute the gradient of a scalar Coefficient Function \"\"\"\n",
    "    gg = [cf.Diff(coords[i]) for i in range(mesh.dim)]\n",
    "    return CF(tuple(gg))\n",
    "\n",
    "\n",
    "def GCurl(cf):\n",
    "    \"\"\" Function to compute the curl or rot of vec cf using Jacobian \"\"\"\n",
    "    if cf.dim == 1: # if the functions is getting handed a scalar field, its to calculate the curl of the rot..\n",
    "        curl_rot_u = CF((cf.Diff(y), - cf.Diff(x)))\n",
    "        return curl_rot_u\n",
    "\n",
    "    elif mesh.dim == 2:\n",
    "        rot_u = CF(cf[1].Diff(x) - cf[0].Diff(y))\n",
    "        return rot_u\n",
    "    \n",
    "    elif mesh.dim == 3:\n",
    "        Jac_u = JacobianOfCF(cf)\n",
    "        curl_u = CF((Jac_u[2,1] - Jac_u[1,2],  \n",
    "                    Jac_u[0,2] - Jac_u[2,0],  \n",
    "                    Jac_u[1,0] - Jac_u[0,1]))\n",
    "        return curl_u\n",
    "    \n",
    "\n",
    "def GDiv(cf):\n",
    "    \"\"\" Function to compute the divergence of a vector coefficient function \"\"\"\n",
    "    gd = [cf[i].Diff(coords[i]) for i in range(cf.dim)]\n",
    "    return CF(sum(gd))"
   ]
  },
  {
   "cell_type": "code",
   "execution_count": 4,
   "metadata": {},
   "outputs": [],
   "source": [
    "# Funktion für Geometrie\n",
    "\n",
    "def createUnitBrickGeometry(h_init, refineSteps = None):\n",
    "    unitBrick = OrthoBrick( Pnt(-0.5,-0.5,-0.5), Pnt(0.5,0.5,0.5) )\n",
    "    geo = CSGeometry()\n",
    "    geo.Add (unitBrick)\n",
    "    mesh = geo.GenerateMesh(maxh=h_init)\n",
    "    if (refineSteps != None):\n",
    "        for i in range(refineSteps):\n",
    "            mesh.Refine()\n",
    "        return Mesh(mesh)\n",
    "    else:\n",
    "        return Mesh(mesh)"
   ]
  },
  {
   "cell_type": "code",
   "execution_count": 5,
   "metadata": {},
   "outputs": [],
   "source": [
    "def hodgeLaplace1Forms(mesh,\n",
    "                       g,\n",
    "                       order = 1,\n",
    "                       C_w = 1):\n",
    "    \n",
    "    dS = dx(skeleton  = True, element_vb = BND, definedon=mesh.Boundaries(\".*\"))\n",
    "    ProxyFunction.__or__ = lambda a, b: InnerProduct(a, b)\n",
    "    CoefficientFunction.__or__ = lambda a, b: InnerProduct(a, b)\n",
    "    def Gn(u): return Cross(n, curl(u)) #gamma_n operator\n",
    "    def Gt(u): return Cross(n, Cross(u, n)) #gamma_parallel operator\n",
    "    \n",
    "    h_curl = HCurl(mesh, order=order, type1=True)  # For 1-forms, H(curl)\n",
    "    h_1 = H1(mesh, order=order)     # For 0-forms, H1 space\n",
    "    fes = h_curl * h_1\n",
    "    (u, p), (v, q) = fes.TnT()\n",
    "\n",
    "    B, F = BilinearForm(fes), LinearForm(fes)\n",
    "\n",
    "    n = specialcf.normal(mesh.dim)\n",
    "    h = specialcf.mesh_size\n",
    "\n",
    "    f = CF(GGrad(GDiv(g)) - GCurl(GCurl(g))) # Hodge Laplace g: Grad Div g - curl curl g\n",
    "\n",
    "    B += -(curl(u)|curl(v)) * dx\n",
    "    B += (v|Grad(p)) * dx\n",
    "    B += (u|Grad(q)) * dx\n",
    "    B += - (p|q) * dx\n",
    "    \n",
    "    B += - (Gt(v)|Gn(u)) * dS\n",
    "    B += - (Gt(u)|Gn(v)) * dS\n",
    "    B += - C_w/h * (Gt(u)|Gt(v)) * dS\n",
    "\n",
    "    F += (f|v) * dx\n",
    "    \n",
    "    F +=  - (C_w / h) * (Gt(g)|Gt(v)) * dS\n",
    "    F +=  - (Gt(g)|Gn(v)) * dS\n",
    "    F +=  (g*n|q) * dS\n",
    "    \n",
    "    with TaskManager():\n",
    "        B.Assemble(), F.Assemble()\n",
    "        sol = GridFunction(fes)\n",
    "        res = F.vec-B.mat * sol.vec\n",
    "        inv = B.mat.Inverse(freedofs=fes.FreeDofs(), inverse=\"pardiso\")\n",
    "        sol.vec.data += inv * res\n",
    "\n",
    "    gf_u , gf_p = sol.components\n",
    "\n",
    "    p_m =  CF(GDiv(g))\n",
    "    \n",
    "    L2_error_u = sqrt(Integrate((gf_u - g)**2, mesh))\n",
    "    L2_u = sqrt(Integrate((gf_u)**2, mesh))\n",
    "    L2_error_p = sqrt(Integrate((gf_p - p_m)**2, mesh))\n",
    "    L2_p = sqrt(Integrate((p_m)**2, mesh))\n",
    "\n",
    "    return L2_error_u, L2_error_p, L2_u, L2_p, gf_u, gf_p"
   ]
  },
  {
   "cell_type": "code",
   "execution_count": 6,
   "metadata": {},
   "outputs": [],
   "source": [
    "order = 1\n",
    "h = 0.1\n",
    "C_w = 10 #Nitsche penalty parameter\n",
    "\n",
    "g = CF((x**2 * sin(z) * cos(y), # Hergestellte Lösung\n",
    "        2 * z**3 * sin(x) * cos(1/3*z),\n",
    "        -y**2 *-cos(3*z)*sin(x)         ))\n",
    "\n",
    "mesh = createUnitBrickGeometry(h)"
   ]
  },
  {
   "cell_type": "code",
   "execution_count": 7,
   "metadata": {},
   "outputs": [
    {
     "name": "stdout",
     "output_type": "stream",
     "text": [
      "L2 Fehler u:  0.5643161614640166\n",
      "L2 u:  0.5674558362855283\n",
      "L2 Fehler p:  8.810228813591259\n",
      "L2 p:  0.11840317655252028\n"
     ]
    }
   ],
   "source": [
    "error_u, error_p, L2_u, L2_p,  gf_u, gf_p = hodgeLaplace1Forms(mesh, g, order, C_w)\n",
    "print(\"L2 Fehler u: \", error_u)\n",
    "print(\"L2 u: \", L2_u)\n",
    "print(\"L2 Fehler p: \", error_p)\n",
    "print(\"L2 p: \", L2_p)"
   ]
  },
  {
   "cell_type": "code",
   "execution_count": 8,
   "metadata": {},
   "outputs": [
    {
     "data": {
      "application/vnd.jupyter.widget-view+json": {
       "model_id": "58a92c036e3c497399f7190d647a4a8c",
       "version_major": 2,
       "version_minor": 0
      },
      "text/plain": [
       "WebGuiWidget(layout=Layout(height='50vh', width='100%'), value={'gui_settings': {}, 'ngsolve_version': '6.2.24…"
      ]
     },
     "metadata": {},
     "output_type": "display_data"
    },
    {
     "data": {
      "text/plain": [
       "BaseWebGuiScene"
      ]
     },
     "execution_count": 8,
     "metadata": {},
     "output_type": "execute_result"
    }
   ],
   "source": [
    "Draw(gf_u)\n",
    "#Draw(gf_p)\n",
    "#Draw(g, mesh)"
   ]
  }
 ],
 "metadata": {
  "kernelspec": {
   "display_name": "Python (academicVenv)",
   "language": "python",
   "name": "academicvenv"
  },
  "language_info": {
   "codemirror_mode": {
    "name": "ipython",
    "version": 3
   },
   "file_extension": ".py",
   "mimetype": "text/x-python",
   "name": "python",
   "nbconvert_exporter": "python",
   "pygments_lexer": "ipython3",
   "version": "3.12.3"
  }
 },
 "nbformat": 4,
 "nbformat_minor": 2
}
