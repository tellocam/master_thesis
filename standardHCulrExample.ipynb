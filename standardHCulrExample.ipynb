{
 "cells": [
  {
   "cell_type": "code",
   "execution_count": 7,
   "metadata": {},
   "outputs": [],
   "source": [
    "from ngsolve import *\n",
    "from ngsolve.webgui import Draw\n",
    "from netgen.csg import * \n",
    "from ngsolve.meshes import MakeStructured2DMesh\n",
    "from ngsolve.solvers import GMRes\n",
    "from netgen.geom2d import SplineGeometry"
   ]
  },
  {
   "cell_type": "code",
   "execution_count": 8,
   "metadata": {},
   "outputs": [],
   "source": [
    "# functions for differential operators on manufactured solutions \n",
    "\n",
    "coords = [x,y,z]\n",
    "\n",
    "def JacobianOfCF(cf):\n",
    "    \"\"\" Function to compute the Jacobi Matrix of a vector coefficient function cf \"\"\"\n",
    "\n",
    "    Jac_u_3D = CF((\n",
    "    cf[0].Diff(x), cf[0].Diff(y), cf[0].Diff(z),\n",
    "    cf[1].Diff(x), cf[1].Diff(y), cf[1].Diff(z),\n",
    "    cf[2].Diff(x), cf[2].Diff(y), cf[2].Diff(z)\n",
    "    ), dims=(3, 3))\n",
    "\n",
    "    return Jac_u_3D\n",
    "\n",
    "def GGrad(cf):\n",
    "    \"\"\" Function to compute the gradient of a scalar Coefficient Function \"\"\"\n",
    "    gg = [cf.Diff(coords[i]) for i in range(mesh.dim)]\n",
    "    return CF(tuple(gg))\n",
    "\n",
    "\n",
    "def GCurl(cf):\n",
    "    \"\"\" Function to compute the curl or rot of vec cf using Jacobian \"\"\"\n",
    "\n",
    "    if cf.dim == 1: # if the functions is getting handed a scalar field, its to calculate the curl of the rot..\n",
    "        curl_rot_u = CF((cf.Diff(y), - cf.Diff(x)))\n",
    "        return curl_rot_u\n",
    "\n",
    "    elif mesh.dim == 2:\n",
    "        rot_u = CF(cf[1].Diff(x) - cf[0].Diff(y))\n",
    "        return rot_u\n",
    "    \n",
    "    elif mesh.dim == 3:\n",
    "        Jac_u = JacobianOfCF(cf)\n",
    "        curl_u = CF((Jac_u[2,1] - Jac_u[1,2],  \n",
    "                    Jac_u[0,2] - Jac_u[2,0],  \n",
    "                    Jac_u[1,0] - Jac_u[0,1]))\n",
    "        return curl_u\n",
    "    \n",
    "\n",
    "def GDiv(cf):\n",
    "    \"\"\" Function to compute the divergence of a vector coefficient function \"\"\"\n",
    "\n",
    "    gd = [cf[i].Diff(coords[i]) for i in range(cf.dim)]\n",
    "    return CF(sum(gd))"
   ]
  },
  {
   "cell_type": "code",
   "execution_count": 9,
   "metadata": {},
   "outputs": [],
   "source": [
    "def createGeometry(h):\n",
    "    geo = SplineGeometry()\n",
    "    geo.AddRectangle((0,0),(1,1),bc=\"rectangle\")\n",
    "    ngmesh = geo.GenerateMesh(maxh=h)\n",
    "    return Mesh(ngmesh)\n",
    "\n",
    "def createGeometryStructured(n):\n",
    "    mesh = MakeStructured2DMesh(quads=False, nx=n, ny=n)\n",
    "    return mesh"
   ]
  },
  {
   "cell_type": "code",
   "execution_count": 10,
   "metadata": {},
   "outputs": [],
   "source": [
    "def easyHCurlMethod(mesh, g, order):\n",
    "    fes = HCurl(mesh, order=order, type1=True)  # For 1-forms, H(curl) space\n",
    "    u,v = fes.TnT()\n",
    "\n",
    "    n = specialcf.normal(mesh.dim)\n",
    "    curlg = GCurl(g)\n",
    "    gamma_n_g = CF((curlg*n[1], -curlg*n[0]))\n",
    "    \n",
    "    f = CF(GCurl(GCurl(g)) + g )\n",
    "\n",
    "    B, F = BilinearForm(fes), LinearForm(fes) \n",
    "    \n",
    "    B += curl(u)*curl(v)*dx\n",
    "    B += u*v*dx\n",
    "\n",
    "    F += f*v*dx\n",
    "    F += - gamma_n_g * v * ds(skeleton=True)\n",
    "\n",
    "    B.Assemble(); F.Assemble()\n",
    "\n",
    "    with TaskManager(): \n",
    "        B.Assemble()\n",
    "        F.Assemble()\n",
    "        sol = GridFunction(fes)\n",
    "        res = F.vec-B.mat * sol.vec\n",
    "        inv = B.mat.Inverse(freedofs=fes.FreeDofs(), inverse=\"pardiso\")\n",
    "        sol.vec.data += inv * res\n",
    "\n",
    "    return sol\n",
    "    \n"
   ]
  },
  {
   "cell_type": "code",
   "execution_count": 11,
   "metadata": {},
   "outputs": [],
   "source": [
    "h = 0.01\n",
    "order = 5\n",
    "g = CF((sin(pi*x)*cos(pi*y)*x*(1-x)*y*(1-y), sin(pi*y)*cos(pi*x)*x*(1-x)*y*(1-y)))\n",
    "mesh = createGeometry(h)\n",
    "solution = easyHCurlMethod(mesh, g, order)"
   ]
  },
  {
   "cell_type": "code",
   "execution_count": 12,
   "metadata": {},
   "outputs": [
    {
     "data": {
      "application/vnd.jupyter.widget-view+json": {
       "model_id": "43513aa5323241b6bcb8827698ec0973",
       "version_major": 2,
       "version_minor": 0
      },
      "text/plain": [
       "WebGuiWidget(layout=Layout(height='50vh', width='100%'), value={'gui_settings': {}, 'ngsolve_version': '6.2.24…"
      ]
     },
     "metadata": {},
     "output_type": "display_data"
    },
    {
     "data": {
      "text/plain": [
       "BaseWebGuiScene"
      ]
     },
     "execution_count": 12,
     "metadata": {},
     "output_type": "execute_result"
    }
   ],
   "source": [
    "Draw(solution, mesh)"
   ]
  }
 ],
 "metadata": {
  "kernelspec": {
   "display_name": "Python (academicVenv)",
   "language": "python",
   "name": "academicvenv"
  },
  "language_info": {
   "codemirror_mode": {
    "name": "ipython",
    "version": 3
   },
   "file_extension": ".py",
   "mimetype": "text/x-python",
   "name": "python",
   "nbconvert_exporter": "python",
   "pygments_lexer": "ipython3",
   "version": "3.12.3"
  }
 },
 "nbformat": 4,
 "nbformat_minor": 2
}
