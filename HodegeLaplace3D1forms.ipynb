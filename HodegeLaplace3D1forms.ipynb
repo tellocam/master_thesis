{
 "cells": [
  {
   "cell_type": "code",
   "execution_count": 35,
   "metadata": {},
   "outputs": [],
   "source": [
    "\n",
    "from ngsolve import *\n",
    "from ngsolve.webgui import Draw\n",
    "from netgen.csg import *\n",
    "import scipy.sparse as sp\n",
    "import numpy as np"
   ]
  },
  {
   "cell_type": "code",
   "execution_count": 36,
   "metadata": {},
   "outputs": [],
   "source": [
    "# Relevant parameters to play around with\n",
    "\n",
    "order = 2 # mesh order\n",
    "max_h = 1 # mesh size\n",
    "C_w = 90# penalty term weight\n",
    "d = 3 # mesh dimension.."
   ]
  },
  {
   "cell_type": "code",
   "execution_count": 37,
   "metadata": {},
   "outputs": [],
   "source": [
    "# functions for differential operators on manufactured solutions \n",
    "\n",
    "coords = [x,y,z]\n",
    "\n",
    "def JacobianOfCF(cf):\n",
    "    \"\"\" Function to compute the Jacobi Matrix of a vector coefficient function cf \"\"\"\n",
    "\n",
    "    Jac_u_3D = CF((\n",
    "    cf[0].Diff(x), cf[0].Diff(y), cf[0].Diff(z),\n",
    "    cf[1].Diff(x), cf[1].Diff(y), cf[1].Diff(z),\n",
    "    cf[2].Diff(x), cf[2].Diff(y), cf[2].Diff(z)\n",
    "    ), dims=(3, 3))\n",
    "\n",
    "    return Jac_u_3D\n",
    "\n",
    "def GGrad(cf):\n",
    "    \"\"\" Function to compute the gradient of a scalar Coefficient Function \"\"\"\n",
    "    gg = [cf.Diff(coords[i]) for i in range(mesh.dim)]\n",
    "    return CF(tuple(gg))\n",
    "\n",
    "\n",
    "def GCurl(cf):\n",
    "    \"\"\" Function to compute the curl or rot of vec cf using Jacobian \"\"\"\n",
    "\n",
    "    if cf.dim == 1: # if the functions is getting handed a scalar field, its to calculate the curl of the rot..\n",
    "        curl_rot_u = CF((cf.Diff(y), - cf.Diff(x)))\n",
    "        return curl_rot_u\n",
    "\n",
    "    elif mesh.dim == 2:\n",
    "        rot_u = CF(cf[1].Diff(x) - cf[0].Diff(y))\n",
    "        return rot_u\n",
    "    \n",
    "    elif mesh.dim == 3:\n",
    "        Jac_u = JacobianOfCF(cf)\n",
    "        curl_u = CF((Jac_u[2,1] - Jac_u[1,2],  \n",
    "                    Jac_u[0,2] - Jac_u[2,0],  \n",
    "                    Jac_u[1,0] - Jac_u[0,1]))\n",
    "        return curl_u\n",
    "    \n",
    "\n",
    "def GDiv(cf):\n",
    "    \"\"\" Function to compute the divergence of a vector coefficient function \"\"\"\n",
    "\n",
    "    gd = [cf[i].Diff(coords[i]) for i in range(cf.dim)]\n",
    "    return CF(sum(gd))\n",
    "\n",
    "# Functions to calculate h_max\n",
    "\n",
    "def edge_length(v1, v2, dim):\n",
    "    return np.sqrt(sum((v1[i] - v2[i])**2 for i in range(dim)))\n",
    "\n",
    "def squared_distance(v1, v2):\n",
    "    v1 = np.array(v1)\n",
    "    v2 = np.array(v2)\n",
    "    return np.sum((v1 - v2) ** 2)\n",
    "\n",
    "def cayley_menger_matrix(vertices):\n",
    "    if len(vertices) != 4:\n",
    "        raise ValueError(\"This method is for a tetrahedron, which requires exactly 4 vertices.\")\n",
    "\n",
    "    # Create the Cayley-Menger matrix (5x5)\n",
    "    C = np.ones((5, 5))\n",
    "    for i in range(5):\n",
    "        C[i, i] = 0 \n",
    "\n",
    "    for i in range(1, 5):\n",
    "        for j in range(i+1, 5):\n",
    "            C[i, j] = C[j, i] = squared_distance(vertices[i-1], vertices[j-1])\n",
    "\n",
    "    return C\n",
    "\n",
    "def triangle_area(a, b, c):\n",
    "    s = (a + b + c) / 2  \n",
    "    return np.sqrt(s * (s - a) * (s - b) * (s - c))\n",
    "\n",
    "def circumradius_2D(a, b, c):\n",
    "    area = triangle_area(a, b, c)\n",
    "    return a * b * c / (4 * area)\n",
    "\n",
    "def circumradius_3D(vertices):\n",
    "    C = cayley_menger_matrix(vertices)\n",
    "\n",
    "    try:\n",
    "        C_inv = np.linalg.inv(C)\n",
    "    except np.linalg.LinAlgError:\n",
    "        raise ValueError(\"Cayley-Menger matrix is singular or not invertible.\")\n",
    "\n",
    "    M = -2 * C_inv\n",
    "    circumradius = 0.5 * np.sqrt(M[0, 0])\n",
    "\n",
    "    return circumradius\n",
    "\n",
    "def calc_hmax(mesh):\n",
    "    max_h = 0 \n",
    "    if mesh.dim == 2:\n",
    "        for el in mesh.Elements():\n",
    "            vertices = [mesh[v].point for v in el.vertices]\n",
    "            a = edge_length(vertices[0], vertices[1], 2)\n",
    "            b = edge_length(vertices[1], vertices[2], 2)\n",
    "            c = edge_length(vertices[2], vertices[0], 2)\n",
    "            circumradius = circumradius_2D(a, b, c)\n",
    "            max_h = max(max_h, circumradius)\n",
    "    \n",
    "    elif mesh.dim == 3:\n",
    "        for el in mesh.Elements():\n",
    "            vertices = [mesh[v].point for v in el.vertices]\n",
    "            circumradius = circumradius_3D(vertices)\n",
    "            max_h = max(max_h, circumradius)\n",
    "    \n",
    "    return max_h"
   ]
  },
  {
   "cell_type": "code",
   "execution_count": 38,
   "metadata": {},
   "outputs": [
    {
     "name": "stdout",
     "output_type": "stream",
     "text": [
      "('back', 'left', 'front', 'right', 'bottom', 'top')\n",
      "0.09375000024541177\n"
     ]
    }
   ],
   "source": [
    "mesh = Mesh(unit_cube.GenerateMesh(maxh=max_h))\n",
    "print(mesh.GetBoundaries())\n",
    "refinements = 3\n",
    "for i in range(refinements):\n",
    "    mesh.Refine()\n",
    "\n",
    "h_max_eval = calc_hmax(mesh)\n",
    "print(h_max_eval)\n",
    "\n",
    "V_k = HCurl(mesh, order=order, type1=False)\n",
    "V_km1 = H1(mesh, order=order+1)\n",
    "\n",
    "prodSpc = V_k * V_km1\n",
    "\n",
    "(omega, sigma), (eta, tau) = prodSpc.TnT()"
   ]
  },
  {
   "cell_type": "code",
   "execution_count": 39,
   "metadata": {},
   "outputs": [],
   "source": [
    "a = BilinearForm(prodSpc)\n",
    "\n",
    "a += sigma * tau * dx\n",
    "a += - omega * grad(tau) * dx\n",
    "\n",
    "a +=  grad(sigma) * eta * dx\n",
    "a +=  curl(omega) * curl(eta) * dx"
   ]
  },
  {
   "cell_type": "markdown",
   "metadata": {},
   "source": [
    "Lets unpack the first boundary term from (2c):\n",
    "\n",
    "$$\n",
    "+ \\, \\int_{\\Gamma} \\text{tr}(\\star d\\omega_h) \\wedge \\text{tr}(\\eta_h) \\tag{2c.1}\n",
    "$$\n",
    "\n",
    "If we consider the k-forms in 3D to be: \n",
    "\n",
    "$$\n",
    "\\omega , \\eta \\in \\Lambda^1(\\Omega) \\, \\Longleftrightarrow \\, \\omega, \\eta \\in H(\\text{curl}, \\Omega)\n",
    "$$\n",
    "\n",
    "We can plug in the according vector calculus operations and transform them with help from some identities:\n",
    "\n",
    "$$\n",
    "\\begin{aligned}\n",
    "&= \\int_{\\Gamma} (\\text{n} \\times \\nabla \\times \\omega_h) \\cdot \\eta_h \\\\[10pt]\n",
    "\n",
    "&= \\int_{\\Gamma} (\\nabla \\times \\omega_h) \\cdot (\\eta_h \\times \\text{n})\n",
    "\\end{aligned}\n",
    "$$\n",
    "\n"
   ]
  },
  {
   "cell_type": "code",
   "execution_count": 40,
   "metadata": {},
   "outputs": [],
   "source": [
    "n = specialcf.normal(mesh.dim)\n",
    "\n",
    "a += curl(omega) * Cross(eta, n) * ds(skeleton=True, definedon=mesh.Boundaries(\".*\"))\n"
   ]
  },
  {
   "cell_type": "markdown",
   "metadata": {},
   "source": [
    "And the second boundary term from (2c):\n",
    "\n",
    "$$\n",
    "\\begin{aligned}\n",
    "&+ \\int_{\\Gamma} \\text{tr} ( \\omega_h ) \\wedge \\text{tr} ( \\star d\\eta_h ) \\tag{2c.2} \\\\[10pt]\n",
    "\n",
    "&=\\int_{\\Gamma} (\\omega_h \\times \\text{n}) \\cdot (\\nabla \\times \\eta_h)\n",
    "\\end{aligned}\n",
    "$$"
   ]
  },
  {
   "cell_type": "code",
   "execution_count": 41,
   "metadata": {},
   "outputs": [],
   "source": [
    "a += Cross(omega, n) * curl(eta) * ds(skeleton=True, definedon=mesh.Boundaries(\".*\"))"
   ]
  },
  {
   "cell_type": "markdown",
   "metadata": {},
   "source": [
    "And the pentalty or stabilization term:\n",
    "\n",
    "$$\n",
    "+ \\, \\frac{C_w}{h} \\langle \\text{tr}\\, \\omega, \\text{tr}\\, \\eta \\rangle_{L^2(\\Gamma)} \\tag{2d.1}\n",
    "$$"
   ]
  },
  {
   "cell_type": "code",
   "execution_count": 42,
   "metadata": {},
   "outputs": [],
   "source": [
    "h = specialcf.mesh_size\n",
    "a += (C_w / h) * Cross(omega, n) * Cross(eta, n) * ds(skeleton=True, definedon=mesh.Boundaries(\".*\"))"
   ]
  },
  {
   "cell_type": "code",
   "execution_count": 43,
   "metadata": {},
   "outputs": [],
   "source": [
    "A = 0.1  # Amplitude of the pulse\n",
    "sigma_pulse = 0.2  # Width of the Gaussian pulse\n",
    "r0 = (0, 0, 0)  # Center of the Gaussian pulse\n",
    "n_pulse = (1, 1, 1)  # Direction of the pulse (unit vector)\n",
    "\n",
    "gauss_pulse = CF((\n",
    "    A * exp(-((x - r0[0])**2 + (y - r0[1])**2 + (z - r0[2])**2) / (2 * sigma_pulse**2)) * n_pulse[0],\n",
    "    A * exp(-((x - r0[0])**2 + (y - r0[1])**2 + (z - r0[2])**2) / (2 * sigma_pulse**2)) * n_pulse[1],\n",
    "    A * exp(-((x - r0[0])**2 + (y - r0[1])**2 + (z - r0[2])**2) / (2 * sigma_pulse**2)) * n_pulse[2]\n",
    "))\n",
    "\n",
    "omega_m = CF((sin(pi*x)*sin(pi*y)*sin(pi*z), \n",
    "              sin(pi*x)*sin(pi*y)*sin(pi*z), \n",
    "              sin(pi*x)*sin(pi*y)*sin(pi*z)))\n",
    "\n",
    "omega_m_zero = CF((0,0,0))\n",
    "\n",
    "omega_m = omega_m \n",
    "hL_omega = GCurl(GCurl(omega_m)) - GGrad(GDiv(omega_m))\n",
    "\n",
    "omega_gamma = CF((0,0,0))# dirichlet value on a boundary of the unit cube, vector field homogenously showing in z-direction\n",
    "\n",
    "\n",
    "f = LinearForm(prodSpc)\n",
    "f += hL_omega * eta * dx\n",
    "f += (C_w / h) * Cross(n, Cross(omega_gamma, n)) * Cross(n, Cross(eta, n)) * ds(skeleton=True, definedon=\"left\")\n",
    "f += Cross(n, Cross(omega_gamma, n)) * Cross(n, curl(eta)) * ds(skeleton=True, definedon=\"left\")"
   ]
  },
  {
   "cell_type": "markdown",
   "metadata": {},
   "source": []
  },
  {
   "cell_type": "code",
   "execution_count": 44,
   "metadata": {},
   "outputs": [
    {
     "name": "stdout",
     "output_type": "stream",
     "text": [
      "Matrix dimensions: 92001 x 92001\n",
      "Residual:  8.425390963297582e-14\n",
      "L2 Error omega:  0.0003694267391992805\n",
      "L2 Error curl(omega):  0.025467352288071753\n",
      "L2 Error sigma::  0.005311582358995425\n",
      "L2 Error grad(sigma):  0.5140663987817558\n"
     ]
    }
   ],
   "source": [
    "a.Assemble()\n",
    "f.Assemble()\n",
    "\n",
    "rows,cols,vals = a.mat.COO()\n",
    "A = sp.csr_matrix((vals,(rows,cols)))\n",
    "#cond_nr = np.linalg.cond(A.todense())\n",
    "\n",
    "sol = GridFunction(prodSpc)\n",
    "res = f.vec-a.mat * sol.vec\n",
    "inv = a.mat.Inverse(freedofs=prodSpc.FreeDofs(), inverse=\"pardiso\")\n",
    "sol.vec.data += inv * res\n",
    "\n",
    "gf_omega , gf_sigma = sol.components\n",
    "\n",
    "curl_omega = curl(gf_omega)\n",
    "grad_sigma = grad(gf_sigma)\n",
    "\n",
    "print(\"Matrix dimensions:\", a.mat.height, \"x\", a.mat.width)\n",
    "#print(\"Matrix Condition Number: \", cond_nr)\n",
    "print(\"Residual: \", Norm(res))\n",
    "print(\"L2 Error omega: \", sqrt(Integrate((gf_omega - omega_m)**2, mesh)))\n",
    "print(\"L2 Error curl(omega): \", sqrt(Integrate((curl(gf_omega) - GCurl(omega_m))**2, mesh)))\n",
    "print(\"L2 Error sigma:: \", sqrt(Integrate((gf_sigma + GDiv(omega_m))**2, mesh)))\n",
    "print(\"L2 Error grad(sigma): \", sqrt(Integrate((grad(gf_sigma) + GGrad(GDiv(omega_m)))**2, mesh)))\n",
    "\n"
   ]
  },
  {
   "cell_type": "code",
   "execution_count": 45,
   "metadata": {},
   "outputs": [
    {
     "data": {
      "application/vnd.jupyter.widget-view+json": {
       "model_id": "2ca699b56f8f446ebcf4c9ef5f672ddf",
       "version_major": 2,
       "version_minor": 0
      },
      "text/plain": [
       "WebGuiWidget(layout=Layout(height='50vh', width='100%'), value={'gui_settings': {}, 'ngsolve_version': '6.2.24…"
      ]
     },
     "metadata": {},
     "output_type": "display_data"
    },
    {
     "data": {
      "text/plain": [
       "BaseWebGuiScene"
      ]
     },
     "execution_count": 45,
     "metadata": {},
     "output_type": "execute_result"
    }
   ],
   "source": [
    "Draw(curl(gf_omega), mesh)"
   ]
  },
  {
   "cell_type": "markdown",
   "metadata": {},
   "source": []
  }
 ],
 "metadata": {
  "kernelspec": {
   "display_name": "Python 3",
   "language": "python",
   "name": "python3"
  },
  "language_info": {
   "codemirror_mode": {
    "name": "ipython",
    "version": 3
   },
   "file_extension": ".py",
   "mimetype": "text/x-python",
   "name": "python",
   "nbconvert_exporter": "python",
   "pygments_lexer": "ipython3",
   "version": "3.8.10"
  }
 },
 "nbformat": 4,
 "nbformat_minor": 2
}
