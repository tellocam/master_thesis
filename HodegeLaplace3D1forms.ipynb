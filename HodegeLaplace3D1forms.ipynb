{
 "cells": [
  {
   "cell_type": "code",
   "execution_count": 111,
   "metadata": {},
   "outputs": [],
   "source": [
    "\n",
    "from ngsolve import *\n",
    "from ngsolve.webgui import Draw\n",
    "from netgen.csg import *\n",
    "import scipy.sparse as sp\n",
    "import numpy as np"
   ]
  },
  {
   "cell_type": "code",
   "execution_count": 112,
   "metadata": {},
   "outputs": [],
   "source": [
    "# Relevant parameters to play around with\n",
    "\n",
    "order = 2 # mesh order\n",
    "max_h = 0.05 # mesh size\n",
    "C_w = 1000# penalty term weight"
   ]
  },
  {
   "cell_type": "code",
   "execution_count": 113,
   "metadata": {},
   "outputs": [],
   "source": [
    "# 1. Define the Geometry\n",
    "geo = CSGeometry()\n",
    "box = OrthoBrick(Pnt(-1, -1, -1), Pnt(1, 1, 1))\n",
    "geo.Add(box)\n",
    "mesh = Mesh(geo.GenerateMesh(maxh=0.2))\n",
    "# Draw(mesh)"
   ]
  },
  {
   "cell_type": "code",
   "execution_count": 114,
   "metadata": {},
   "outputs": [],
   "source": [
    "V_k = HCurl(mesh, order=order, type1=True)  # For 1-forms, H(curl)\n",
    "V_km1 = H1(mesh, order=order)\n",
    "\n",
    "prodSpc = V_k * V_km1\n",
    "\n",
    "omega, sigma = prodSpc.TrialFunction()\n",
    "eta, tau = prodSpc.TestFunction()\n",
    "\n",
    "h_min_bnd = min(Integrate(1, mesh, BND, element_wise=True))\n",
    "# print(h_min_bnd)"
   ]
  },
  {
   "cell_type": "code",
   "execution_count": 115,
   "metadata": {},
   "outputs": [],
   "source": [
    "a = BilinearForm(prodSpc)\n",
    "\n",
    "a += sigma * tau * dx\n",
    "a += - omega * grad(tau) * dx\n",
    "\n",
    "a +=  grad(sigma) * eta * dx\n",
    "a +=  curl(omega) * curl(eta) * dx"
   ]
  },
  {
   "cell_type": "markdown",
   "metadata": {},
   "source": [
    "Lets unpack the first boundary term from (2c):\n",
    "\n",
    "$$\n",
    "+ \\, \\int_{\\Gamma} \\text{tr}(\\star d\\omega_h) \\wedge \\text{tr}(\\eta_h) \\tag{2c.1}\n",
    "$$\n",
    "\n",
    "If we consider the k-forms in 3D to be: \n",
    "\n",
    "$$\n",
    "\\omega , \\eta \\in \\Lambda^1(\\Omega) \\, \\Longleftrightarrow \\, \\omega, \\eta \\in H(\\text{curl}, \\Omega)\n",
    "$$\n",
    "\n",
    "We can plug in the according vector calculus operations and transform them with help from some identities:\n",
    "\n",
    "$$\n",
    "\\begin{aligned}\n",
    "&= \\int_{\\Gamma} (\\text{n} \\times \\nabla \\times \\omega_h) \\cdot \\eta_h \\\\[10pt]\n",
    "\n",
    "&= \\int_{\\Gamma} (\\nabla \\times \\omega_h) \\cdot (\\eta_h \\times \\text{n})\n",
    "\\end{aligned}\n",
    "$$\n",
    "\n"
   ]
  },
  {
   "cell_type": "code",
   "execution_count": 116,
   "metadata": {},
   "outputs": [],
   "source": [
    "n = specialcf.normal(mesh.dim)\n",
    "\n",
    "integrand_2c1 = CF(curl(omega) * Cross(eta, n))\n",
    "a += integrand_2c1 * ds(skeleton=True, definedon=mesh.Boundaries(\".*\"))\n"
   ]
  },
  {
   "cell_type": "markdown",
   "metadata": {},
   "source": [
    "And the second boundary term from (2c):\n",
    "\n",
    "$$\n",
    "\\begin{aligned}\n",
    "&+ \\int_{\\Gamma} \\text{tr} ( \\omega_h ) \\wedge \\text{tr} ( \\star d\\eta_h ) \\tag{2c.2} \\\\[10pt]\n",
    "\n",
    "&=\\int_{\\Gamma} (\\omega_h \\times \\text{n}) \\cdot (\\nabla \\times \\eta_h)\n",
    "\\end{aligned}\n",
    "$$"
   ]
  },
  {
   "cell_type": "code",
   "execution_count": 117,
   "metadata": {},
   "outputs": [],
   "source": [
    "integrand_2c2 = CF( Cross(omega, n) * curl(eta) )\n",
    "a += integrand_2c2 * ds(skeleton=True, definedon=mesh.Boundaries(\".*\"))"
   ]
  },
  {
   "cell_type": "markdown",
   "metadata": {},
   "source": [
    "And the pentalty or stabilization term:\n",
    "\n",
    "$$\n",
    "+ \\, \\frac{C_w}{h} \\langle \\text{tr}\\, \\omega, \\text{tr}\\, \\eta \\rangle_{L^2(\\Gamma)} \\tag{2d.1}\n",
    "$$"
   ]
  },
  {
   "cell_type": "code",
   "execution_count": 118,
   "metadata": {},
   "outputs": [],
   "source": [
    "h_min_bnd = min(Integrate(1, mesh, BND, element_wise=True))\n",
    "\n",
    "tr_omega = Cross(eta, n)\n",
    "tr_eta = Cross(omega, n)\n",
    "\n",
    "a += (C_w / h_min_bnd) * tr_omega * tr_eta * ds(skeleton=True, definedon=mesh.Boundaries(\".*\"))"
   ]
  },
  {
   "cell_type": "markdown",
   "metadata": {},
   "source": [
    "Differential Operator Functions to soften the load on my brain for calculation of hodge laplacian of a manufactured solution"
   ]
  },
  {
   "cell_type": "code",
   "execution_count": 119,
   "metadata": {},
   "outputs": [],
   "source": [
    "def JacobianOfCF(cf):\n",
    "    \"\"\" Function to compute the Jacobi Matrix of a vector coefficient function cf \"\"\"\n",
    "\n",
    "    Jac_u = CF((\n",
    "    cf[0].Diff(x), cf[0].Diff(y), cf[0].Diff(z),\n",
    "    cf[1].Diff(x), cf[1].Diff(y), cf[1].Diff(z),\n",
    "    cf[2].Diff(x), cf[2].Diff(y), cf[2].Diff(z)\n",
    "    ), dims=(3, 3))\n",
    "\n",
    "    return Jac_u\n",
    "\n",
    "def GradOfCF(cf):\n",
    "    \"\"\" Function to compute the gradient of a scalar Coefficient Function \"\"\"\n",
    "    grad_u = CF((cf[0].Diff(x), cf[0].Diff(y), cf[0].Diff(z)))\n",
    "    return grad_u\n",
    "\n",
    "def CurlOfCF(cf):\n",
    "    \"\"\" Function to compute the curl of a vector coefficient function using JacobianOfCF \"\"\"\n",
    "    Jac_u = JacobianOfCF(cf)\n",
    "    \n",
    "    curl_u = CF((Jac_u[2,1] - Jac_u[1,2],  \n",
    "                 Jac_u[0,2] - Jac_u[2,0],  \n",
    "                 Jac_u[1,0] - Jac_u[0,1]))\n",
    "    \n",
    "    return curl_u\n",
    "\n",
    "def DivOfCF(cf):\n",
    "    \"\"\" Function to compute the divergence of a vector coefficient function cf \"\"\"\n",
    "    return cf[0].Diff(x) + cf[1].Diff(y) + cf[2].Diff(z)\n"
   ]
  },
  {
   "cell_type": "code",
   "execution_count": 120,
   "metadata": {},
   "outputs": [],
   "source": [
    "A = 0.05  # Amplitude of the pulse\n",
    "sigma_pulse = 0.2  # Width of the Gaussian pulse\n",
    "r0 = (0.5, 0.5, 0.5)  # Center of the Gaussian pulse\n",
    "n_pulse = (1, 0, 0)  # Direction of the pulse (unit vector)\n",
    "\n",
    "gauss_pulse = CF((\n",
    "    A * exp(-((x - r0[0])**2 + (y - r0[1])**2 + (z - r0[2])**2) / (2 * sigma_pulse**2)) * n_pulse[0],\n",
    "    A * exp(-((x - r0[0])**2 + (y - r0[1])**2 + (z - r0[2])**2) / (2 * sigma_pulse**2)) * n_pulse[1],\n",
    "    A * exp(-((x - r0[0])**2 + (y - r0[1])**2 + (z - r0[2])**2) / (2 * sigma_pulse**2)) * n_pulse[2]\n",
    "))\n",
    "\n",
    "# omega_m = CF((sin(pi*x)*sin(pi*y)*sin(pi*z), sin(pi*x)*sin(pi*y)*sin(pi*z), sin(pi*x)*sin(pi*y)*sin(pi*z)))\n",
    "omega_m = gauss_pulse\n",
    "hL_omega = CurlOfCF(CurlOfCF(omega_m)) - GradOfCF(DivOfCF(omega_m))\n",
    "\n",
    "\n",
    "f = LinearForm(prodSpc)\n",
    "f += hL_omega * eta * dx"
   ]
  },
  {
   "cell_type": "markdown",
   "metadata": {},
   "source": []
  },
  {
   "cell_type": "code",
   "execution_count": 121,
   "metadata": {},
   "outputs": [
    {
     "name": "stdout",
     "output_type": "stream",
     "text": [
      "Matrix dimensions: 47901 x 47901\n",
      "Residual:  4.271296599396992e-09\n",
      "L2 Error omega:  0.0007759899579836811\n",
      "L2 Error curl(omega):  0.004743346490355457\n",
      "L2 Error sigma::  0.0020054271293129433\n",
      "L2 Error grad(sigma):  0.05761681258359089\n"
     ]
    }
   ],
   "source": [
    "a.Assemble()\n",
    "f.Assemble()\n",
    "\n",
    "rows,cols,vals = a.mat.COO()\n",
    "A = sp.csr_matrix((vals,(rows,cols)))\n",
    "#cond_nr = np.linalg.cond(A.todense())\n",
    "\n",
    "sol = GridFunction(prodSpc)\n",
    "res = f.vec-a.mat * sol.vec\n",
    "inv = a.mat.Inverse(freedofs=prodSpc.FreeDofs(), inverse=\"pardiso\")\n",
    "sol.vec.data += inv * res\n",
    "\n",
    "gf_omega , gf_sigma = sol.components\n",
    "\n",
    "curl_omega = curl(gf_omega)\n",
    "grad_sigma = grad(gf_sigma)\n",
    "\n",
    "print(\"Matrix dimensions:\", a.mat.height, \"x\", a.mat.width)\n",
    "#print(\"Matrix Condition Number: \", cond_nr)\n",
    "print(\"Residual: \", Norm(res))\n",
    "print(\"L2 Error omega: \", sqrt(Integrate((gf_omega - omega_m)**2, mesh)))\n",
    "print(\"L2 Error curl(omega): \", sqrt(Integrate((curl(gf_omega) - CurlOfCF(omega_m))**2, mesh)))\n",
    "print(\"L2 Error sigma:: \", sqrt(Integrate((gf_sigma + DivOfCF(omega_m))**2, mesh)))\n",
    "print(\"L2 Error grad(sigma): \", sqrt(Integrate((grad(gf_sigma) + GradOfCF(DivOfCF(omega_m)))**2, mesh)))\n",
    "\n"
   ]
  },
  {
   "cell_type": "markdown",
   "metadata": {},
   "source": []
  }
 ],
 "metadata": {
  "kernelspec": {
   "display_name": "Python 3",
   "language": "python",
   "name": "python3"
  },
  "language_info": {
   "codemirror_mode": {
    "name": "ipython",
    "version": 3
   },
   "file_extension": ".py",
   "mimetype": "text/x-python",
   "name": "python",
   "nbconvert_exporter": "python",
   "pygments_lexer": "ipython3",
   "version": "3.8.10"
  }
 },
 "nbformat": 4,
 "nbformat_minor": 2
}
