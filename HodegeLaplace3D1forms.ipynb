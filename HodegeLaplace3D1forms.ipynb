{
 "cells": [
  {
   "cell_type": "code",
   "execution_count": 1,
   "metadata": {},
   "outputs": [],
   "source": [
    "\n",
    "from ngsolve import *\n",
    "from ngsolve.webgui import Draw\n",
    "from netgen.csg import *\n",
    "import scipy.sparse as sp\n",
    "import numpy as np\n",
    "from ngsolve.fem import LeviCivitaSymbol, Einsum\n",
    "\n",
    "from customOperators import GGrad, GCurl, GDiv"
   ]
  },
  {
   "cell_type": "code",
   "execution_count": 2,
   "metadata": {},
   "outputs": [],
   "source": [
    "# Relevant parameters to play around with\n",
    "\n",
    "order = 1 # mesh order\n",
    "max_h = 0.2 # mesh size\n",
    "C_w = 1000# penalty term weight\n",
    "d = 3 # mesh dimension.."
   ]
  },
  {
   "cell_type": "code",
   "execution_count": 3,
   "metadata": {},
   "outputs": [],
   "source": [
    "# 1. Define the Geometry\n",
    "geo = CSGeometry()\n",
    "box = OrthoBrick(Pnt(-1, -1, -1), Pnt(1, 1, 1))\n",
    "geo.Add(box)\n",
    "mesh = Mesh(geo.GenerateMesh(maxh=0.2))\n",
    "# Draw(mesh)"
   ]
  },
  {
   "cell_type": "code",
   "execution_count": 4,
   "metadata": {},
   "outputs": [],
   "source": [
    "V_k = HCurl(mesh, order=order, type1=True)  # For 1-forms, H(curl)\n",
    "V_km1 = H1(mesh, order=order)\n",
    "\n",
    "prodSpc = V_k * V_km1\n",
    "\n",
    "omega, sigma = prodSpc.TrialFunction()\n",
    "eta, tau = prodSpc.TestFunction()"
   ]
  },
  {
   "cell_type": "code",
   "execution_count": 5,
   "metadata": {},
   "outputs": [],
   "source": [
    "a = BilinearForm(prodSpc)\n",
    "\n",
    "a += sigma * tau * dx\n",
    "a += - omega * grad(tau) * dx\n",
    "\n",
    "a +=  grad(sigma) * eta * dx\n",
    "a +=  curl(omega) * curl(eta) * dx"
   ]
  },
  {
   "cell_type": "markdown",
   "metadata": {},
   "source": [
    "Lets unpack the first boundary term from (2c):\n",
    "\n",
    "$$\n",
    "+ \\, \\int_{\\Gamma} \\text{tr}(\\star d\\omega_h) \\wedge \\text{tr}(\\eta_h) \\tag{2c.1}\n",
    "$$\n",
    "\n",
    "If we consider the k-forms in 3D to be: \n",
    "\n",
    "$$\n",
    "\\omega , \\eta \\in \\Lambda^1(\\Omega) \\, \\Longleftrightarrow \\, \\omega, \\eta \\in H(\\text{curl}, \\Omega)\n",
    "$$\n",
    "\n",
    "We can plug in the according vector calculus operations and transform them with help from some identities:\n",
    "\n",
    "$$\n",
    "\\begin{aligned}\n",
    "&= \\int_{\\Gamma} (\\text{n} \\times \\nabla \\times \\omega_h) \\cdot \\eta_h \\\\[10pt]\n",
    "\n",
    "&= \\int_{\\Gamma} (\\nabla \\times \\omega_h) \\cdot (\\eta_h \\times \\text{n})\n",
    "\\end{aligned}\n",
    "$$\n",
    "\n"
   ]
  },
  {
   "cell_type": "code",
   "execution_count": 6,
   "metadata": {},
   "outputs": [],
   "source": [
    "n = specialcf.normal(mesh.dim)\n",
    "\n",
    "integrand_2c1 = CF(curl(omega) * Cross(eta, n))\n",
    "a += integrand_2c1 * ds(skeleton=True, definedon=mesh.Boundaries(\".*\"))\n"
   ]
  },
  {
   "cell_type": "markdown",
   "metadata": {},
   "source": [
    "And the second boundary term from (2c):\n",
    "\n",
    "$$\n",
    "\\begin{aligned}\n",
    "&+ \\int_{\\Gamma} \\text{tr} ( \\omega_h ) \\wedge \\text{tr} ( \\star d\\eta_h ) \\tag{2c.2} \\\\[10pt]\n",
    "\n",
    "&=\\int_{\\Gamma} (\\omega_h \\times \\text{n}) \\cdot (\\nabla \\times \\eta_h)\n",
    "\\end{aligned}\n",
    "$$"
   ]
  },
  {
   "cell_type": "code",
   "execution_count": 7,
   "metadata": {},
   "outputs": [],
   "source": [
    "integrand_2c2 = CF( Cross(omega, n) * curl(eta) )\n",
    "a += integrand_2c2 * ds(skeleton=True, definedon=mesh.Boundaries(\".*\"))"
   ]
  },
  {
   "cell_type": "markdown",
   "metadata": {},
   "source": [
    "And the pentalty or stabilization term:\n",
    "\n",
    "$$\n",
    "+ \\, \\frac{C_w}{h} \\langle \\text{tr}\\, \\omega, \\text{tr}\\, \\eta \\rangle_{L^2(\\Gamma)} \\tag{2d.1}\n",
    "$$"
   ]
  },
  {
   "cell_type": "code",
   "execution_count": 8,
   "metadata": {},
   "outputs": [],
   "source": [
    "h = specialcf.mesh_size\n",
    "a += (C_w / h) * Cross(omega, n) * Cross(eta, n) * ds(skeleton=True, definedon=mesh.Boundaries(\".*\"))"
   ]
  },
  {
   "cell_type": "code",
   "execution_count": 9,
   "metadata": {},
   "outputs": [],
   "source": [
    "A = 0.05  # Amplitude of the pulse\n",
    "sigma_pulse = 0.2  # Width of the Gaussian pulse\n",
    "r0 = (0.5, 0.5, 0.5)  # Center of the Gaussian pulse\n",
    "n_pulse = (1, 0, 0)  # Direction of the pulse (unit vector)\n",
    "\n",
    "gauss_pulse = CF((\n",
    "    A * exp(-((x - r0[0])**2 + (y - r0[1])**2 + (z - r0[2])**2) / (2 * sigma_pulse**2)) * n_pulse[0],\n",
    "    A * exp(-((x - r0[0])**2 + (y - r0[1])**2 + (z - r0[2])**2) / (2 * sigma_pulse**2)) * n_pulse[1],\n",
    "    A * exp(-((x - r0[0])**2 + (y - r0[1])**2 + (z - r0[2])**2) / (2 * sigma_pulse**2)) * n_pulse[2]\n",
    "))\n",
    "\n",
    "omega_m = CF((sin(pi*x)*sin(pi*y)*sin(pi*z), \n",
    "              sin(pi*x)*sin(pi*y)*sin(pi*z), \n",
    "              sin(pi*x)*sin(pi*y)*sin(pi*z)))\n",
    "\n",
    "omega_m = gauss_pulse\n",
    "hL_omega = GCurl(GCurl(omega_m, d), d) - GGrad(GDiv(omega_m, d), d)\n",
    "\n",
    "\n",
    "f = LinearForm(prodSpc)\n",
    "f += hL_omega * eta * dx"
   ]
  },
  {
   "cell_type": "markdown",
   "metadata": {},
   "source": []
  },
  {
   "cell_type": "code",
   "execution_count": 10,
   "metadata": {},
   "outputs": [
    {
     "name": "stdout",
     "output_type": "stream",
     "text": [
      "Matrix dimensions: 8929 x 8929\n",
      "Residual:  4.467980713022058e-09\n",
      "L2 Error omega:  0.003317477947890036\n",
      "L2 Error curl(omega):  0.01939065792961446\n",
      "L2 Error sigma::  0.009372684261690498\n",
      "L2 Error grad(sigma):  0.15614502330415353\n"
     ]
    }
   ],
   "source": [
    "a.Assemble()\n",
    "f.Assemble()\n",
    "\n",
    "rows,cols,vals = a.mat.COO()\n",
    "A = sp.csr_matrix((vals,(rows,cols)))\n",
    "#cond_nr = np.linalg.cond(A.todense())\n",
    "\n",
    "sol = GridFunction(prodSpc)\n",
    "res = f.vec-a.mat * sol.vec\n",
    "inv = a.mat.Inverse(freedofs=prodSpc.FreeDofs(), inverse=\"pardiso\")\n",
    "sol.vec.data += inv * res\n",
    "\n",
    "gf_omega , gf_sigma = sol.components\n",
    "\n",
    "curl_omega = curl(gf_omega)\n",
    "grad_sigma = grad(gf_sigma)\n",
    "\n",
    "print(\"Matrix dimensions:\", a.mat.height, \"x\", a.mat.width)\n",
    "#print(\"Matrix Condition Number: \", cond_nr)\n",
    "print(\"Residual: \", Norm(res))\n",
    "print(\"L2 Error omega: \", sqrt(Integrate((gf_omega - omega_m)**2, mesh)))\n",
    "print(\"L2 Error curl(omega): \", sqrt(Integrate((curl(gf_omega) - GCurl(omega_m, d))**2, mesh)))\n",
    "print(\"L2 Error sigma:: \", sqrt(Integrate((gf_sigma + GDiv(omega_m, d))**2, mesh)))\n",
    "print(\"L2 Error grad(sigma): \", sqrt(Integrate((grad(gf_sigma) + GGrad(GDiv(omega_m, d), d))**2, mesh)))\n",
    "\n"
   ]
  },
  {
   "cell_type": "code",
   "execution_count": 11,
   "metadata": {},
   "outputs": [
    {
     "data": {
      "application/vnd.jupyter.widget-view+json": {
       "model_id": "03463d4e404447d9bfd5c0fe23240e83",
       "version_major": 2,
       "version_minor": 0
      },
      "text/plain": [
       "WebGuiWidget(layout=Layout(height='50vh', width='100%'), value={'gui_settings': {}, 'ngsolve_version': '6.2.24…"
      ]
     },
     "metadata": {},
     "output_type": "display_data"
    },
    {
     "data": {
      "text/plain": [
       "BaseWebGuiScene"
      ]
     },
     "execution_count": 11,
     "metadata": {},
     "output_type": "execute_result"
    }
   ],
   "source": [
    "Draw(gf_omega)"
   ]
  },
  {
   "cell_type": "markdown",
   "metadata": {},
   "source": []
  }
 ],
 "metadata": {
  "kernelspec": {
   "display_name": "Python 3",
   "language": "python",
   "name": "python3"
  },
  "language_info": {
   "codemirror_mode": {
    "name": "ipython",
    "version": 3
   },
   "file_extension": ".py",
   "mimetype": "text/x-python",
   "name": "python",
   "nbconvert_exporter": "python",
   "pygments_lexer": "ipython3",
   "version": "3.8.10"
  }
 },
 "nbformat": 4,
 "nbformat_minor": 2
}
