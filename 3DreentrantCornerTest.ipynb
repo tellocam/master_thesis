{
 "cells": [
  {
   "cell_type": "code",
   "execution_count": 3,
   "metadata": {},
   "outputs": [],
   "source": [
    "# we load the things!\n",
    "\n",
    "from ngsolve import *\n",
    "from ngsolve.webgui import Draw\n",
    "#from netgen.csg import * \n",
    "from netgen.geom2d import SplineGeometry\n",
    "\n",
    "from netgen.occ import *\n",
    "#from netgen.meshing import *\n",
    "\n",
    "import scipy.sparse as sp\n",
    "from scipy.optimize import curve_fit\n",
    "import numpy as np\n",
    "\n",
    "import pandas as pd\n",
    "import matplotlib.pyplot as plt\n",
    "import psutil\n",
    "\n",
    "import os\n",
    "\n"
   ]
  },
  {
   "cell_type": "code",
   "execution_count": 4,
   "metadata": {},
   "outputs": [],
   "source": [
    "def createGeometry(hmax):\n",
    "\n",
    "    largeBrick = Box(Pnt(-0.5, -0.5,-0.5), Pnt(0.5, 0.5, 0.5))\n",
    "    smallBrick = Box(Pnt(-0.5, -0.5,-0.5), Pnt(0, 0, 0))\n",
    "\n",
    "    reentrantCornerGeo3D = largeBrick - smallBrick\n",
    "    # Here instead of the following mesh command, I think I need to implement a structured mesh with the manual mesh generation approach.\n",
    "    mesh = Mesh(OCCGeometry(reentrantCornerGeo3D).GenerateMesh(maxh=hmax))\n",
    "\n",
    "    return mesh"
   ]
  },
  {
   "cell_type": "code",
   "execution_count": 6,
   "metadata": {},
   "outputs": [
    {
     "data": {
      "application/vnd.jupyter.widget-view+json": {
       "model_id": "29b376848e024fc5bc2b8c9ec29bd980",
       "version_major": 2,
       "version_minor": 0
      },
      "text/plain": [
       "WebGuiWidget(layout=Layout(height='50vh', width='100%'), value={'gui_settings': {}, 'ngsolve_version': '6.2.25…"
      ]
     },
     "metadata": {},
     "output_type": "display_data"
    },
    {
     "data": {
      "text/plain": [
       "BaseWebGuiScene"
      ]
     },
     "execution_count": 6,
     "metadata": {},
     "output_type": "execute_result"
    }
   ],
   "source": [
    "mesh = createGeometry(0.5)\n",
    "mesh.Refine()\n",
    "mesh.Refine()\n",
    "\n",
    "mesh.GetBoundaries()\n",
    "Draw(mesh)"
   ]
  }
 ],
 "metadata": {
  "kernelspec": {
   "display_name": "Python (academicVenv)",
   "language": "python",
   "name": "academicvenv"
  },
  "language_info": {
   "codemirror_mode": {
    "name": "ipython",
    "version": 3
   },
   "file_extension": ".py",
   "mimetype": "text/x-python",
   "name": "python",
   "nbconvert_exporter": "python",
   "pygments_lexer": "ipython3",
   "version": "3.12.3"
  }
 },
 "nbformat": 4,
 "nbformat_minor": 2
}
