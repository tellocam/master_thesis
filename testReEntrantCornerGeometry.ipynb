{
 "cells": [
  {
   "cell_type": "code",
   "execution_count": 4,
   "metadata": {},
   "outputs": [],
   "source": [
    "# we load the things!\n",
    "\n",
    "from ngsolve import *\n",
    "from ngsolve.webgui import Draw\n",
    "from netgen.csg import * \n",
    "from netgen.occ import WorkPlane, OCCGeometry\n",
    "\n",
    "#from ngsolve.meshes import MakeStructured2DMesh\n",
    "#from netgen.geom2d import SplineGeometry"
   ]
  },
  {
   "cell_type": "code",
   "execution_count": 5,
   "metadata": {},
   "outputs": [
    {
     "ename": "AttributeError",
     "evalue": "'ngsolve.comp.Mesh' object has no attribute 'SetBCName'",
     "output_type": "error",
     "traceback": [
      "\u001b[0;31m---------------------------------------------------------------------------\u001b[0m",
      "\u001b[0;31mAttributeError\u001b[0m                            Traceback (most recent call last)",
      "Cell \u001b[0;32mIn [5], line 24\u001b[0m\n\u001b[1;32m     22\u001b[0m \u001b[38;5;66;03m# Generate a mesh from the geometry\u001b[39;00m\n\u001b[1;32m     23\u001b[0m mesh \u001b[38;5;241m=\u001b[39m Mesh(geometry\u001b[38;5;241m.\u001b[39mGenerateMesh(maxh\u001b[38;5;241m=\u001b[39m\u001b[38;5;241m0.5\u001b[39m))\n\u001b[0;32m---> 24\u001b[0m \u001b[43mmesh\u001b[49m\u001b[38;5;241;43m.\u001b[39;49m\u001b[43mSetBCName\u001b[49m(\u001b[38;5;241m0\u001b[39m, \u001b[38;5;124m\"\u001b[39m\u001b[38;5;124mBottom\u001b[39m\u001b[38;5;124m\"\u001b[39m)  \u001b[38;5;66;03m# Boundary index 0 gets name \"Bottom\"\u001b[39;00m\n\u001b[1;32m     25\u001b[0m mesh\u001b[38;5;241m.\u001b[39mGetBoundaries()\n\u001b[1;32m     26\u001b[0m mesh\u001b[38;5;241m.\u001b[39mRefine()\n",
      "\u001b[0;31mAttributeError\u001b[0m: 'ngsolve.comp.Mesh' object has no attribute 'SetBCName'"
     ]
    }
   ],
   "source": [
    "from netgen.occ import WorkPlane, OCCGeometry\n",
    "\n",
    "# Define the 2D geometry using WorkPlane\n",
    "wp = WorkPlane()\n",
    "\n",
    "# Add lines to create a re-entrant corner\n",
    "wp.MoveTo(0, 0)       # Starting point\n",
    "wp.LineTo(0, 0.5)\n",
    "wp.LineTo(-0.5, 0.5)  # Adjust this point to avoid crossing\n",
    "wp.LineTo(-0.5, -0.5)\n",
    "wp.LineTo(0.5, -0.5)\n",
    "wp.LineTo(0.5, 0)\n",
    "wp.LineTo(0, 0)\n",
    "wp.Close()            # Properly close the loop\n",
    "# Create a 2D face from the WorkPlane\n",
    "shape = wp.Face()\n",
    "\n",
    "# Create the OCCGeometry object\n",
    "geometry = OCCGeometry(shape, dim=2)\n",
    "\n",
    "\n",
    "# Generate a mesh from the geometry\n",
    "mesh = Mesh(geometry.GenerateMesh(maxh=0.5))\n",
    "mesh.SetBCName(0, \"Bottom\")  # Boundary index 0 gets name \"Bottom\"\n",
    "mesh.GetBoundaries()\n",
    "mesh.Refine()"
   ]
  },
  {
   "cell_type": "code",
   "execution_count": 8,
   "metadata": {},
   "outputs": [
    {
     "data": {
      "application/vnd.jupyter.widget-view+json": {
       "model_id": "c233800c0425417a99c99ea421a28a53",
       "version_major": 2,
       "version_minor": 0
      },
      "text/plain": [
       "WebGuiWidget(layout=Layout(height='50vh', width='100%'), value={'gui_settings': {}, 'ngsolve_version': '6.2.24…"
      ]
     },
     "metadata": {},
     "output_type": "display_data"
    },
    {
     "data": {
      "text/plain": [
       "BaseWebGuiScene"
      ]
     },
     "execution_count": 8,
     "metadata": {},
     "output_type": "execute_result"
    }
   ],
   "source": [
    "Draw(mesh)"
   ]
  }
 ],
 "metadata": {
  "kernelspec": {
   "display_name": "Python 3",
   "language": "python",
   "name": "python3"
  },
  "language_info": {
   "codemirror_mode": {
    "name": "ipython",
    "version": 3
   },
   "file_extension": ".py",
   "mimetype": "text/x-python",
   "name": "python",
   "nbconvert_exporter": "python",
   "pygments_lexer": "ipython3",
   "version": "3.8.10"
  }
 },
 "nbformat": 4,
 "nbformat_minor": 2
}
