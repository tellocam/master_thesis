{
 "cells": [
  {
   "cell_type": "code",
   "execution_count": null,
   "metadata": {},
   "outputs": [],
   "source": [
    "from ngsolve import *\n",
    "from ngsolve.webgui import Draw\n",
    "from ngsolve.comp import ProxyFunction\n",
    "from ngsolve.fem import CoefficientFunction\n",
    "from netgen.occ import *\n",
    "ProxyFunction.__or__ = lambda a, b: InnerProduct(a, b)\n",
    "CoefficientFunction.__or__ = lambda a, b: InnerProduct(a, b)"
   ]
  },
  {
   "cell_type": "code",
   "execution_count": null,
   "metadata": {},
   "outputs": [],
   "source": [
    "\n",
    "maxh = 0.05\n",
    "order = 2\n",
    "\n",
    "largeBrick = Box(Pnt(-0.5, -0.5,-0.5), Pnt(0.5, 0.5, 0.5))\n",
    "\n",
    "with TaskManager(): \n",
    "    #mesh = Mesh(unit_cube.GenerateMesh(maxh=maxh ))\n",
    "    mesh = Mesh(OCCGeometry(largeBrick).GenerateMesh(maxh=maxh))\n",
    "h1 = H1(mesh, order = order, dirichlet = \"\")\n",
    "hcurl = HCurl(mesh, order = order, type1 = True)\n",
    "\n",
    "fes = hcurl*h1\n",
    "\n",
    "(u,p) , (v,q) = fes.TnT()\n",
    "\n",
    "Cw = Parameter(10**3)\n",
    "h = specialcf.mesh_size\n",
    "n = specialcf.normal(3)\n",
    "\n",
    "def Gn(u): return Cross(n, curl(u))\n",
    "\n",
    "def Gt(u): return Cross(n, Cross(u, n))\n",
    "\n",
    "dS = dx(skeleton  = True, element_vb = BND, definedon=mesh.Boundaries(\".*\"))"
   ]
  },
  {
   "cell_type": "code",
   "execution_count": 3,
   "metadata": {},
   "outputs": [],
   "source": [
    "coords = [x,y,z]\n",
    "\n",
    "def JacobianOfCF(cf):\n",
    "    \"\"\" Function to compute the Jacobi Matrix of a vector coefficient function cf \"\"\"\n",
    "\n",
    "    Jac_u_3D = CF((\n",
    "    cf[0].Diff(x), cf[0].Diff(y), cf[0].Diff(z),\n",
    "    cf[1].Diff(x), cf[1].Diff(y), cf[1].Diff(z),\n",
    "    cf[2].Diff(x), cf[2].Diff(y), cf[2].Diff(z)\n",
    "    ), dims=(3, 3))\n",
    "\n",
    "    return Jac_u_3D\n",
    "\n",
    "def GGrad(cf):\n",
    "    \"\"\" Function to compute the gradient of a scalar Coefficient Function \"\"\"\n",
    "    gg = [cf.Diff(coords[i]) for i in range(mesh.dim)]\n",
    "    return CF(tuple(gg))\n",
    "\n",
    "\n",
    "def GCurl(cf):\n",
    "    \"\"\" Function to compute the curl or rot of vec cf using Jacobian \"\"\"\n",
    "\n",
    "    if cf.dim == 1: # if the functions is getting handed a scalar field, its to calculate the curl of the rot..\n",
    "        curl_rot_u = CF((cf.Diff(y), - cf.Diff(x)))\n",
    "        return curl_rot_u\n",
    "\n",
    "    elif mesh.dim == 2:\n",
    "        rot_u = CF(cf[1].Diff(x) - cf[0].Diff(y))\n",
    "        return rot_u\n",
    "    \n",
    "    elif mesh.dim == 3:\n",
    "        Jac_u = JacobianOfCF(cf)\n",
    "        curl_u = CF((Jac_u[2,1] - Jac_u[1,2],  \n",
    "                    Jac_u[0,2] - Jac_u[2,0],  \n",
    "                    Jac_u[1,0] - Jac_u[0,1]))\n",
    "        return curl_u\n",
    "    \n",
    "\n",
    "def GDiv(cf):\n",
    "    \"\"\" Function to compute the divergence of a vector coefficient function \"\"\"\n",
    "\n",
    "    gd = [cf[i].Diff(coords[i]) for i in range(cf.dim)]\n",
    "    return CF(sum(gd))\n",
    "\n",
    "g = CF((x**2 * sin(z) * cos(y), \n",
    "        2 * z**3 * sin(x) * cos(1/3*z),\n",
    "        -y**2 *-cos(3*z)*sin(x)         ))\n",
    "\n",
    "ff = CF(GCurl(GCurl(g)) - GGrad(GDiv(g))).Compile()\n"
   ]
  },
  {
   "cell_type": "code",
   "execution_count": null,
   "metadata": {},
   "outputs": [],
   "source": []
  },
  {
   "cell_type": "code",
   "execution_count": 4,
   "metadata": {},
   "outputs": [],
   "source": [
    "b = BilinearForm(fes)\n",
    "\n",
    "b += (curl(u)|curl(v)) *dx\n",
    "b += (Gt(v)|Gn(u)) *dS\n",
    "b += (Gt(u)|Gn(v)) *dS\n",
    "b += (u|Grad(q)) *dx\n",
    "b += (v|Grad(p)) *dx\n",
    "b += Cw/h *(Gt(u)|Gt(v)) *dS\n",
    "b += -(p|q) *ds\n",
    "\n",
    "with TaskManager(): \n",
    "    b.Assemble()\n",
    "\n",
    "\n"
   ]
  },
  {
   "cell_type": "code",
   "execution_count": 5,
   "metadata": {},
   "outputs": [],
   "source": [
    "#g = -pi**2*CF((1,0,0))*sin(pi*x)*sin(pi*y)*sin(pi*z)\n",
    "\n",
    "f = LinearForm(fes)\n",
    "f += (ff|v) *dx\n",
    "\n",
    "with TaskManager():\n",
    "    f.Assemble()"
   ]
  },
  {
   "cell_type": "code",
   "execution_count": 6,
   "metadata": {},
   "outputs": [],
   "source": [
    "with TaskManager():\n",
    "    blocks = fes.CreateSmoothingBlocks()\n",
    "    prebj = b.mat.CreateBlockSmoother(blocks)\n",
    "\n"
   ]
  },
  {
   "cell_type": "code",
   "execution_count": 7,
   "metadata": {},
   "outputs": [
    {
     "name": "stdout",
     "output_type": "stream",
     "text": [
      "\u001b[2KGMRes converged in 184 iterations to residual 3.4789613585097663e-13\n"
     ]
    }
   ],
   "source": [
    "gf = GridFunction(fes)\n",
    "\n",
    "from ngsolve.solvers import GMRes\n",
    "with TaskManager():\n",
    "    GMRes(A =b.mat,x= gf.vec, b=f.vec,pre = prebj,  printrates=\"\\r\", maxsteps = 1000) "
   ]
  },
  {
   "cell_type": "code",
   "execution_count": 8,
   "metadata": {},
   "outputs": [
    {
     "data": {
      "application/vnd.jupyter.widget-view+json": {
       "model_id": "ddf7c7834848410498ef319de5707745",
       "version_major": 2,
       "version_minor": 0
      },
      "text/plain": [
       "WebGuiWidget(layout=Layout(height='50vh', width='100%'), value={'gui_settings': {}, 'ngsolve_version': '6.2.24…"
      ]
     },
     "metadata": {},
     "output_type": "display_data"
    },
    {
     "data": {
      "text/plain": [
       "BaseWebGuiScene"
      ]
     },
     "execution_count": 8,
     "metadata": {},
     "output_type": "execute_result"
    }
   ],
   "source": [
    "gfu, gfp = gf.components\n",
    "Draw(Norm(gfu), mesh, \"gfu\", clipping = {\"z\":-1, \"function\":True})"
   ]
  },
  {
   "cell_type": "code",
   "execution_count": 9,
   "metadata": {},
   "outputs": [
    {
     "data": {
      "application/vnd.jupyter.widget-view+json": {
       "model_id": "24d312cbd642480d9c1c134b287d1144",
       "version_major": 2,
       "version_minor": 0
      },
      "text/plain": [
       "WebGuiWidget(layout=Layout(height='50vh', width='100%'), value={'gui_settings': {}, 'ngsolve_version': '6.2.24…"
      ]
     },
     "metadata": {},
     "output_type": "display_data"
    },
    {
     "data": {
      "text/plain": [
       "BaseWebGuiScene"
      ]
     },
     "execution_count": 9,
     "metadata": {},
     "output_type": "execute_result"
    }
   ],
   "source": [
    "Draw(gfp, mesh, \"gfu\", clipping = {\"z\":-1, \"function\":True})"
   ]
  },
  {
   "cell_type": "code",
   "execution_count": 10,
   "metadata": {},
   "outputs": [
    {
     "data": {
      "application/vnd.jupyter.widget-view+json": {
       "model_id": "38a44a9295b5479e85c3d882a3fb8635",
       "version_major": 2,
       "version_minor": 0
      },
      "text/plain": [
       "WebGuiWidget(layout=Layout(height='50vh', width='100%'), value={'gui_settings': {}, 'ngsolve_version': '6.2.24…"
      ]
     },
     "metadata": {},
     "output_type": "display_data"
    },
    {
     "data": {
      "text/plain": [
       "BaseWebGuiScene"
      ]
     },
     "execution_count": 10,
     "metadata": {},
     "output_type": "execute_result"
    }
   ],
   "source": [
    "Draw(ff - gfu, mesh, \"gfu\", clipping = {\"z\":-1, \"function\":True})"
   ]
  },
  {
   "cell_type": "code",
   "execution_count": null,
   "metadata": {},
   "outputs": [],
   "source": []
  }
 ],
 "metadata": {
  "kernelspec": {
   "display_name": "Python (academicVenv)",
   "language": "python",
   "name": "academicvenv"
  },
  "language_info": {
   "codemirror_mode": {
    "name": "ipython",
    "version": 3
   },
   "file_extension": ".py",
   "mimetype": "text/x-python",
   "name": "python",
   "nbconvert_exporter": "python",
   "pygments_lexer": "ipython3",
   "version": "3.12.3"
  }
 },
 "nbformat": 4,
 "nbformat_minor": 2
}
