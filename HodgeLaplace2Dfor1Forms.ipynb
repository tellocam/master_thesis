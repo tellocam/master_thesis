{
 "cells": [
  {
   "cell_type": "code",
   "execution_count": 385,
   "metadata": {},
   "outputs": [],
   "source": [
    "from IPython.display import display\n",
    "from ngsolve import *\n",
    "from ngsolve.webgui import Draw\n",
    "from netgen.csg import *\n",
    "import netgen.gui"
   ]
  },
  {
   "cell_type": "code",
   "execution_count": 386,
   "metadata": {},
   "outputs": [
    {
     "name": "stdout",
     "output_type": "stream",
     "text": [
      " Face 1 / 1 (parameter space projection)\n"
     ]
    },
    {
     "data": {
      "text/plain": [
       "(134, 226)"
      ]
     },
     "execution_count": 386,
     "metadata": {},
     "output_type": "execute_result"
    }
   ],
   "source": [
    "mesh = Mesh(unit_square.GenerateMesh(maxh=0.1))\n",
    "mesh.nv, mesh.ne   # number of vertices & elements"
   ]
  },
  {
   "cell_type": "code",
   "execution_count": 387,
   "metadata": {},
   "outputs": [],
   "source": [
    "order = 1\n",
    "fes_curl = HCurl(mesh, order=order, type1=True)  # For 1-forms, H(curl)\n",
    "fes_H1 = H1(mesh, order=order)     # For 0-forms, H1 space\n",
    "\n",
    "prodSpc = fes_curl * fes_H1\n",
    "\n",
    "# Trial and test functions for product space (HCurl and HDiv components)\n",
    "omega_HCurl, sigma_H1 = prodSpc.TrialFunction()\n",
    "eta_HCurl, tau_H1 = prodSpc.TestFunction()"
   ]
  },
  {
   "cell_type": "markdown",
   "metadata": {},
   "source": [
    "One of the most important concepts for the Thesis, the De'Rahm complex:\n",
    "\n",
    "(also the concept I need to look up all the time when coding NGSolve for the thesis..)\n",
    "\n",
    "$$\n",
    "\n",
    "0 \\longrightarrow H\\Lambda^0(\\Omega) \\xrightarrow{d} H\\Lambda^1(\\Omega) \\xrightarrow{d} \\dots \\xrightarrow{d} H\\Lambda^n(\\Omega) \\longrightarrow 0\n",
    "\n",
    "$$\n",
    "\n",
    "$$\n",
    "\n",
    "0 \\longrightarrow H^1(\\Omega) \\xrightarrow{\\text{grad}} H(\\text{curl}, \\Omega) \\xrightarrow{\\text{curl}} H(\\text{div}, \\Omega) \\xrightarrow{\\text{div}} L^2(\\Omega) \\longrightarrow 0\n",
    "\n",
    "$$\n",
    "\n",
    "- $H^1(\\Omega)$ are 0-forms or scalars\n",
    "- $H(\\text{curl}, \\Omega)$ are 1-forms or vectorfiels\n",
    "- $H(\\text{div}, \\Omega)$ are covector-valued 2-forms\n",
    "  - Camilos maybe wrong interpretation of \"covector-valued 2-forms in 2D\":\n",
    "  - flux-density on infinitesimal patches in a subset of $\\mathbb{R}^2$"
   ]
  },
  {
   "cell_type": "code",
   "execution_count": 388,
   "metadata": {},
   "outputs": [],
   "source": [
    "# 3. Bilinear forms for H1 and HCurl spaces - Equation (3a)\n",
    "\n",
    "# H1 part (0-forms)\n",
    "a = BilinearForm(prodSpc)\n",
    "a += sigma_H1 * tau_H1 * dx\n",
    "\n",
    "#HCurl part (1-forms)\n",
    "a += - omega_HCurl * grad(tau_H1) * dx "
   ]
  },
  {
   "cell_type": "code",
   "execution_count": 389,
   "metadata": {},
   "outputs": [],
   "source": [
    "# 4. Easy part for equation (3b), the inner products without the boundary parts\n",
    "a +=  grad(sigma_H1) * eta_HCurl * dx\n",
    "a +=  curl(omega_HCurl) * curl(eta_HCurl) * dx"
   ]
  },
  {
   "cell_type": "markdown",
   "metadata": {},
   "source": [
    "Hard part for (3b): The boundary terms, the first one being:\n",
    "\n",
    "$$\n",
    ".. + \\int_{\\partial \\Omega} \\text{tr}(\\star d\\omega_h) \\wedge \\text{tr}(\\eta_h) \n",
    "$$\n",
    "\n",
    "- $\\omega$ and $\\eta$ are both 1-forms\n",
    "- $ \\text{tr}(\\star d\\omega_h) $ \n",
    "- Exterior Derivative of $\\omega$ is the curl, transforms 1-form $\\omega$ to a 2-form.\n",
    "- Hodge Star operator $\\star$ transforms 2-form $\\omega$ to a n-k or here a 0-form.\n",
    "- The wedge product $\\wedge$ of a 0-form (curl of $\\omega$) and the trace of a 1-form \n",
    "  $\\text{tr}(\\eta)$ is simply a multiplication of a scalar by a tangential component.\n",
    "\n",
    "WT: does Trace() give the tangential part or n times the tangential part?\n",
    "valu that shozuld appear (n x curl(u)) * tangentialpart of v\n",
    "can be rewritten -> curl(u) * ( v_tan x n)\n",
    "2 ways: 1. .Trace() but make sure one knows what .Trace() does, whats the result? WT not entirely sure\n",
    "2. just write what you see in n x curl(u) * v"
   ]
  },
  {
   "cell_type": "code",
   "execution_count": 390,
   "metadata": {},
   "outputs": [],
   "source": [
    "t = specialcf.tangential(mesh.dim)\n",
    "n = specialcf.normal(mesh.dim)\n",
    "\n",
    "#a += curl(omega_HCurl) * eta_HCurl.Trace() * t * ds(skeleton=True, definedon = geo.Boundaries('default'))\n",
    "tr_hs_d_omega = CF(omega_HCurl[1].Diff(x) - omega_HCurl[0].Diff(y))\n",
    "tr_eta = CF(eta_HCurl[1]*n[0] - eta_HCurl[0]*n[1])\n",
    "\n",
    "a += tr_hs_d_omega * tr_eta * ds"
   ]
  },
  {
   "cell_type": "markdown",
   "metadata": {},
   "source": [
    "$$\n",
    ".. + \\int_{\\partial \\Omega} \\text{tr} ( \\omega_h ) \\wedge \\text{tr} ( \\star d\\eta_h )\n",
    "$$\n",
    "We want to arrive at the correct computation of the terms in the boundary integral.\n",
    "We'll do the computations step by step to have a look at whats going on inside the Integral!\n",
    "\n",
    "$$\n",
    "\\omega , \\eta \\in \\Lambda^1(\\Omega) \\, \\Longleftrightarrow \\, \\omega, \\eta \\in H(\\text{curl}, \\Omega)\n",
    "$$\n",
    "\n",
    "$$\n",
    "\\text{d} \\omega \\in \\Lambda^2(\\omega) \\, \\Longleftrightarrow \\, \\text{curl}(\\omega) \\in H(\\text{div} , \\Omega)\n",
    "$$"
   ]
  },
  {
   "cell_type": "code",
   "execution_count": 391,
   "metadata": {},
   "outputs": [],
   "source": [
    "# Turns out the hard part was the \"skeleton=True\" part lol, now this SHOULD be easy.\n",
    "# Again wrong, turns out the Hard part was to find the equivalent vector calculus expressions to the differential forms expressions\n",
    "#a += omega_HCurl.Trace() * t * curl(eta_HCurl) * ds(skeleton=True, definedon = geo.Boundaries('default'))\n",
    "\n",
    "tr_omega = CF(omega_HCurl[1]*n[0] - omega_HCurl[0]*n[1])\n",
    "tr_hs_d_eta = CF(eta_HCurl[1].Diff(x) - eta_HCurl[0].Diff(y))\n",
    "\n",
    "a += tr_omega * tr_hs_d_eta * ds\n"
   ]
  },
  {
   "cell_type": "markdown",
   "metadata": {},
   "source": [
    "$$\n",
    ".. + \\frac{C_w}{h} \\langle \\text{tr}\\, \\omega, \\text{tr}\\, \\eta \\rangle_{\\partial \\Omega}\n",
    "$$"
   ]
  },
  {
   "cell_type": "code",
   "execution_count": 392,
   "metadata": {},
   "outputs": [
    {
     "name": "stdout",
     "output_type": "stream",
     "text": [
      "0.09999999999999959\n"
     ]
    }
   ],
   "source": [
    "# Define constant C_w (set the appropriate value for your problem)\n",
    "C_w = 1000  # starting value, adjust as needed\n",
    "h_min = min(Integrate(1, mesh, BND, element_wise=True))\n",
    "print(h_min)\n",
    "\n",
    "# Define the bilinear form for this boundary term\n",
    "#penaltyTerm = BilinearForm(prodSpc)\n",
    "\n",
    "\n",
    "# Boundary integral for the stabilization/penalty term\n",
    "a += (C_w / h_min) * omega_HCurl.Trace() * eta_HCurl.Trace() * ds\n"
   ]
  },
  {
   "cell_type": "markdown",
   "metadata": {},
   "source": [
    "manufactured solution?? lets try..\n",
    "- This is the same solution Jay used in the vector laplacian publication\n",
    "- I think they used this one because it vanishes on the boundary of the unit square\n",
    "- which is very good  because I dont really get how to incorporate non-zero manufactured solutions in all the boundary terms.    \n",
    "\n",
    "\n",
    "$$\n",
    "\\omega_{\\text{exact}} = \\begin{pmatrix} \\sin(\\pi x) \\sin(\\pi y) \\\\ \\sin(\\pi x) \\sin(\\pi y) \\end{pmatrix}\n",
    "$$\n",
    "\n",
    "Need Hodge Laplace for it as well. first term of it:\n",
    "- Exterior Coderivative of a 1-form in 2D: Divergence -> get a 0-form\n",
    "- Taking the Exterior Derivative of a 0-form is equivalent to taking the gradient\n",
    "\n",
    "Second Term:\n",
    "- Exterior Derivative for 1-forms in 2D: Curl -> get a 2-form\n",
    "- Taking the Exterior Coderivative of this 2-form formally gives a 1-form..\n",
    "- Psuedovector operation <-> convention of plus and minus??\n",
    "\n",
    "$$\n",
    "\\Delta_{\\text{H}}\\omega = (d \\delta \\omega + \\delta d \\omega) = \\text{curl}(\\text{rot}(\\omega)) - \\text{grad}(\\text{div}(\\omega)) = \\text{f}\n",
    "$$\n",
    "\n",
    "Let's try to build the right hand sind with this manufactured solution!\n",
    "\n",
    "WT: \"if you program it smartly you only have to code 2 version bcs the dim wont matter!\""
   ]
  },
  {
   "cell_type": "code",
   "execution_count": 393,
   "metadata": {},
   "outputs": [
    {
     "data": {
      "text/plain": [
       "<ngsolve.comp.LinearForm at 0x7fa05baea930>"
      ]
     },
     "execution_count": 393,
     "metadata": {},
     "output_type": "execute_result"
    }
   ],
   "source": [
    "omega_exact = CF( (sin(pi*x)*sin(pi*y), sin(pi*x)*sin(pi*y)))\n",
    "delta_omega = -omega_exact[0].Diff(x)-omega_exact[1].Diff(y)\n",
    "d_delta_omega = CF((delta_omega.Diff(x), delta_omega.Diff(y)))\n",
    "\n",
    "# Compute the exterior derivative -> curl rot (omega) in 2D\n",
    "d_omega = CF(omega_exact[1].Diff(x) - omega_exact[0].Diff(y))\n",
    "#delta_d_omega_x = d_omega.Diff(y)\n",
    "#delta_d_omega_y = - d_omega.Diff(x)\n",
    "delta_d_omega = CF((d_omega.Diff(y), - d_omega.Diff(x)))\n",
    "#delta_d_omega = CF((0, 0))\n",
    "\n",
    "f_rhs = delta_d_omega + d_delta_omega\n",
    "f = LinearForm(prodSpc)\n",
    "f += f_rhs * eta_HCurl * dx\n",
    "\n",
    "a.Assemble()\n",
    "f.Assemble()\n"
   ]
  },
  {
   "cell_type": "code",
   "execution_count": 414,
   "metadata": {},
   "outputs": [
    {
     "data": {
      "image/png": "[encoded data removed]",
      "text/plain": [
       "<Figure size 640x480 with 1 Axes>"
      ]
     },
     "metadata": {},
     "output_type": "display_data"
    },
    {
     "name": "stdout",
     "output_type": "stream",
     "text": [
      "Matrix dimensions: 493 x 493\n",
      "127971334.2750195\n",
      "(127971291.2595121+0j)\n"
     ]
    }
   ],
   "source": [
    "import matplotlib.pyplot as plt\n",
    "import scipy.sparse as sp\n",
    "import numpy as np\n",
    "\n",
    "from scipy.sparse.linalg import svds\n",
    "from scipy.sparse import csr_matrix\n",
    "\n",
    "rows,cols,vals = a.mat.COO()\n",
    "A = sp.csr_matrix((vals,(rows,cols)))\n",
    "plt.spy(A)\n",
    "plt.show()\n",
    "\n",
    "print(\"Matrix dimensions:\", a.mat.height, \"x\", a.mat.width)\n",
    "cond_nr = np.linalg.cond(A.todense())\n",
    "eigVals = np.linalg.eigvals(A.todense())\n",
    "\n",
    "print(cond_nr)\n",
    "print(max(eigVals)/min(eigVals))\n"
   ]
  },
  {
   "cell_type": "code",
   "execution_count": 395,
   "metadata": {},
   "outputs": [
    {
     "name": "stdout",
     "output_type": "stream",
     "text": [
      "6.907774461426252e-14\n"
     ]
    }
   ],
   "source": [
    "sol = GridFunction(prodSpc)\n",
    "res = f.vec-a.mat * sol.vec\n",
    "inv = a.mat.Inverse(freedofs=prodSpc.FreeDofs(), inverse=\"pardiso\")\n",
    "sol.vec.data += inv * res\n",
    "print(Norm(res))"
   ]
  },
  {
   "cell_type": "code",
   "execution_count": 396,
   "metadata": {},
   "outputs": [
    {
     "name": "stdout",
     "output_type": "stream",
     "text": [
      "L2 Error: 0.07104362331354924\n"
     ]
    },
    {
     "data": {
      "application/vnd.jupyter.widget-view+json": {
       "model_id": "daac18ab19e74399b9f6bfcfd5822e95",
       "version_major": 2,
       "version_minor": 0
      },
      "text/plain": [
       "WebGuiWidget(layout=Layout(height='50vh', width='100%'), value={'gui_settings': {}, 'ngsolve_version': '6.2.24…"
      ]
     },
     "metadata": {},
     "output_type": "display_data"
    },
    {
     "data": {
      "text/plain": [
       "BaseWebGuiScene"
      ]
     },
     "execution_count": 396,
     "metadata": {},
     "output_type": "execute_result"
    }
   ],
   "source": [
    "gf_omega , gf_sigma = sol.components\n",
    "\n",
    "print(\"L2 Error:\", sqrt(Integrate((gf_omega - omega_exact)**2, mesh)))\n",
    "#print(gf_omega.vec)\n",
    "Draw(gf_omega)"
   ]
  }
 ],
 "metadata": {
  "kernelspec": {
   "display_name": "Python 3",
   "language": "python",
   "name": "python3"
  },
  "language_info": {
   "codemirror_mode": {
    "name": "ipython",
    "version": 3
   },
   "file_extension": ".py",
   "mimetype": "text/x-python",
   "name": "python",
   "nbconvert_exporter": "python",
   "pygments_lexer": "ipython3",
   "version": "3.8.10"
  }
 },
 "nbformat": 4,
 "nbformat_minor": 2
}
