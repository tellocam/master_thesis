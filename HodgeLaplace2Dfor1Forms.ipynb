{
 "cells": [
  {
   "cell_type": "code",
   "execution_count": 327,
   "metadata": {},
   "outputs": [],
   "source": [
    "from IPython.display import display\n",
    "from ngsolve import *\n",
    "from ngsolve.webgui import Draw\n",
    "from netgen.csg import *"
   ]
  },
  {
   "cell_type": "code",
   "execution_count": 328,
   "metadata": {},
   "outputs": [
    {
     "data": {
      "text/plain": [
       "(39, 56)"
      ]
     },
     "execution_count": 328,
     "metadata": {},
     "output_type": "execute_result"
    }
   ],
   "source": [
    "geo = Mesh(unit_square.GenerateMesh(maxh=0.2))\n",
    "geo.nv, geo.ne   # number of vertices & elements"
   ]
  },
  {
   "cell_type": "code",
   "execution_count": 329,
   "metadata": {},
   "outputs": [],
   "source": [
    "order = 1\n",
    "fes_curl = HCurl(geo, order=order)  # For 1-forms, H(curl)\n",
    "fes_H1 = H1(geo, order=order)     # For 0-forms, H1 space\n",
    "\n",
    "prodSpc = fes_curl * fes_H1\n",
    "\n",
    "# Trial and test functions for product space (HCurl and HDiv components)\n",
    "omega_HCurl, sigma_H1 = prodSpc.TrialFunction() \n",
    "eta_HCurl, tau_H1 = prodSpc.TestFunction()"
   ]
  },
  {
   "cell_type": "markdown",
   "metadata": {},
   "source": [
    "One of the most important concepts for the Thesis, the De'Rahm complex:\n",
    "\n",
    "(also the concept I need to look up all the time when coding NGSolve for the thesis..)\n",
    "\n",
    "$$\n",
    "\n",
    "0 \\longrightarrow H\\Lambda^0(\\Omega) \\xrightarrow{d} H\\Lambda^1(\\Omega) \\xrightarrow{d} \\dots \\xrightarrow{d} H\\Lambda^n(\\Omega) \\longrightarrow 0\n",
    "\n",
    "$$\n",
    "\n",
    "$$\n",
    "\n",
    "0 \\longrightarrow H^1(\\Omega) \\xrightarrow{\\text{grad}} H(\\text{curl}, \\Omega) \\xrightarrow{\\text{curl}} H(\\text{div}, \\Omega) \\xrightarrow{\\text{div}} L^2(\\Omega) \\longrightarrow 0\n",
    "\n",
    "$$\n",
    "\n",
    "- $H^1(\\Omega)$ are 0-forms or scalars\n",
    "- $H(\\text{curl}, \\Omega)$ are 1-forms or vectorfiels\n",
    "- $H(\\text{div}, \\Omega)$ are covector-valued 2-forms\n",
    "  - Camilos maybe wrong interpretation of \"covector-valued 2-forms in 2D\":\n",
    "  - flux-density on infinitesimal patches in a subset of $\\mathbb{R}^2$"
   ]
  },
  {
   "cell_type": "code",
   "execution_count": 330,
   "metadata": {},
   "outputs": [],
   "source": [
    "# 3. Bilinear forms for H1 and HCurl spaces - Equation (3a)\n",
    "\n",
    "# H1 part (0-forms)\n",
    "a = BilinearForm(prodSpc)\n",
    "a += sigma_H1 * tau_H1 * dx \n",
    "\n",
    "#HCurl part (1-forms)\n",
    "a += -omega_HCurl * grad(tau_H1) * dx"
   ]
  },
  {
   "cell_type": "code",
   "execution_count": 331,
   "metadata": {},
   "outputs": [],
   "source": [
    "# 4. Easy part for equation (3b), the inner products without the boundary parts\n",
    "a += grad(sigma_H1) * eta_HCurl * dx\n",
    "a += curl(omega_HCurl) * curl(eta_HCurl) * dx"
   ]
  },
  {
   "cell_type": "markdown",
   "metadata": {},
   "source": [
    "Hard part for (3b): The boundary terms, the first one being:\n",
    "\n",
    "$$\n",
    ".. + \\int_{\\partial \\Omega} \\text{tr}(\\star d\\omega_h) \\wedge \\text{tr}(\\eta_h) \n",
    "$$\n",
    "\n",
    "- $\\omega$ and $\\eta$ are both 1-forms\n",
    "- $ \\text{tr}(\\star d\\omega_h) $ \n",
    "- Exterior Derivative of $\\omega$ is the curl, transforms 1-form $\\omega$ to a 2-form.\n",
    "- Hodge Star operator $\\star$ transforms 2-form $\\omega$ to a n-k or here a 0-form.\n",
    "- The wedge product $\\wedge$ of a 0-form (curl of $\\omega$) and the trace of a 1-form \n",
    "  $\\text{tr}(\\eta)$ is simply a multiplication of a scalar by a tangential component."
   ]
  },
  {
   "cell_type": "code",
   "execution_count": 332,
   "metadata": {},
   "outputs": [],
   "source": [
    "t = specialcf.tangential(2)\n",
    "a += curl(omega_HCurl) * eta_HCurl.Trace() * t * ds(skeleton=True, definedon = geo.Boundaries('default'))"
   ]
  },
  {
   "cell_type": "markdown",
   "metadata": {},
   "source": [
    "$$\n",
    ".. + \\int_{\\partial \\Omega} \\text{tr} \\, \\omega_h \\wedge \\text{tr} \\, \\star d\\eta_h\n",
    "$$"
   ]
  },
  {
   "cell_type": "code",
   "execution_count": 333,
   "metadata": {},
   "outputs": [],
   "source": [
    "# Turns out the hard part was the \"skeleton=True\" part lol, now this SHOULD be easy.\n",
    "a += omega_HCurl.Trace() * t * curl(eta_HCurl) * ds(skeleton=True, definedon = geo.Boundaries('default'))"
   ]
  },
  {
   "cell_type": "markdown",
   "metadata": {},
   "source": [
    "$$\n",
    ".. + \\frac{C_w}{h} \\langle \\text{tr}\\, \\omega, \\text{tr}\\, \\eta \\rangle_{\\partial \\Omega}\n",
    "$$"
   ]
  },
  {
   "cell_type": "code",
   "execution_count": 334,
   "metadata": {},
   "outputs": [],
   "source": [
    "# Define constant C_w (set the appropriate value for your problem)\n",
    "C_w = 10  # starting value, adjust as needed\n",
    "h_min = min(Integrate(1, geo, BND, element_wise=True))\n",
    "\n",
    "# Define the bilinear form for this boundary term\n",
    "#penaltyTerm = BilinearForm(prodSpc)\n",
    "\n",
    "# Boundary integral for the stabilization/penalty term\n",
    "a += (C_w / h_min) * omega_HCurl.Trace() * eta_HCurl.Trace() * ds(skeleton=True, definedon = geo.Boundaries('default'))"
   ]
  },
  {
   "cell_type": "markdown",
   "metadata": {},
   "source": [
    "manufactured solution?? lets try..\n",
    "- This is the same solution Jay used in the vector laplacian publication\n",
    "- I think they used this one because it vanishes on the boundary of the unit square\n",
    "- which is very good  because I dont really get how to incorporate non-zero manufactured solutions in all the boundary terms.    \n",
    "\n",
    "\n",
    "$$\n",
    "\\omega_{\\text{exact}} = \\begin{pmatrix} \\sin(\\pi x) \\sin(\\pi y) \\\\ \\sin(\\pi x) \\sin(\\pi y) \\end{pmatrix}\n",
    "$$\n",
    "\n",
    "Need Hodge Laplace for it as well. first term of it:\n",
    "- Exterior Coderivative of a 1-form in 2D: Divergence -> get a 0-form\n",
    "- Taking the Exterior Derivative of a 0-form is equivalent to taking the gradient\n",
    "\n",
    "Second Term:\n",
    "- Exterior Derivative for 1-forms in 2D: Curl -> get a 2-form\n",
    "- Taking the Exterior Coderivative of this 2-form formally gives a 1-form..\n",
    "- Psuedovector operation <-> convention of plus and minus??\n",
    "\n",
    "$$\n",
    "\\Delta_{\\text{H}}\\omega = (d \\delta \\omega + \\delta d \\omega) = \\text{curl}(\\text{rot}(\\omega)) - \\text{grad}(\\text{div}(\\omega)) = \\text{f}\n",
    "$$\n",
    "\n",
    "Let's try to build the right hand sind with this manufactured solution!"
   ]
  },
  {
   "cell_type": "code",
   "execution_count": 335,
   "metadata": {},
   "outputs": [
    {
     "data": {
      "text/plain": [
       "<ngsolve.comp.LinearForm at 0x7f8350c9aef0>"
      ]
     },
     "execution_count": 335,
     "metadata": {},
     "output_type": "execute_result"
    }
   ],
   "source": [
    "omega_exact = CF( (sin(pi*x)*sin(pi*y), sin(pi*x)*sin(pi*y)))\n",
    "delta_omega = -omega_exact[0].Diff(x)-omega_exact[1].Diff(y)\n",
    "d_delta_omega_x = delta_omega.Diff(x)\n",
    "d_delta_omega_x = delta_omega.Diff(y)\n",
    "d_delta_omega = CF((d_delta_omega_x, d_delta_omega_x))\n",
    "\n",
    "# Compute the exterior derivative -> curl rot (omega) in 2D\n",
    "d_omega = omega_exact[1].Diff(x) - omega_exact[0].Diff(y)\n",
    "delta_d_omega_x = d_omega.Diff(y)\n",
    "delta_d_omega_y = - d_omega.Diff(x)\n",
    "delta_d_omega = CF((delta_d_omega_x, delta_d_omega_y))\n",
    "#delta_d_omega = CF((0, 0))\n",
    "\n",
    "f_rhs = delta_d_omega + d_delta_omega\n",
    "f = LinearForm(prodSpc)\n",
    "f += f_rhs * eta_HCurl * dx\n",
    "\n",
    "a.Assemble()\n",
    "f.Assemble()\n"
   ]
  },
  {
   "cell_type": "code",
   "execution_count": 336,
   "metadata": {},
   "outputs": [
    {
     "data": {
      "image/png": "[encoded data removed]",
      "text/plain": [
       "<Figure size 640x480 with 1 Axes>"
      ]
     },
     "metadata": {},
     "output_type": "display_data"
    },
    {
     "name": "stdout",
     "output_type": "stream",
     "text": [
      "Matrix dimensions: 227 x 227\n"
     ]
    },
    {
     "data": {
      "text/plain": [
       "1.4124674339645229e+22"
      ]
     },
     "execution_count": 336,
     "metadata": {},
     "output_type": "execute_result"
    }
   ],
   "source": [
    "import matplotlib.pyplot as plt\n",
    "import scipy.sparse as sp\n",
    "import numpy as np\n",
    "\n",
    "rows,cols,vals = a.mat.COO()\n",
    "A = sp.csr_matrix((vals,(rows,cols)))\n",
    "plt.spy(A)\n",
    "plt.show()\n",
    "print(\"Matrix dimensions:\", a.mat.height, \"x\", a.mat.width)\n",
    "np.linalg.cond(A.todense())"
   ]
  },
  {
   "cell_type": "code",
   "execution_count": 337,
   "metadata": {},
   "outputs": [
    {
     "name": "stdout",
     "output_type": "stream",
     "text": [
      "nan\n"
     ]
    }
   ],
   "source": [
    "sol = GridFunction(prodSpc)\n",
    "res = f.vec-a.mat * sol.vec\n",
    "inv = a.mat.Inverse(freedofs=prodSpc.FreeDofs(), inverse=\"pardiso\")\n",
    "sol.vec.data += inv * res\n",
    "print(Norm(res))"
   ]
  },
  {
   "cell_type": "code",
   "execution_count": 338,
   "metadata": {},
   "outputs": [
    {
     "name": "stdout",
     "output_type": "stream",
     "text": [
      "L2 Error: nan\n",
      "    -nan\n",
      "    -nan\n",
      "    -nan\n",
      "    -nan\n",
      "    -nan\n",
      "    -nan\n",
      "    -nan\n",
      "    -nan\n",
      "    -nan\n",
      "    -nan\n",
      "    -nan\n",
      "    -nan\n",
      "    -nan\n",
      "    -nan\n",
      "    -nan\n",
      "    -nan\n",
      "    -nan\n",
      "    -nan\n",
      "    -nan\n",
      "    -nan\n",
      "    -nan\n",
      "    -nan\n",
      "    -nan\n",
      "    -nan\n",
      "    -nan\n",
      "    -nan\n",
      "    -nan\n",
      "    -nan\n",
      "    -nan\n",
      "    -nan\n",
      "    -nan\n",
      "    -nan\n",
      "    -nan\n",
      "    -nan\n",
      "    -nan\n",
      "    -nan\n",
      "    -nan\n",
      "    -nan\n",
      "    -nan\n",
      "    -nan\n",
      "    -nan\n",
      "    -nan\n",
      "    -nan\n",
      "    -nan\n",
      "    -nan\n",
      "    -nan\n",
      "    -nan\n",
      "    -nan\n",
      "    -nan\n",
      "    -nan\n",
      "    -nan\n",
      "    -nan\n",
      "    -nan\n",
      "    -nan\n",
      "    -nan\n",
      "    -nan\n",
      "    -nan\n",
      "    -nan\n",
      "    -nan\n",
      "    -nan\n",
      "    -nan\n",
      "    -nan\n",
      "    -nan\n",
      "    -nan\n",
      "    -nan\n",
      "    -nan\n",
      "    -nan\n",
      "    -nan\n",
      "    -nan\n",
      "    -nan\n",
      "    -nan\n",
      "    -nan\n",
      "    -nan\n",
      "    -nan\n",
      "    -nan\n",
      "    -nan\n",
      "    -nan\n",
      "    -nan\n",
      "    -nan\n",
      "    -nan\n",
      "    -nan\n",
      "    -nan\n",
      "    -nan\n",
      "    -nan\n",
      "    -nan\n",
      "    -nan\n",
      "    -nan\n",
      "    -nan\n",
      "    -nan\n",
      "    -nan\n",
      "    -nan\n",
      "    -nan\n",
      "    -nan\n",
      "    -nan\n",
      "    -nan\n",
      "    -nan\n",
      "    -nan\n",
      "    -nan\n",
      "    -nan\n",
      "    -nan\n",
      "    -nan\n",
      "    -nan\n",
      "    -nan\n",
      "    -nan\n",
      "    -nan\n",
      "    -nan\n",
      "    -nan\n",
      "    -nan\n",
      "    -nan\n",
      "    -nan\n",
      "    -nan\n",
      "    -nan\n",
      "    -nan\n",
      "    -nan\n",
      "    -nan\n",
      "    -nan\n",
      "    -nan\n",
      "    -nan\n",
      "    -nan\n",
      "    -nan\n",
      "    -nan\n",
      "    -nan\n",
      "    -nan\n",
      "    -nan\n",
      "    -nan\n",
      "    -nan\n",
      "    -nan\n",
      "    -nan\n",
      "    -nan\n",
      "    -nan\n",
      "    -nan\n",
      "    -nan\n",
      "    -nan\n",
      "    -nan\n",
      "    -nan\n",
      "    -nan\n",
      "    -nan\n",
      "    -nan\n",
      "    -nan\n",
      "    -nan\n",
      "    -nan\n",
      "    -nan\n",
      "    -nan\n",
      "    -nan\n",
      "    -nan\n",
      "    -nan\n",
      "    -nan\n",
      "    -nan\n",
      "    -nan\n",
      "    -nan\n",
      "    -nan\n",
      "    -nan\n",
      "    -nan\n",
      "    -nan\n",
      "    -nan\n",
      "    -nan\n",
      "    -nan\n",
      "    -nan\n",
      "    -nan\n",
      "    -nan\n",
      "    -nan\n",
      "    -nan\n",
      "    -nan\n",
      "    -nan\n",
      "    -nan\n",
      "    -nan\n",
      "    -nan\n",
      "    -nan\n",
      "    -nan\n",
      "    -nan\n",
      "    -nan\n",
      "    -nan\n",
      "    -nan\n",
      "    -nan\n",
      "    -nan\n",
      "    -nan\n",
      "    -nan\n",
      "    -nan\n",
      "    -nan\n",
      "    -nan\n",
      "    -nan\n",
      "    -nan\n",
      "    -nan\n",
      "    -nan\n",
      "    -nan\n",
      "    -nan\n",
      "    -nan\n",
      "    -nan\n",
      "\n",
      "\n"
     ]
    }
   ],
   "source": [
    "gf_omega , gf_sigma = sol.components\n",
    "\n",
    "print(\"L2 Error:\", sqrt(Integrate((gf_omega - omega_exact)**2, geo)))\n",
    "print(gf_omega.vec)"
   ]
  }
 ],
 "metadata": {
  "kernelspec": {
   "display_name": "Python 3",
   "language": "python",
   "name": "python3"
  },
  "language_info": {
   "codemirror_mode": {
    "name": "ipython",
    "version": 3
   },
   "file_extension": ".py",
   "mimetype": "text/x-python",
   "name": "python",
   "nbconvert_exporter": "python",
   "pygments_lexer": "ipython3",
   "version": "3.8.10"
  }
 },
 "nbformat": 4,
 "nbformat_minor": 2
}
