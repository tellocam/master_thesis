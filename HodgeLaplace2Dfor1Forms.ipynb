{
 "cells": [
  {
   "cell_type": "markdown",
   "metadata": {},
   "source": [
    "\n",
    "# Nitsche based enforcement of Dirichlet boundary conditions for the Hodge Laplacian\n",
    "## Author : Camilo Tello Fachin\n",
    "### First implementation for Masters Thesis\n",
    "This is a first Juptyter Notebook with an implementation for the Hodge Laplacian in 2D for 1-forms.\n",
    "\n",
    "Initial Problem, The Hodge-Laplacian in the continuous setting.\n",
    "\n",
    "Let $\\Omega \\subset \\mathbb{R}^d, d= 2,3$ be a bounded Lipschitz domain with $\\Gamma$ as its boundary. Formally, We seek a $k$-form $\\omega$ such that\n",
    "\n",
    "$$\n",
    "\\begin{align}\n",
    "    (\\delta \\text{d} + \\text{d} \\delta)\\omega &= f,  \\quad \\quad \\text{in } \\Omega, \\tag{1a}\\\\\n",
    "    \\text{tr}(\\omega) &= 0, \\quad \\quad \\text{on } \\Gamma,  \\tag{1b} \\\\\n",
    "    \\text{tr} (\\star \\omega) &= 0, \\quad \\quad \\text{on } \\Gamma. \\tag{1c}\n",
    "\\end{align}\n",
    "$$\n",
    "\n",
    "Classically, problems of such character are solved using a mixed formulation. However, due to the conflicting boundary conditions $\\text{tr}(\\star \\omega) = 0$ and $\\text{tr}(\\star \\text{d}\\omega) = 0$ arising from the mixed formulation, a conforming discretizaion is out of the question. Instead here implemented, a Nitsche type method that enforces (1b) via a penalty term.\n",
    "\n",
    "We seek $\\omega_h \\in \\Lambda^k_h(\\Omega)$ and $\\sigma_h \\in \\Lambda^{k-1}_h(\\Omega)$ such that\n",
    "\n",
    "$$\n",
    "\\begin{align}\n",
    "    \\langle \\sigma_h , \\tau_h \\rangle_{L^2(\\Omega)} - \\langle \\omega_h , \\text{d} \\tau_h \\rangle_{L^2(\\Omega)} &= 0, \\tag{2a} \\\\[12pt]\n",
    "\n",
    "    \\langle \\text{d} \\sigma_h , \\eta_h \\rangle_{L^2(\\Omega)} + \\langle \\text{d} \\omega_h , \\text{d} \\text{d} \\eta_h \\rangle_{L^2(\\Omega)} \\tag{2b} \\\\[7pt]\n",
    "    \n",
    "    + \\int_{\\Gamma} \\text{tr}(\\star \\text{d} \\omega_h) \\wedge \\text{tr}(\\eta_h) +  \\int_{\\Gamma} \\text{tr}(\\omega_h) \\wedge \\text{tr}(\\star \\text{d} \\eta_h) \\tag{2c} \\\\[7pt]\n",
    "\n",
    "    + \\frac{\\text{C}_{\\omega}}{\\text{h}} \\langle \\text{tr} \\omega_h , \\text{tr} \\eta_h \\rangle_{L^2(\\Gamma)} &= \\langle f, \\eta_h \\rangle_{L^2(\\Omega)}. \\tag{2d} \n",
    "\n",
    "\n",
    "\\end{align}\n",
    "$$\n",
    "\n",
    "$\\forall \\eta_h \\in \\Lambda^k_h(\\Omega)$ and $ \\forall \\tau_h \\in \\Lambda^{k-1}_h(\\Omega)$.\n",
    "\n",
    "In this notebook, we will see that when $d=2$ and $k=1$,  the differential form spaces $\\Lambda^k_h(\\Omega)$ and $\\Lambda^{k-1}_h(\\Omega)$  can be implemented using Sobolev spaces. Specifically, these spaces correspond to the discrete counterparts of the Sobolev spaces $H(\\text{curl}, \\Omega)$ and $H^1(\\Omega)$, respectively, when expressed through their vector proxies."
   ]
  },
  {
   "cell_type": "code",
   "execution_count": 1,
   "metadata": {},
   "outputs": [],
   "source": [
    "# Load Things! 234\n",
    "\n",
    "from ngsolve import *\n",
    "from ngsolve.webgui import Draw\n",
    "from netgen.csg import *\n",
    "import scipy.sparse as sp\n",
    "import numpy as np"
   ]
  },
  {
   "cell_type": "code",
   "execution_count": 2,
   "metadata": {},
   "outputs": [],
   "source": [
    "# Relevant parameters to play around with\n",
    "order = 2 # mesh order\n",
    "max_h = 1 # mesh size\n",
    "C_w = 10**3# penalty term weight"
   ]
  },
  {
   "cell_type": "markdown",
   "metadata": {},
   "source": [
    "In FEEC, the de Rham complex provides a framework that ensures the exactness of sequences between differential form spaces and their Sobolev space counterparts. Below defined, the differential form spaces and their associated Sobolev spaces, which preserve the structure necessary for the discretization process.\n",
    "\n",
    "$$\n",
    "\n",
    "0 \\longrightarrow H\\Lambda^0(\\Omega) \\xrightarrow{d} H\\Lambda^1(\\Omega) \\xrightarrow{d} \\dots \\xrightarrow{d} H\\Lambda^n(\\Omega) \\longrightarrow 0\n",
    "\n",
    "$$\n",
    "\n",
    "$$\n",
    "\n",
    "0 \\longrightarrow H^1(\\Omega) \\xrightarrow{\\text{grad}} H(\\text{rot}, \\Omega) \\xrightarrow{\\text{rot}} H(\\text{div}, \\Omega) \\xrightarrow{\\text{div}} L^2(\\Omega) \\longrightarrow 0\n",
    "\n",
    "$$\n",
    "\n",
    "Here in this first Jupyter Notebook:\n",
    "- $H^1(\\Omega)$ are 0-forms or scalars\n",
    "- $H(\\text{curl}, \\Omega)$ are 1-forms or vectorfiels\n",
    "\n",
    "In NGSolve, it is standard procedure to introduce a product space for mixed formulations, this translates to adding equations (2a) and (2bcd)."
   ]
  },
  {
   "cell_type": "code",
   "execution_count": 3,
   "metadata": {},
   "outputs": [],
   "source": [
    "mesh = Mesh(unit_square.GenerateMesh(maxh=max_h))\n",
    "mesh.Refine()\n",
    "mesh.Refine()\n",
    "mesh.Refine()\n",
    "mesh.Refine()\n",
    "\n",
    "fes_curl = HCurl(mesh, order=order, type1=False)  # For 1-forms, H(curl)\n",
    "fes_H1 = H1(mesh, order=order+1)     # For 0-forms, H1 space\n",
    "\n",
    "fes = fes_curl * fes_H1 # Product space\n",
    "\n",
    "(omega, sigma), (eta, tau) = fes.TnT()\n",
    "\n",
    "#help(fes_curl)"
   ]
  },
  {
   "cell_type": "markdown",
   "metadata": {},
   "source": [
    "Defined and added to the bilinear form object in the cell below:\n",
    "\n",
    "$$\n",
    "\n",
    "\\langle \\sigma_h , \\tau_h \\rangle_{L^2(\\Omega)} - \\langle \\omega_h , \\text{d} \\tau_h \\rangle_{L^2(\\Omega)} \\tag{2a}\n",
    "\n",
    "$$"
   ]
  },
  {
   "cell_type": "code",
   "execution_count": 4,
   "metadata": {},
   "outputs": [],
   "source": [
    "a = BilinearForm(fes)\n",
    "\n",
    "a += sigma * tau * dx\n",
    "a += - omega * grad(tau) * dx"
   ]
  },
  {
   "cell_type": "markdown",
   "metadata": {},
   "source": [
    "$$\n",
    "\n",
    "+ \\, \\langle \\text{d} \\sigma_h , \\eta_h \\rangle_{L^2(\\Omega)} + \\langle \\text{d} \\omega_h , \\text{d} \\eta_h \\rangle_{L^2(\\Omega)} \\tag{2b}\n",
    "\n",
    "$$"
   ]
  },
  {
   "cell_type": "code",
   "execution_count": 5,
   "metadata": {},
   "outputs": [],
   "source": [
    "a +=  grad(sigma) * eta * dx\n",
    "a +=  curl(omega) * curl(eta) * dx"
   ]
  },
  {
   "cell_type": "markdown",
   "metadata": {},
   "source": [
    "Lets unpack the first boundary term from (2c):\n",
    "\n",
    "$$\n",
    "+ \\, \\int_{\\Gamma} \\text{tr}(\\star d\\omega_h) \\wedge \\text{tr}(\\eta_h) \\tag{2c.1}\n",
    "$$\n",
    "\n",
    "If we consider the k-forms in 2D to be: \n",
    "\n",
    "$$\n",
    "\\omega , \\eta \\in \\Lambda^1(\\Omega) \\, \\Longleftrightarrow \\, \\omega, \\eta \\in H(\\text{curl}, \\Omega)\n",
    "$$\n",
    "\n",
    "We can plug in the according vector calculus operations and transform them with help from some identities:\n",
    "\n",
    "$$\n",
    "\\begin{aligned}\n",
    "&= \\int_{\\Gamma} (\\text{n} \\times \\nabla \\times \\omega_h) \\cdot \\eta_h \\\\[10pt]\n",
    "\n",
    "&= \\int_{\\Gamma} (\\nabla \\times \\omega_h) \\cdot (\\eta_h \\times \\text{n}) \\cdot e_z\\\\[10pt]\n",
    "\n",
    "&= \\int_{\\Gamma} \\text{rot}(\\omega_h) (\\eta_h \\times \\text{n}) \\cdot e_z \\\\[10pt]\n",
    "\n",
    "&= \\int_{\\Gamma} (\\partial_1 \\, \\omega_h^2 - \\partial_2 \\, \\omega_h^1) (\\eta_h^2 \\, \\text{n}^1 - \\eta_h^1 \\, \\text{n}^2) \n",
    "\\end{aligned}\n",
    "$$\n",
    "\n",
    "- superscripts in the last line indicate the components of $\\omega_h$\n",
    "- Exterior Derivative of $\\omega$ is the curl, transforms 1-form $\\omega$ to a 2-form.\n",
    "- Hodge Star operator $\\star$ transforms 2-form $\\omega$ to a n-k or here a 0-form.\n",
    "- The wedge product $\\wedge$ of a 0-form (curl of $\\omega$) and the trace of a 1-form \n",
    "  $\\text{tr}(\\eta)$ is simply a multiplication of a scalar by a tangential component.\n",
    "\n"
   ]
  },
  {
   "cell_type": "code",
   "execution_count": 6,
   "metadata": {},
   "outputs": [],
   "source": [
    "n = specialcf.normal(mesh.dim)\n",
    "t = specialcf.tangential(mesh.dim)\n",
    "\n",
    "a += -curl(omega) * eta.Trace()*t * ds(skeleton = True, definedon=mesh.Boundaries(\".*\"))"
   ]
  },
  {
   "cell_type": "markdown",
   "metadata": {},
   "source": [
    "And the second boundary term from (2c):\n",
    "\n",
    "$$\n",
    "+ \\int_{\\Gamma} \\text{tr} ( \\omega_h ) \\wedge \\text{tr} ( \\star d\\eta_h ) \\tag{2c.2}\n",
    "$$\n",
    "\n",
    "Again plugging in stuff and do the according computations that are the same but the other way around:\n",
    "\n",
    "$$\n",
    "\\begin{aligned}\n",
    "\n",
    "&=\\int_{\\Gamma} (\\omega_h \\times \\text{n}) \\cdot (\\nabla \\times \\eta_h) \\\\[10pt]\n",
    "\n",
    "&= \\int_{\\Gamma} (\\omega_h \\times \\text{n}) \\cdot e_z \\cdot \\text{rot}(\\eta_h) \\\\[10pt]\n",
    "\n",
    "&= \\int_{\\Gamma} (\\omega_h^2 \\, \\text{n}^1 - \\omega_h^1 \\, \\text{n}^2)  (\\partial_1 \\, \\eta_h^2 - \\partial_2 \\, \\eta_h^1)\n",
    "\n",
    "\\end{aligned}\n",
    "$$\n",
    "\n"
   ]
  },
  {
   "cell_type": "code",
   "execution_count": 7,
   "metadata": {},
   "outputs": [],
   "source": [
    "a += omega.Trace()* t * curl(eta) *  ds(skeleton=True, definedon=mesh.Boundaries(\".*\"))"
   ]
  },
  {
   "cell_type": "markdown",
   "metadata": {},
   "source": [
    "And the pentalty or stabilization term:\n",
    "\n",
    "$$\n",
    "+ \\, \\frac{C_w}{h} \\langle \\text{tr}\\, \\omega, \\text{tr}\\, \\eta \\rangle_{L^2(\\Gamma)} \\tag{2d.1}\n",
    "$$"
   ]
  },
  {
   "cell_type": "code",
   "execution_count": 8,
   "metadata": {},
   "outputs": [],
   "source": [
    "h = specialcf.mesh_size #computed on every edge of the boundary integration is way faster than setting a constant\n",
    "a += (C_w / h) * omega.Trace() * t * eta.Trace() * t * ds(skeleton=True, definedon=mesh.Boundaries(\".*\"))"
   ]
  },
  {
   "cell_type": "markdown",
   "metadata": {},
   "source": [
    "For the right hand side $f$ and the last part of (2d), we introduce a manufactured solution. This one us also used to compute $\\lVert \\omega_h - \\omega \\rVert_{L^2(\\Omega)}$. The manufactured solution $\\omega$ is chosen such that it vanishes on the boundary. \n",
    "\n",
    "$$\n",
    "\\omega = \\begin{pmatrix} \\sin(\\pi x) \\sin(\\pi y) \\\\ \\sin(\\pi x) \\sin(\\pi y) \\end{pmatrix}\n",
    "$$\n",
    "\n",
    "In order to incorporate it to the right hand side linear form, we can simply just caluclate the Hodge Laplacian of it.\n",
    "\n",
    "$$\n",
    "\\Delta_{\\text{H}}\\omega = (d \\delta \\omega + \\delta d \\omega) = \\text{curl}(\\text{rot}(\\omega)) - \\text{grad}(\\text{div}(\\omega)) = \\text{f}\n",
    "$$\n",
    "\n",
    "This computed quantity we can now plug into:\n",
    "\n",
    "$$\n",
    "\n",
    "\\langle f, \\eta_h \\rangle_{L^2(\\Omega)}. \\tag{2d.2} \n",
    "\n",
    "$$"
   ]
  },
  {
   "cell_type": "code",
   "execution_count": 9,
   "metadata": {},
   "outputs": [],
   "source": [
    "omega_exact = CF((sin(pi*x)*sin(pi*y), sin(pi*x)*sin(pi*y)))\n",
    "\n",
    "div_omega = CF(omega_exact[0].Diff(x) + omega_exact[1].Diff(y)) # take this *(-1) and you one has sigma manufactured!\n",
    "grad_div_omega = CF((div_omega.Diff(x), div_omega.Diff(y)))\n",
    "\n",
    "rot_omega = CF(omega_exact[1].Diff(x) - omega_exact[0].Diff(y))\n",
    "curl_rot_omega = CF((rot_omega.Diff(y), - rot_omega.Diff(x)))\n",
    "\n",
    "grad_sigma_manufactured = CF((-div_omega.Diff(x), -div_omega.Diff(y)))\n",
    "\n",
    "f_rhs = CF(curl_rot_omega - grad_div_omega)\n",
    "f = LinearForm(fes)\n",
    "f += f_rhs * eta * dx\n",
    "\n"
   ]
  },
  {
   "cell_type": "markdown",
   "metadata": {},
   "source": [
    "- Assemble the matrix $A$ and vector $f$\n",
    "- Calculate the condition number of $A$ just for checking\n",
    "- Solve the system\n",
    "- Print relevant stuff!"
   ]
  },
  {
   "cell_type": "code",
   "execution_count": 10,
   "metadata": {},
   "outputs": [
    {
     "name": "stdout",
     "output_type": "stream",
     "text": [
      "Matrix dimensions: 6622 x 6622\n",
      "Matrix Condition Number:  inf\n",
      "Residual:  2.5868898946005053e-09\n",
      "L2 Error omega: 7.287499901197585e-05\n",
      "L2 Error curl(omega) 0.005546293355337396\n",
      "L2 Error sigma: 0.0013159252631555478\n",
      "L2 Error grad(sigma): 0.16897310145627273\n"
     ]
    }
   ],
   "source": [
    "a.Assemble()\n",
    "f.Assemble()\n",
    "\n",
    "rows,cols,vals = a.mat.COO()\n",
    "A = sp.csr_matrix((vals,(rows,cols)))\n",
    "cond_nr = np.linalg.cond(A.todense())\n",
    "\n",
    "sol = GridFunction(fes)\n",
    "res = f.vec-a.mat * sol.vec\n",
    "inv = a.mat.Inverse(freedofs=fes.FreeDofs(), inverse=\"pardiso\")\n",
    "sol.vec.data += inv * res\n",
    "\n",
    "gf_omega , gf_sigma = sol.components\n",
    "\n",
    "curl_omega = curl(gf_omega)\n",
    "grad_sigma = grad(gf_sigma)\n",
    "\n",
    "print(\"Matrix dimensions:\", a.mat.height, \"x\", a.mat.width)\n",
    "print(\"Matrix Condition Number: \", cond_nr)\n",
    "print(\"Residual: \", Norm(res))\n",
    "print(\"L2 Error omega:\", sqrt(Integrate((gf_omega - omega_exact)**2, mesh)))\n",
    "print(\"L2 Error curl(omega)\", sqrt(Integrate((curl_omega - rot_omega)**2, mesh)))\n",
    "print(\"L2 Error sigma:\", sqrt(Integrate((gf_sigma + div_omega)**2, mesh)))\n",
    "print(\"L2 Error grad(sigma):\", sqrt(Integrate((grad_sigma - grad_sigma_manufactured)**2, mesh)))\n",
    "\n",
    "#print(\"Condition Number: \", cond_nr)"
   ]
  },
  {
   "cell_type": "code",
   "execution_count": 11,
   "metadata": {},
   "outputs": [
    {
     "data": {
      "application/vnd.jupyter.widget-view+json": {
       "model_id": "ad57024428be4b999c5cf075626e0223",
       "version_major": 2,
       "version_minor": 0
      },
      "text/plain": [
       "WebGuiWidget(layout=Layout(height='50vh', width='100%'), value={'gui_settings': {}, 'ngsolve_version': '6.2.24…"
      ]
     },
     "metadata": {},
     "output_type": "display_data"
    },
    {
     "data": {
      "text/plain": [
       "BaseWebGuiScene"
      ]
     },
     "execution_count": 11,
     "metadata": {},
     "output_type": "execute_result"
    }
   ],
   "source": [
    "error_field = GridFunction(fes)\n",
    "error_field = gf_omega - omega_exact\n",
    "Draw(error_field, mesh, \"error\")\n",
    "#\n"
   ]
  }
 ],
 "metadata": {
  "kernelspec": {
   "display_name": "Python 3",
   "language": "python",
   "name": "python3"
  },
  "language_info": {
   "codemirror_mode": {
    "name": "ipython",
    "version": 3
   },
   "file_extension": ".py",
   "mimetype": "text/x-python",
   "name": "python",
   "nbconvert_exporter": "python",
   "pygments_lexer": "ipython3",
   "version": "3.8.10"
  }
 },
 "nbformat": 4,
 "nbformat_minor": 2
}
